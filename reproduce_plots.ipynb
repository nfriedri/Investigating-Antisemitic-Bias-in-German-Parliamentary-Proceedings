{
 "cells": [
  {
   "cell_type": "code",
   "execution_count": 1,
   "metadata": {},
   "outputs": [],
   "source": [
    "import numpy as np\n",
    "import pandas as pd\n",
    "from gensim.models import KeyedVectors, Word2Vec\n",
    "from pathlib import Path\n",
    "import matplotlib.pyplot as plt\n",
    "import seaborn as sns\n",
    "%matplotlib inline\n",
    "\n",
    "from projections import SubspaceProjections, TARGETS_CHRISTIAN, TARGETS_JEWISH\n",
    "import sys\n",
    "sys.path.append('./..')\n",
    "from utils import filter_terms, create_target_sets, create_attribute_sets, load_specifications, load_embedding_dict, CreateSlice, CreateCorpus\n",
    "from plot_utils import set_size\n",
    "import os\n",
    "import itertools\n",
    "os.chdir('..')"
   ]
  },
  {
   "cell_type": "markdown",
   "metadata": {},
   "source": [
    "### Global plotting parameters"
   ]
  },
  {
   "cell_type": "code",
   "execution_count": 2,
   "metadata": {},
   "outputs": [],
   "source": [
    "TEX_FONTS = {\n",
    "    # Use LaTeX to write all text\n",
    "    \"text.usetex\": False,\n",
    "    \"font.family\": \"serif\",\n",
    "    # Use 10pt font in plots, to match 10pt font in document\n",
    "    \"axes.labelsize\": 10,\n",
    "    \"font.size\": 10,\n",
    "    # Make the legend/label fonts a little smaller\n",
    "    \"legend.fontsize\": 8,\n",
    "    \"xtick.labelsize\": 8,\n",
    "    \"ytick.labelsize\": 8\n",
    "}\n",
    "# Figure height and width\n",
    "WIDTH = 360\n",
    "FIG_DIM = set_size(WIDTH)\n",
    "plt.rcParams.update(TEX_FONTS)\n",
    "\n",
    "WIDTH = 360\n",
    "FIG_DIM = set_size(WIDTH)"
   ]
  },
  {
   "cell_type": "markdown",
   "metadata": {},
   "source": [
    "## 1) Plot average and total words over slices"
   ]
  },
  {
   "cell_type": "code",
   "execution_count": 3,
   "metadata": {},
   "outputs": [],
   "source": [
    "# Put word statistics of a corpus into a dictionary \n",
    "def word_stats_dictionary(corpus):\n",
    "    words_per_session = np.array([sum([len(sent.split()) for sent in v]) for v in corpus])\n",
    "    word_stats_dict = {\n",
    "                       'total_words' : words_per_session.sum(),   \n",
    "                       'avg' : round(words_per_session.mean()),\n",
    "                       'std' : round(words_per_session.std()),\n",
    "                       'max' : round(words_per_session.max()),\n",
    "                       'min' : round(words_per_session.min()),\n",
    "                       'lower percentile' : round(np.percentile(words_per_session,25)),\n",
    "                       'median' : round(np.percentile(words_per_session,50)),\n",
    "                       'upper percentile' :round(np.percentile(words_per_session,75))\n",
    "                      }\n",
    "    return word_stats_dict"
   ]
  },
  {
   "cell_type": "markdown",
   "metadata": {},
   "source": [
    "#### Get statistics for processed Reichstag historic slices "
   ]
  },
  {
   "cell_type": "code",
   "execution_count": 3,
   "metadata": {},
   "outputs": [
    {
     "ename": "NameError",
     "evalue": "name 'CreateSlice' is not defined",
     "output_type": "error",
     "traceback": [
      "\u001b[0;31m---------------------------------------------------------------------------\u001b[0m",
      "\u001b[0;31mNameError\u001b[0m                                 Traceback (most recent call last)",
      "\u001b[0;32m<ipython-input-3-ab16f79cd059>\u001b[0m in \u001b[0;36m<module>\u001b[0;34m\u001b[0m\n\u001b[1;32m      2\u001b[0m \u001b[0mhistoric_periods\u001b[0m \u001b[0;34m=\u001b[0m  \u001b[0;34m[\u001b[0m\u001b[0;34m'kaiserreich_1'\u001b[0m\u001b[0;34m,\u001b[0m \u001b[0;34m'kaiserreich_2'\u001b[0m\u001b[0;34m,\u001b[0m \u001b[0;34m'weimar'\u001b[0m\u001b[0;34m,\u001b[0m \u001b[0;34m'ns'\u001b[0m\u001b[0;34m]\u001b[0m\u001b[0;34m\u001b[0m\u001b[0;34m\u001b[0m\u001b[0m\n\u001b[1;32m      3\u001b[0m \u001b[0;32mfor\u001b[0m \u001b[0mperiod\u001b[0m \u001b[0;32min\u001b[0m \u001b[0mhistoric_periods\u001b[0m\u001b[0;34m:\u001b[0m\u001b[0;34m\u001b[0m\u001b[0;34m\u001b[0m\u001b[0m\n\u001b[0;32m----> 4\u001b[0;31m     \u001b[0mcorpus\u001b[0m \u001b[0;34m=\u001b[0m \u001b[0mlist\u001b[0m\u001b[0;34m(\u001b[0m\u001b[0mCreateSlice\u001b[0m\u001b[0;34m(\u001b[0m\u001b[0;34mf'reichstag/{period}_processed/'\u001b[0m\u001b[0;34m,\u001b[0m \u001b[0mprofiling\u001b[0m\u001b[0;34m=\u001b[0m\u001b[0;32mTrue\u001b[0m\u001b[0;34m)\u001b[0m\u001b[0;34m)\u001b[0m\u001b[0;34m\u001b[0m\u001b[0;34m\u001b[0m\u001b[0m\n\u001b[0m\u001b[1;32m      5\u001b[0m     \u001b[0mreichstag_processed\u001b[0m\u001b[0;34m[\u001b[0m\u001b[0mperiod\u001b[0m\u001b[0;34m]\u001b[0m \u001b[0;34m=\u001b[0m \u001b[0mword_stats_dictionary\u001b[0m\u001b[0;34m(\u001b[0m\u001b[0mcorpus\u001b[0m\u001b[0;34m)\u001b[0m\u001b[0;34m\u001b[0m\u001b[0;34m\u001b[0m\u001b[0m\n\u001b[1;32m      6\u001b[0m \u001b[0;34m\u001b[0m\u001b[0m\n",
      "\u001b[0;31mNameError\u001b[0m: name 'CreateSlice' is not defined"
     ]
    }
   ],
   "source": [
    "reichstag_processed = {}\n",
    "historic_periods =  ['kaiserreich_1', 'kaiserreich_2', 'weimar', 'ns']\n",
    "for period in historic_periods:\n",
    "    corpus = list(CreateSlice(f'reichstag/{period}_processed/', profiling=True))\n",
    "    reichstag_processed[period] = word_stats_dictionary(corpus)\n",
    "\n",
    "reichstag_processed = pd.DataFrame(reichstag_processed).T"
   ]
  },
  {
   "cell_type": "markdown",
   "metadata": {},
   "source": [
    "#### Get statistics for processed Bundestag historic slices "
   ]
  },
  {
   "cell_type": "code",
   "execution_count": 21,
   "metadata": {},
   "outputs": [
    {
     "data": {
      "text/html": [
       "<div>\n",
       "<style scoped>\n",
       "    .dataframe tbody tr th:only-of-type {\n",
       "        vertical-align: middle;\n",
       "    }\n",
       "\n",
       "    .dataframe tbody tr th {\n",
       "        vertical-align: top;\n",
       "    }\n",
       "\n",
       "    .dataframe thead th {\n",
       "        text-align: right;\n",
       "    }\n",
       "</style>\n",
       "<table border=\"1\" class=\"dataframe\">\n",
       "  <thead>\n",
       "    <tr style=\"text-align: right;\">\n",
       "      <th></th>\n",
       "      <th>total_words</th>\n",
       "      <th>avg</th>\n",
       "      <th>std</th>\n",
       "      <th>max</th>\n",
       "      <th>min</th>\n",
       "      <th>lower percentile</th>\n",
       "      <th>median</th>\n",
       "      <th>upper percentile</th>\n",
       "    </tr>\n",
       "  </thead>\n",
       "  <tbody>\n",
       "    <tr>\n",
       "      <th>cdu_1</th>\n",
       "      <td>43346629.0</td>\n",
       "      <td>38633.0</td>\n",
       "      <td>21196.0</td>\n",
       "      <td>119442.0</td>\n",
       "      <td>144.0</td>\n",
       "      <td>23200.0</td>\n",
       "      <td>36178.0</td>\n",
       "      <td>52634.0</td>\n",
       "    </tr>\n",
       "    <tr>\n",
       "      <th>spd_1</th>\n",
       "      <td>35208958.0</td>\n",
       "      <td>42420.0</td>\n",
       "      <td>29564.0</td>\n",
       "      <td>119173.0</td>\n",
       "      <td>119.0</td>\n",
       "      <td>15290.0</td>\n",
       "      <td>33846.0</td>\n",
       "      <td>69766.0</td>\n",
       "    </tr>\n",
       "    <tr>\n",
       "      <th>cdu_2</th>\n",
       "      <td>55456943.0</td>\n",
       "      <td>56416.0</td>\n",
       "      <td>33596.0</td>\n",
       "      <td>144762.0</td>\n",
       "      <td>211.0</td>\n",
       "      <td>28645.0</td>\n",
       "      <td>44942.0</td>\n",
       "      <td>89830.0</td>\n",
       "    </tr>\n",
       "    <tr>\n",
       "      <th>spd_2</th>\n",
       "      <td>28771286.0</td>\n",
       "      <td>65241.0</td>\n",
       "      <td>35362.0</td>\n",
       "      <td>144800.0</td>\n",
       "      <td>177.0</td>\n",
       "      <td>35814.0</td>\n",
       "      <td>54798.0</td>\n",
       "      <td>101837.0</td>\n",
       "    </tr>\n",
       "    <tr>\n",
       "      <th>cdu_3</th>\n",
       "      <td>65158547.0</td>\n",
       "      <td>73625.0</td>\n",
       "      <td>48562.0</td>\n",
       "      <td>652366.0</td>\n",
       "      <td>2166.0</td>\n",
       "      <td>37859.0</td>\n",
       "      <td>58437.0</td>\n",
       "      <td>102706.0</td>\n",
       "    </tr>\n",
       "  </tbody>\n",
       "</table>\n",
       "</div>"
      ],
      "text/plain": [
       "       total_words      avg      std       max     min  lower percentile  \\\n",
       "cdu_1   43346629.0  38633.0  21196.0  119442.0   144.0           23200.0   \n",
       "spd_1   35208958.0  42420.0  29564.0  119173.0   119.0           15290.0   \n",
       "cdu_2   55456943.0  56416.0  33596.0  144762.0   211.0           28645.0   \n",
       "spd_2   28771286.0  65241.0  35362.0  144800.0   177.0           35814.0   \n",
       "cdu_3   65158547.0  73625.0  48562.0  652366.0  2166.0           37859.0   \n",
       "\n",
       "        median  upper percentile  \n",
       "cdu_1  36178.0           52634.0  \n",
       "spd_1  33846.0           69766.0  \n",
       "cdu_2  44942.0           89830.0  \n",
       "spd_2  54798.0          101837.0  \n",
       "cdu_3  58437.0          102706.0  "
      ]
     },
     "execution_count": 21,
     "metadata": {},
     "output_type": "execute_result"
    }
   ],
   "source": [
    "bundestag_slices_processed = {}\n",
    "bundestag_historic_periods = ['cdu_1', 'spd_1', 'cdu_2', 'spd_2', 'cdu_3']\n",
    "for i in range(1,6):\n",
    "    corpus = list(CreateCorpus(f'compass_new/slice_{i}_new/', profiling=True))\n",
    "    bundestag_slices_processed[i] = word_stats_dictionary(corpus)\n",
    "bundestag_slices_processed = pd.DataFrame(bundestag_slices_processed).T\n",
    "# index = [f'bt_{i}' for i in range(1,len(bundestag_slices_processed)+1)]\n",
    "bundestag_slices_processed.set_index(np.array(bundestag_historic_periods), inplace=True)\n",
    "bundestag_slices_processed"
   ]
  },
  {
   "cell_type": "markdown",
   "metadata": {},
   "source": [
    "#### Merge both frames"
   ]
  },
  {
   "cell_type": "code",
   "execution_count": null,
   "metadata": {},
   "outputs": [],
   "source": [
    "all_slices_processed = reichstag_processed.append(bundestag_slices_processed)"
   ]
  },
  {
   "cell_type": "markdown",
   "metadata": {},
   "source": [
    "#### Plot total and average words"
   ]
  },
  {
   "cell_type": "code",
   "execution_count": null,
   "metadata": {},
   "outputs": [],
   "source": [
    "fig_dim = set_size(width, subplots=(1,2))\n",
    "fig, (ax1, ax2) = plt.subplots(1,2, figsize=fig_dim)\n",
    "all_slices_processed[['total_words']].plot.bar(rot=45, color=colourWheel[3], ax=ax1)\n",
    "all_slices_processed[['avg']].plot.bar(rot=45,color=colourWheel[7], ax=ax2)\n",
    "\n",
    "# ax1.set_xlabel('slice')\n",
    "# ax2.set_xlabel('slice')\n",
    "ax1.yaxis.major.formatter._useMathText = True\n",
    "ax2.yaxis.major.formatter._useMathText = True\n",
    "ax1.get_legend().remove()\n",
    "ax2.get_legend().remove()\n",
    "# fig.set_size_inches(fig_dim[0], (fig_dim[0]/1.6))\n",
    "# plt.tight_layout()\n",
    "# plt.savefig(os.path.join(dirFile,'total_and_avg_words_1.6_notightlayout.pdf'),dpi=300)\n",
    "plt.show()"
   ]
  },
  {
   "cell_type": "markdown",
   "metadata": {},
   "source": [
    "## 2) Plot average RIPA values over historic slices"
   ]
  },
  {
   "cell_type": "markdown",
   "metadata": {},
   "source": [
    "The average RIPA values are plotted over several slice at once. For this a function to initialise a SubspaceProjection object, the set of all attribute terms present in a slice, plus the bias subspace, is created"
   ]
  },
  {
   "cell_type": "code",
   "execution_count": 6,
   "metadata": {},
   "outputs": [],
   "source": [
    "def set_up(embedding_vocab, embedding_vectors, protocol_type):\n",
    "    \n",
    "    ripaObject = SubspaceProjections()\n",
    "    embd_dict = load_embedding_dict(embedding_vocab, embedding_vectors, glove=False)\n",
    "    ripaObject.set_embd_dict(embd_dict)\n",
    "    # Load attribute sets\n",
    "    attribute_sets = create_attribute_sets(embd_dict, protocol_type)\n",
    "    # The vocab is composed of all target and attribute terms\n",
    "    vocab = TARGETS_CHRISTIAN + TARGETS_JEWISH + list(dict.fromkeys(list(itertools.chain.from_iterable(attribute_sets.values()))))\n",
    "    \n",
    "    ripaObject._build_vocab_dict(vocab)\n",
    "    ripaObject._build_embedding_matrix()\n",
    "    race_direction_pca = ripaObject.doPCA(TARGETS_CHRISTIAN, TARGETS_JEWISH, plot=False)\n",
    "    \n",
    "    return ripaObject, attribute_sets, race_direction_pca"
   ]
  },
  {
   "cell_type": "code",
   "execution_count": 7,
   "metadata": {},
   "outputs": [],
   "source": [
    "# Set-up for all Reichstag slices\n",
    "ks_1, ks_1_attributes, ks_1_subspace = set_up('data/vocab/kaiserreich_1.json', 'models/kaiserreich_1.vectors.npy', 'RT')\n",
    "ks_2, ks_2_attributes, ks_2_subspace = set_up('data/vocab/kaiserreich_2.json', 'models/kaiserreich_2.vectors.npy', 'RT')\n",
    "weimar, weimar_attributes, weimar_subspace = set_up('data/vocab/weimar.json', 'models/weimar.vectors.npy', 'RT')"
   ]
  },
  {
   "cell_type": "code",
   "execution_count": 10,
   "metadata": {
    "collapsed": true
   },
   "outputs": [
    {
     "ename": "FileNotFoundError",
     "evalue": "[Errno 2] No such file or directory: 'data/vocab/cdu_1.json'",
     "output_type": "error",
     "traceback": [
      "\u001b[0;31m---------------------------------------------------------------------------\u001b[0m",
      "\u001b[0;31mFileNotFoundError\u001b[0m                         Traceback (most recent call last)",
      "\u001b[0;32m<ipython-input-10-91cb5403ec70>\u001b[0m in \u001b[0;36m<module>\u001b[0;34m\u001b[0m\n\u001b[1;32m      1\u001b[0m \u001b[0;31m# Set-up for all Bundestag slices\u001b[0m\u001b[0;34m\u001b[0m\u001b[0;34m\u001b[0m\u001b[0;34m\u001b[0m\u001b[0m\n\u001b[0;32m----> 2\u001b[0;31m \u001b[0mcdu_1\u001b[0m\u001b[0;34m,\u001b[0m \u001b[0mcdu_1_attributes\u001b[0m\u001b[0;34m,\u001b[0m \u001b[0mcdu_1_subspace\u001b[0m \u001b[0;34m=\u001b[0m \u001b[0mset_up\u001b[0m\u001b[0;34m(\u001b[0m\u001b[0;34m'data/vocab/cdu_1.json'\u001b[0m\u001b[0;34m,\u001b[0m \u001b[0;34m'models/cdu_1.vectors.npy'\u001b[0m\u001b[0;34m,\u001b[0m \u001b[0;34m'BRD'\u001b[0m\u001b[0;34m)\u001b[0m\u001b[0;34m\u001b[0m\u001b[0;34m\u001b[0m\u001b[0m\n\u001b[0m",
      "\u001b[0;32m<ipython-input-3-408589d8307d>\u001b[0m in \u001b[0;36mset_up\u001b[0;34m(embedding_vocab, embedding_vectors, protocol_type)\u001b[0m\n\u001b[1;32m      2\u001b[0m \u001b[0;34m\u001b[0m\u001b[0m\n\u001b[1;32m      3\u001b[0m     \u001b[0mripaObject\u001b[0m \u001b[0;34m=\u001b[0m \u001b[0mSubspaceProjections\u001b[0m\u001b[0;34m(\u001b[0m\u001b[0;34m)\u001b[0m\u001b[0;34m\u001b[0m\u001b[0;34m\u001b[0m\u001b[0m\n\u001b[0;32m----> 4\u001b[0;31m     \u001b[0membd_dict\u001b[0m \u001b[0;34m=\u001b[0m \u001b[0mload_embedding_dict\u001b[0m\u001b[0;34m(\u001b[0m\u001b[0membedding_vocab\u001b[0m\u001b[0;34m,\u001b[0m \u001b[0membedding_vectors\u001b[0m\u001b[0;34m,\u001b[0m \u001b[0mglove\u001b[0m\u001b[0;34m=\u001b[0m\u001b[0;32mFalse\u001b[0m\u001b[0;34m)\u001b[0m\u001b[0;34m\u001b[0m\u001b[0;34m\u001b[0m\u001b[0m\n\u001b[0m\u001b[1;32m      5\u001b[0m     \u001b[0mripaObject\u001b[0m\u001b[0;34m.\u001b[0m\u001b[0mset_embd_dict\u001b[0m\u001b[0;34m(\u001b[0m\u001b[0membd_dict\u001b[0m\u001b[0;34m)\u001b[0m\u001b[0;34m\u001b[0m\u001b[0;34m\u001b[0m\u001b[0m\n\u001b[1;32m      6\u001b[0m     \u001b[0;31m# Load attribute sets\u001b[0m\u001b[0;34m\u001b[0m\u001b[0;34m\u001b[0m\u001b[0;34m\u001b[0m\u001b[0m\n",
      "\u001b[0;32m/work/twalter/bias/utils.py\u001b[0m in \u001b[0;36mload_embedding_dict\u001b[0;34m(vocab_path, vector_path, dict_path, glove, postspec)\u001b[0m\n\u001b[1;32m    170\u001b[0m   \u001b[0;32melse\u001b[0m\u001b[0;34m:\u001b[0m\u001b[0;34m\u001b[0m\u001b[0;34m\u001b[0m\u001b[0m\n\u001b[1;32m    171\u001b[0m     \u001b[0membd_dict\u001b[0m \u001b[0;34m=\u001b[0m \u001b[0;34m{\u001b[0m\u001b[0;34m}\u001b[0m\u001b[0;34m\u001b[0m\u001b[0;34m\u001b[0m\u001b[0m\n\u001b[0;32m--> 172\u001b[0;31m     \u001b[0mvocab\u001b[0m \u001b[0;34m=\u001b[0m \u001b[0mload_vocab\u001b[0m\u001b[0;34m(\u001b[0m\u001b[0mvocab_path\u001b[0m\u001b[0;34m)\u001b[0m\u001b[0;34m\u001b[0m\u001b[0;34m\u001b[0m\u001b[0m\n\u001b[0m\u001b[1;32m    173\u001b[0m     \u001b[0mvectors\u001b[0m \u001b[0;34m=\u001b[0m \u001b[0mload_vectors\u001b[0m\u001b[0;34m(\u001b[0m\u001b[0mvector_path\u001b[0m\u001b[0;34m)\u001b[0m\u001b[0;34m\u001b[0m\u001b[0;34m\u001b[0m\u001b[0m\n\u001b[1;32m    174\u001b[0m     \u001b[0;32mfor\u001b[0m \u001b[0mterm\u001b[0m\u001b[0;34m,\u001b[0m \u001b[0mindex\u001b[0m \u001b[0;32min\u001b[0m \u001b[0mvocab\u001b[0m\u001b[0;34m.\u001b[0m\u001b[0mitems\u001b[0m\u001b[0;34m(\u001b[0m\u001b[0;34m)\u001b[0m\u001b[0;34m:\u001b[0m\u001b[0;34m\u001b[0m\u001b[0;34m\u001b[0m\u001b[0m\n",
      "\u001b[0;32m/work/twalter/bias/utils.py\u001b[0m in \u001b[0;36mload_vocab\u001b[0;34m(path, inverse)\u001b[0m\n\u001b[1;32m    181\u001b[0m \u001b[0;34m\u001b[0m\u001b[0m\n\u001b[1;32m    182\u001b[0m \u001b[0;32mdef\u001b[0m \u001b[0mload_vocab\u001b[0m\u001b[0;34m(\u001b[0m\u001b[0mpath\u001b[0m\u001b[0;34m,\u001b[0m \u001b[0minverse\u001b[0m \u001b[0;34m=\u001b[0m \u001b[0;32mFalse\u001b[0m\u001b[0;34m)\u001b[0m\u001b[0;34m:\u001b[0m\u001b[0;34m\u001b[0m\u001b[0;34m\u001b[0m\u001b[0m\n\u001b[0;32m--> 183\u001b[0;31m   \u001b[0mvocab\u001b[0m \u001b[0;34m=\u001b[0m \u001b[0mjson\u001b[0m\u001b[0;34m.\u001b[0m\u001b[0mload\u001b[0m\u001b[0;34m(\u001b[0m\u001b[0mopen\u001b[0m\u001b[0;34m(\u001b[0m\u001b[0mpath\u001b[0m\u001b[0;34m,\u001b[0m\u001b[0;34m\"r\"\u001b[0m\u001b[0;34m)\u001b[0m\u001b[0;34m)\u001b[0m\u001b[0;34m\u001b[0m\u001b[0;34m\u001b[0m\u001b[0m\n\u001b[0m\u001b[1;32m    184\u001b[0m   \u001b[0;32mif\u001b[0m \u001b[0minverse\u001b[0m\u001b[0;34m:\u001b[0m\u001b[0;34m\u001b[0m\u001b[0;34m\u001b[0m\u001b[0m\n\u001b[1;32m    185\u001b[0m     \u001b[0mvocab_inv\u001b[0m \u001b[0;34m=\u001b[0m \u001b[0;34m{\u001b[0m\u001b[0mv\u001b[0m \u001b[0;34m:\u001b[0m \u001b[0mk\u001b[0m \u001b[0;32mfor\u001b[0m \u001b[0mk\u001b[0m\u001b[0;34m,\u001b[0m \u001b[0mv\u001b[0m \u001b[0;32min\u001b[0m \u001b[0mvocab\u001b[0m\u001b[0;34m.\u001b[0m\u001b[0mitems\u001b[0m\u001b[0;34m(\u001b[0m\u001b[0;34m)\u001b[0m\u001b[0;34m}\u001b[0m\u001b[0;34m\u001b[0m\u001b[0;34m\u001b[0m\u001b[0m\n",
      "\u001b[0;31mFileNotFoundError\u001b[0m: [Errno 2] No such file or directory: 'data/vocab/cdu_1.json'"
     ]
    }
   ],
   "source": [
    "# Set-up for all Bundestag slices\n",
    "cdu_1, cdu_1_attributes, cdu_1_subspace = set_up('data/vocab/cdu_1.json', 'models/cdu_1.vectors.npy', 'BRD')\n",
    "spd_1, spd_1_attributes, spd_1_subspace = set_up('data/vocab/spd_1.json', 'models/spd_1.vectors.npy', 'BRD')\n",
    "cdu_2, cdu_1_attributes, cdu_2_subspace = set_up('data/vocab/cdu_2.json', 'models/cdu_2.vectors.npy', 'BRD')\n",
    "spd_2, spd_2_attributes, spd_2_subspace = set_up('data/vocab/spd_2.json', 'models/spd_2.vectors.npy', 'BRD')\n",
    "cdu_3, cdu_1_attributes, cdu_3_subspace = set_up('data/vocab/cdu_3.json', 'models/cdu_3.vectors.npy', 'BRD')"
   ]
  },
  {
   "cell_type": "code",
   "execution_count": null,
   "metadata": {},
   "outputs": [],
   "source": [
    "corpora_brd = ['CDUI', 'SPDI', 'CDUII', 'SPDII', 'CDUIII']"
   ]
  },
  {
   "cell_type": "code",
   "execution_count": 36,
   "metadata": {},
   "outputs": [],
   "source": [
    "# We want to iterate over all the models \n",
    "all_ripa = [ks_1, ks_2, weimar]\n",
    "all_attributes = {k:[v, ks_2_attributes[k], weimar_attributes[k]] for k,v in ks_1_attributes.items()}\n",
    "all_subspaces = [ks_1_subspace, ks_2_subspace, weimar_subspace]\n",
    "corpora_rt = ['kaiserreich_1', 'kaiserreich_2', 'weimar']"
   ]
  },
  {
   "cell_type": "markdown",
   "metadata": {},
   "source": [
    "### Create a dataframe that shows average RIPA values and can be used for plotting"
   ]
  },
  {
   "cell_type": "code",
   "execution_count": 9,
   "metadata": {},
   "outputs": [],
   "source": [
    "# Output a dataframe containing RIPA values across slices and semantic domains\n",
    "def all_scores(ripa, atts, subspaces, corpora_names):\n",
    "    all_scores = {}\n",
    "    for att in atts:\n",
    "        scores_for_attribute = []\n",
    "        for i in range(len(ripa)):\n",
    "            projections = ripa[i].get_projections(atts[att][i], subspaces[i], corpora_names[i])\n",
    "            scores_for_attribute.append(list(projections.values()))\n",
    "        all_scores[att] = scores_for_attribute\n",
    "    return all_scores"
   ]
  },
  {
   "cell_type": "code",
   "execution_count": 19,
   "metadata": {},
   "outputs": [],
   "source": [
    "ripa_rt = all_scores(all_ripa, all_attributes, all_subspaces, corpora_rt)"
   ]
  },
  {
   "cell_type": "code",
   "execution_count": 16,
   "metadata": {},
   "outputs": [],
   "source": [
    "def get_avg_ripa_df(scores, protocol_type, corpora_names):\n",
    "    \"\"\"Output a dataframe holding average RIPA values\"\"\"\n",
    "#     if protocol_type == 'RT':\n",
    "#         index = corpora_names\n",
    "#     elif protocol_type == 'BRD':\n",
    "#         index = ['full_BRD','CDU_I', 'SPD_I', 'CDU_II', 'SPD_II', 'CDU_III']\n",
    "    df = pd.DataFrame(scores, index=corpora_names).applymap(np.mean)\n",
    "    return df"
   ]
  },
  {
   "cell_type": "code",
   "execution_count": 20,
   "metadata": {},
   "outputs": [
    {
     "data": {
      "text/html": [
       "<div>\n",
       "<style scoped>\n",
       "    .dataframe tbody tr th:only-of-type {\n",
       "        vertical-align: middle;\n",
       "    }\n",
       "\n",
       "    .dataframe tbody tr th {\n",
       "        vertical-align: top;\n",
       "    }\n",
       "\n",
       "    .dataframe thead th {\n",
       "        text-align: right;\n",
       "    }\n",
       "</style>\n",
       "<table border=\"1\" class=\"dataframe\">\n",
       "  <thead>\n",
       "    <tr style=\"text-align: right;\">\n",
       "      <th></th>\n",
       "      <th>sentiment_pro</th>\n",
       "      <th>sentiment_con</th>\n",
       "      <th>economic_pro</th>\n",
       "      <th>economic_con</th>\n",
       "      <th>conspiratorial_pro</th>\n",
       "      <th>conspiratorial_con</th>\n",
       "      <th>religious_pro</th>\n",
       "      <th>religious_con</th>\n",
       "      <th>racist_pro</th>\n",
       "      <th>racist_con</th>\n",
       "      <th>ethic_pro</th>\n",
       "      <th>ethic_con</th>\n",
       "      <th>patriotic_pro</th>\n",
       "      <th>patriotic_con</th>\n",
       "    </tr>\n",
       "  </thead>\n",
       "  <tbody>\n",
       "    <tr>\n",
       "      <th>KS_1</th>\n",
       "      <td>0.044598</td>\n",
       "      <td>-0.043136</td>\n",
       "      <td>-0.087549</td>\n",
       "      <td>-0.107920</td>\n",
       "      <td>0.050418</td>\n",
       "      <td>-0.037777</td>\n",
       "      <td>0.105858</td>\n",
       "      <td>-0.005435</td>\n",
       "      <td>0.077588</td>\n",
       "      <td>-0.103101</td>\n",
       "      <td>0.116825</td>\n",
       "      <td>-0.068078</td>\n",
       "      <td>0.023463</td>\n",
       "      <td>-0.116190</td>\n",
       "    </tr>\n",
       "    <tr>\n",
       "      <th>KS_2</th>\n",
       "      <td>0.047203</td>\n",
       "      <td>-0.023807</td>\n",
       "      <td>0.069590</td>\n",
       "      <td>-0.049577</td>\n",
       "      <td>0.039731</td>\n",
       "      <td>-0.070677</td>\n",
       "      <td>0.122630</td>\n",
       "      <td>0.087565</td>\n",
       "      <td>0.041611</td>\n",
       "      <td>-0.079105</td>\n",
       "      <td>0.085626</td>\n",
       "      <td>-0.046772</td>\n",
       "      <td>0.071318</td>\n",
       "      <td>-0.035184</td>\n",
       "    </tr>\n",
       "    <tr>\n",
       "      <th>Weimar</th>\n",
       "      <td>0.080702</td>\n",
       "      <td>-0.003454</td>\n",
       "      <td>0.068368</td>\n",
       "      <td>-0.058097</td>\n",
       "      <td>0.088591</td>\n",
       "      <td>-0.105918</td>\n",
       "      <td>0.181655</td>\n",
       "      <td>0.060710</td>\n",
       "      <td>0.048060</td>\n",
       "      <td>-0.047311</td>\n",
       "      <td>0.173108</td>\n",
       "      <td>0.002259</td>\n",
       "      <td>0.091866</td>\n",
       "      <td>-0.055953</td>\n",
       "    </tr>\n",
       "  </tbody>\n",
       "</table>\n",
       "</div>"
      ],
      "text/plain": [
       "        sentiment_pro  sentiment_con  economic_pro  economic_con  \\\n",
       "KS_1         0.044598      -0.043136     -0.087549     -0.107920   \n",
       "KS_2         0.047203      -0.023807      0.069590     -0.049577   \n",
       "Weimar       0.080702      -0.003454      0.068368     -0.058097   \n",
       "\n",
       "        conspiratorial_pro  conspiratorial_con  religious_pro  religious_con  \\\n",
       "KS_1              0.050418           -0.037777       0.105858      -0.005435   \n",
       "KS_2              0.039731           -0.070677       0.122630       0.087565   \n",
       "Weimar            0.088591           -0.105918       0.181655       0.060710   \n",
       "\n",
       "        racist_pro  racist_con  ethic_pro  ethic_con  patriotic_pro  \\\n",
       "KS_1      0.077588   -0.103101   0.116825  -0.068078       0.023463   \n",
       "KS_2      0.041611   -0.079105   0.085626  -0.046772       0.071318   \n",
       "Weimar    0.048060   -0.047311   0.173108   0.002259       0.091866   \n",
       "\n",
       "        patriotic_con  \n",
       "KS_1        -0.116190  \n",
       "KS_2        -0.035184  \n",
       "Weimar      -0.055953  "
      ]
     },
     "execution_count": 20,
     "metadata": {},
     "output_type": "execute_result"
    }
   ],
   "source": [
    "avg_bias_rt = get_avg_ripa_df(ripa_rt, 'RT', corpora_rt)\n",
    "avg_bias_rt"
   ]
  },
  {
   "cell_type": "code",
   "execution_count": 25,
   "metadata": {},
   "outputs": [],
   "source": [
    "DIMS = ['sentiment', 'patriotic', 'economic', 'conspiratorial', 'racist', 'religious', 'ethic']\n",
    "MULTI_COLUMNS = pd.MultiIndex.from_product([DIMS, ['pro', 'con']])\n",
    "\n",
    "def plot_avg_bias(bias_df, corpora_names, save=True, path_to_save=None):\n",
    "    \n",
    "    # Create multi-index column for each attribute dimension to juxtapose pro and neg aspects of each dimension\n",
    "    bipolar_df = pd.DataFrame(index=bias_df.index, columns= MULTI_COLUMNS)\n",
    "    for dim in DIMS:\n",
    "        bipolar_df.loc[:, (dim, 'pro')] = bias_df.loc[:,f'{dim}_pro']\n",
    "        bipolar_df.loc[:, (dim, 'con')] = bias_df.loc[:,f'{dim}_con']\n",
    "    \n",
    "    # Create the barplot showing average bias over time\n",
    "    fig = plt.figure(figsize=(FIG_DIM))\n",
    "\n",
    "    for dim,num in zip(DIMS, range(1,len(DIMS)+1)):\n",
    "        ax = fig.add_subplot(3,3,num)\n",
    "        bipolar_df.plot(y=[dim],kind='bar', stacked=False, ax=ax, legend=False, use_index=True)\n",
    "        ax.set_title(dim)\n",
    "        ax.set_xticklabels(corpora_names)\n",
    "        ax.yaxis.major.formatter._useMathText = True\n",
    "        # ax.get_legend().remove()\n",
    "        fig.set_size_inches(FIG_DIM[0], (FIG_DIM[0]/0.8))\n",
    "        for ax in fig.get_axes():\n",
    "            ax.label_outer()\n",
    "            ax.set_ylim(bipolar_df.values.min() - 0.05, bipolar_df.values.max() + 0.05)\n",
    "    fig.subplots_adjust(top=0.95, bottom=0.01, hspace=0.3)\n",
    "    # fig.get_axes()[0].set_xticklabels(['ks1', 'ks2', 'w'])\n",
    "    # plt.setp(ax.get_xticklabels(), visible=False)\n",
    "    fig.legend(['positive', 'negative'], loc= 'lower center')\n",
    "    plt.tight_layout()\n",
    "    if save:\n",
    "        plt.savefig(f'plots/{path_to_save}.pdf', dpi=300)    \n",
    "    plt.show()"
   ]
  },
  {
   "cell_type": "code",
   "execution_count": 26,
   "metadata": {},
   "outputs": [
    {
     "data": {
      "image/png": "[encoded data removed]",
      "text/plain": [
       "<Figure size 358.655x448.319 with 7 Axes>"
      ]
     },
     "metadata": {
      "needs_background": "light"
     },
     "output_type": "display_data"
    }
   ],
   "source": [
    "plot_avg_bias(avg_bias_rt,corpora_rt, save=True, path_to_save='avg_ripa_rt')"
   ]
  },
  {
   "cell_type": "markdown",
   "metadata": {},
   "source": [
    "\n",
    "### Delete this before submission"
   ]
  },
  {
   "cell_type": "code",
   "execution_count": 34,
   "metadata": {},
   "outputs": [],
   "source": [
    "from scipy import stats\n",
    "def get_ttest_df(scores, corpora_names):\n",
    "    index = pd.MultiIndex.from_product([corpora_names, ['T', 'p']])\n",
    "        \n",
    "    df = pd.DataFrame(columns=['sentiment', 'patriotic', 'economic', 'conspiratorial', 'racist', 'religious', 'ethic'],\n",
    "                     index=index)\n",
    "    for col in df.columns: \n",
    "        ts = []\n",
    "        for i in range(len(corpora_names)):\n",
    "            t,p = stats.ttest_ind(scores[f'{col}_pro'][i], scores[f'{col}_con'][i], equal_var=False)\n",
    "            ts.append(t)\n",
    "            ts.append(p)\n",
    "        df[col] = ts\n",
    "    return df"
   ]
  },
  {
   "cell_type": "code",
   "execution_count": 35,
   "metadata": {},
   "outputs": [
    {
     "data": {
      "text/html": [
       "<div>\n",
       "<style scoped>\n",
       "    .dataframe tbody tr th:only-of-type {\n",
       "        vertical-align: middle;\n",
       "    }\n",
       "\n",
       "    .dataframe tbody tr th {\n",
       "        vertical-align: top;\n",
       "    }\n",
       "\n",
       "    .dataframe thead th {\n",
       "        text-align: right;\n",
       "    }\n",
       "</style>\n",
       "<table border=\"1\" class=\"dataframe\">\n",
       "  <thead>\n",
       "    <tr style=\"text-align: right;\">\n",
       "      <th></th>\n",
       "      <th></th>\n",
       "      <th>sentiment</th>\n",
       "      <th>patriotic</th>\n",
       "      <th>economic</th>\n",
       "      <th>conspiratorial</th>\n",
       "      <th>racist</th>\n",
       "      <th>religious</th>\n",
       "      <th>ethic</th>\n",
       "    </tr>\n",
       "  </thead>\n",
       "  <tbody>\n",
       "    <tr>\n",
       "      <th rowspan=\"2\" valign=\"top\">KS_1</th>\n",
       "      <th>T</th>\n",
       "      <td>2.179960</td>\n",
       "      <td>2.694305</td>\n",
       "      <td>0.333674</td>\n",
       "      <td>1.757895</td>\n",
       "      <td>3.396660</td>\n",
       "      <td>1.821648</td>\n",
       "      <td>2.879023</td>\n",
       "    </tr>\n",
       "    <tr>\n",
       "      <th>p</th>\n",
       "      <td>0.035576</td>\n",
       "      <td>0.013895</td>\n",
       "      <td>0.742588</td>\n",
       "      <td>0.089699</td>\n",
       "      <td>0.002194</td>\n",
       "      <td>0.083527</td>\n",
       "      <td>0.009294</td>\n",
       "    </tr>\n",
       "    <tr>\n",
       "      <th rowspan=\"2\" valign=\"top\">KS_2</th>\n",
       "      <th>T</th>\n",
       "      <td>3.268295</td>\n",
       "      <td>2.819711</td>\n",
       "      <td>3.313021</td>\n",
       "      <td>2.753080</td>\n",
       "      <td>3.445674</td>\n",
       "      <td>0.876679</td>\n",
       "      <td>2.719091</td>\n",
       "    </tr>\n",
       "    <tr>\n",
       "      <th>p</th>\n",
       "      <td>0.002253</td>\n",
       "      <td>0.009099</td>\n",
       "      <td>0.003323</td>\n",
       "      <td>0.010087</td>\n",
       "      <td>0.001967</td>\n",
       "      <td>0.392802</td>\n",
       "      <td>0.012542</td>\n",
       "    </tr>\n",
       "    <tr>\n",
       "      <th rowspan=\"2\" valign=\"top\">Weimar</th>\n",
       "      <th>T</th>\n",
       "      <td>2.527563</td>\n",
       "      <td>3.306485</td>\n",
       "      <td>2.897844</td>\n",
       "      <td>4.345849</td>\n",
       "      <td>2.933245</td>\n",
       "      <td>2.657882</td>\n",
       "      <td>3.605114</td>\n",
       "    </tr>\n",
       "    <tr>\n",
       "      <th>p</th>\n",
       "      <td>0.015973</td>\n",
       "      <td>0.002967</td>\n",
       "      <td>0.009159</td>\n",
       "      <td>0.000289</td>\n",
       "      <td>0.006623</td>\n",
       "      <td>0.015766</td>\n",
       "      <td>0.001576</td>\n",
       "    </tr>\n",
       "  </tbody>\n",
       "</table>\n",
       "</div>"
      ],
      "text/plain": [
       "          sentiment  patriotic  economic  conspiratorial    racist  religious  \\\n",
       "KS_1   T   2.179960   2.694305  0.333674        1.757895  3.396660   1.821648   \n",
       "       p   0.035576   0.013895  0.742588        0.089699  0.002194   0.083527   \n",
       "KS_2   T   3.268295   2.819711  3.313021        2.753080  3.445674   0.876679   \n",
       "       p   0.002253   0.009099  0.003323        0.010087  0.001967   0.392802   \n",
       "Weimar T   2.527563   3.306485  2.897844        4.345849  2.933245   2.657882   \n",
       "       p   0.015973   0.002967  0.009159        0.000289  0.006623   0.015766   \n",
       "\n",
       "             ethic  \n",
       "KS_1   T  2.879023  \n",
       "       p  0.009294  \n",
       "KS_2   T  2.719091  \n",
       "       p  0.012542  \n",
       "Weimar T  3.605114  \n",
       "       p  0.001576  "
      ]
     },
     "execution_count": 35,
     "metadata": {},
     "output_type": "execute_result"
    }
   ],
   "source": [
    "df_rt = get_ttest_df(ripa_rt, corpora_rt)\n",
    "df_rt"
   ]
  }
 ],
 "metadata": {
  "kernelspec": {
   "display_name": "Python 3",
   "language": "python",
   "name": "python3"
  },
  "language_info": {
   "codemirror_mode": {
    "name": "ipython",
    "version": 3
   },
   "file_extension": ".py",
   "mimetype": "text/x-python",
   "name": "python",
   "nbconvert_exporter": "python",
   "pygments_lexer": "ipython3",
   "version": "3.7.7"
  }
 },
 "nbformat": 4,
 "nbformat_minor": 4
}
