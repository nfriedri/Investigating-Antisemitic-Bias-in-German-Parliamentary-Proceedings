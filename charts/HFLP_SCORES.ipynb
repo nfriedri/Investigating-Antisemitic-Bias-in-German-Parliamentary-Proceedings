{
  "nbformat": 4,
  "nbformat_minor": 0,
  "metadata": {
    "colab": {
      "name": "HFLP_SCORES",
      "provenance": []
    },
    "kernelspec": {
      "name": "python3",
      "display_name": "Python 3"
    },
    "language_info": {
      "name": "python"
    }
  },
  "cells": [
    {
      "cell_type": "markdown",
      "metadata": {
        "id": "PKKVrS8qambh"
      },
      "source": [
        "# HFLP Scores"
      ]
    },
    {
      "cell_type": "code",
      "metadata": {
        "id": "V7w7MPVbMCDO"
      },
      "source": [
        "antisemitism_test_original = [\n",
        "{'method': 'PPMI', 'slice': 'kaiserreich1', 'dimension': 'sentiment', 'score_1': 0.37670222200402464, 'score_2': -0.005299272610730026, 'score_3': -0.1005426408747933, 'score4': -0.09656219631595123},\n",
        "{'method': 'PPMI', 'slice': 'kaiserreich2', 'dimension': 'sentiment', 'score_1': 2.119377859966723, 'score_2': 0.1430430297007514, 'score_3': 0.4086986026541192, 'score4': 0.34027764551077605},\n",
        "{'method': 'PPMI', 'slice': 'weimar', 'dimension': 'sentiment', 'score_1': 1.5636696729757658, 'score_2': -0.8413002471351207, 'score_3': 0.19445380632826673, 'score4': 0.9159093861067269},\n",
        "{'method': 'PPMI', 'slice': 'ns', 'dimension': 'sentiment', 'score_1': 0.9573937381168157, 'score_2': 0, 'score_3': 0, 'score4': 0},\n",
        "{'method': 'PPMI', 'slice': 'cdu1', 'dimension': 'sentiment', 'score_1': 2.086692426010238, 'score_2': -1.9864471852427699, 'score_3': -0.6126513787372713, 'score4': 1.1433849792296389},\n",
        "{'method': 'PPMI', 'slice': 'spd1', 'dimension': 'sentiment', 'score_1': 2.3385925723215295, 'score_2': -2.8658585205066323, 'score_3': 0.5659282063325999, 'score4': 3.4722871826079995},\n",
        "{'method': 'PPMI', 'slice': 'cdu2', 'dimension': 'sentiment', 'score_1': 2.236918679757371, 'score_2': -2.670563518100511, 'score_3': 0.05180901755172614, 'score4': 2.2984952329388797},\n",
        "{'method': 'PPMI', 'slice': 'spd2', 'dimension': 'sentiment', 'score_1': 2.574988097947276, 'score_2': -1.3147674196303807, 'score_3': 1.1083220722663298, 'score4': 3.07698986247166},\n",
        "{'method': 'PPMI', 'slice': 'cdu3', 'dimension': 'sentiment', 'score_1': 1.5959697430745707, 'score_2': -1.6189875255172632, 'score_3': 0.06037460221312991, 'score4': 2.1335998636097515},\n",
        "\n",
        "\n",
        "{'method': 'PPMI', 'slice': 'kaiserreich1', 'dimension': 'patriotic', 'score_1': 0.6264663422414063, 'score_2': -0.5503061558472059, 'score_3': 0.04975521922434832, 'score4': 0.45985352756975634},\n",
        "{'method': 'PPMI', 'slice': 'kaiserreich2', 'dimension': 'patriotic', 'score_1': 0.4497006269249871, 'score_2': -0.12789222918112547, 'score_3': -1.4964799987174373, 'score4': -1.5851977431894526},\n",
        "{'method': 'PPMI', 'slice': 'weimar', 'dimension': 'patriotic', 'score_1': 2.4354922664115697, 'score_2': -0.5588773459025083, 'score_3': 0.56450812682738, 'score4': 1.0104171532851058},\n",
        "{'method': 'PPMI', 'slice': 'ns', 'dimension': 'patriotic', 'score_1': 0, 'score_2': 0, 'score_3': 0, 'score4': 0},\n",
        "{'method': 'PPMI', 'slice': 'cdu1', 'dimension': 'patriotic', 'score_1': 1.753005027837147, 'score_2': -2.708172978162502, 'score_3': -0.7730086712669643, 'score4': 1.5412882069041958},\n",
        "{'method': 'PPMI', 'slice': 'spd1', 'dimension': 'patriotic', 'score_1': 1.3268614669166483, 'score_2': -1.4680344736325102, 'score_3': -0.44506543486795186, 'score4': 0.9290309570683057},\n",
        "{'method': 'PPMI', 'slice': 'cdu2', 'dimension': 'patriotic', 'score_1': 0.7893871560056842, 'score_2': -2.9189534484681423, 'score_3': -1.9264151334344242, 'score4': 0.835193818333426},\n",
        "{'method': 'PPMI', 'slice': 'spd2', 'dimension': 'patriotic', 'score_1': -0.2952483992358144, 'score_2': -1.8632523419804898, 'score_3': -1.7657457790593678, 'score4': -0.1344136469554441},\n",
        "{'method': 'PPMI', 'slice': 'cdu3', 'dimension': 'patriotic', 'score_1': 2.1691813528633865, 'score_2': -1.0358880307462626, 'score_3': -0.08109223331008768, 'score4': 1.1053033364089166},\n",
        "\n",
        "\n",
        "{'method': 'PPMI', 'slice': 'kaiserreich1', 'dimension': 'economic', 'score_1': 0.25808692851993387, 'score_2': -0.9969401079552502, 'score_3': -0.14102396142766274, 'score4': 0.5269990141142932},\n",
        "{'method': 'PPMI', 'slice': 'kaiserreich2', 'dimension': 'economic', 'score_1': 2.4045477806644846, 'score_2': 0.21703774279927615, 'score_3': 0.7541211087508518, 'score4': 0.6731483926035725},\n",
        "{'method': 'PPMI', 'slice': 'weimar', 'dimension': 'economic', 'score_1': 2.1871990417387956, 'score_2': -0.20903883025626185, 'score_3': 1.1342840005853423, 'score4': 1.124279714273823},\n",
        "{'method': 'PPMI', 'slice': 'ns', 'dimension': 'economic', 'score_1': -0.46809572931896015, 'score_2': 0, 'score_3': 0, 'score4': 0},\n",
        "{'method': 'PPMI', 'slice': 'cdu1', 'dimension': 'economic', 'score_1': 0.952699900071511, 'score_2': -2.5429698233556586, 'score_3': -1.4216260464370758, 'score4': 0.6351249453304479},\n",
        "{'method': 'PPMI', 'slice': 'spd1', 'dimension': 'economic', 'score_1': 0.6376729885777802, 'score_2': -1.6263416554655998, 'score_3': -1.7988125271078437, 'score4': 0.2610185871831942},\n",
        "{'method': 'PPMI', 'slice': 'cdu2', 'dimension': 'economic', 'score_1': 0.9453730577679547, 'score_2': -2.7986907330200874, 'score_3': -1.5368854429673147, 'score4': 1.0594492795486818},\n",
        "{'method': 'PPMI', 'slice': 'spd2', 'dimension': 'economic', 'score_1': 0.9658203967373897, 'score_2': -1.8959831782543688, 'score_3': -0.9763044716408937, 'score4': 1.1790498251067023},\n",
        "{'method': 'PPMI', 'slice': 'cdu3', 'dimension': 'economic', 'score_1': 1.3899392742952357, 'score_2': -0.2338856368493809, 'score_3': -0.9922476067712904, 'score4': -0.5293944899257207},\n",
        "\n",
        "\n",
        "{'method': 'PPMI', 'slice': 'kaiserreich1', 'dimension': 'conspiratorial', 'score_1': 0.25383880123793107, 'score_2': -0.3493278664899513, 'score_3': 0.0768535463192094, 'score4': 0.3031259270628789},\n",
        "{'method': 'PPMI', 'slice': 'kaiserreich2', 'dimension': 'conspiratorial', 'score_1': 0.3546223104304719, 'score_2': 0.2132336007549482, 'score_3': -1.2097626824637222, 'score4': -1.5810862970769777},\n",
        "{'method': 'PPMI', 'slice': 'weimar', 'dimension': 'conspiratorial', 'score_1': 2.3923101914527587, 'score_2': -0.633825209432788, 'score_3': 0.9771798867481873, 'score4': 1.4709552134881954},\n",
        "{'method': 'PPMI', 'slice': 'ns', 'dimension': 'conspiratorial', 'score_1': -1.8344402630863872, 'score_2': 0, 'score_3': 0, 'score4': 0},\n",
        "{'method': 'PPMI', 'slice': 'cdu1', 'dimension': 'conspiratorial', 'score_1': 0.6230767247438818, 'score_2': -2.901556568255976, 'score_3': -1.7233488031688415, 'score4': 0.4141316981173892},\n",
        "{'method': 'PPMI', 'slice': 'spd1', 'dimension': 'conspiratorial', 'score_1': 0.5422717948190618, 'score_2': -2.6824805710639805, 'score_3': -1.8438333095102444, 'score4': 1.069268985483234},\n",
        "{'method': 'PPMI', 'slice': 'cdu2', 'dimension': 'conspiratorial', 'score_1': -0.11834856355440686, 'score_2': -2.0923119773823093, 'score_3': -2.50062267511351, 'score4': -0.350292001144928},\n",
        "{'method': 'PPMI', 'slice': 'spd2', 'dimension': 'conspiratorial', 'score_1': 0.4199517970379373, 'score_2': -1.651038973191462, 'score_3': -1.5294489176432593, 'score4': 0.4036153625479281},\n",
        "{'method': 'PPMI', 'slice': 'cdu3', 'dimension': 'conspiratorial', 'score_1': 1.492761147643538, 'score_2': -1.5121322447698295, 'score_3': -0.6249482337788942, 'score4': 1.1697522119955668},\n",
        "\n",
        "\n",
        "{'method': 'PPMI', 'slice': 'kaiserreich1', 'dimension': 'religious', 'score_1': 0.5600850935866192, 'score_2': -0.40343499951634487, 'score_3': 0.3105193944696587, 'score4': 0.6225164998419712},\n",
        "{'method': 'PPMI', 'slice': 'kaiserreich2', 'dimension': 'religious', 'score_1': 1.9239493593443395, 'score_2': -0.2346955905744602, 'score_3': 0.7391465145199775, 'score4': 1.0067377883300832},\n",
        "{'method': 'PPMI', 'slice': 'weimar', 'dimension': 'religious', 'score_1': 2.9049956518754514, 'score_2': -0.44754761968131884, 'score_3': 2.053337381081336, 'score4': 2.0763213081172727},\n",
        "{'method': 'PPMI', 'slice': 'ns', 'dimension': 'religious', 'score_1': -1.7194092716022353, 'score_2': 0, 'score_3': 0, 'score4': 0},\n",
        "{'method': 'PPMI', 'slice': 'cdu1', 'dimension': 'religious', 'score_1': 1.1330742287383677, 'score_2': -2.762339225284954, 'score_3': -1.108400219060862, 'score4': 1.1591206404604417},\n",
        "{'method': 'PPMI', 'slice': 'spd1', 'dimension': 'religious', 'score_1': 0.5910095298042546, 'score_2': -1.3525596981178438, 'score_3': -1.5160375069907694, 'score4': 0.04860668223953327},\n",
        "{'method': 'PPMI', 'slice': 'cdu2', 'dimension': 'religious', 'score_1': 0.8960678767291325, 'score_2': -3.3131494266795913, 'score_3': -1.588617227292133, 'score4': 1.425208571144558},\n",
        "{'method': 'PPMI', 'slice': 'spd2', 'dimension': 'religious', 'score_1': 0.7762813901412428, 'score_2': -2.124523176572092, 'score_3': -1.2723002933256289, 'score4': 1.0665947666488813},\n",
        "{'method': 'PPMI', 'slice': 'cdu3', 'dimension': 'religious', 'score_1': 1.232476136276779, 'score_2': -1.2062685445787034, 'score_3': -0.24352318929080902, 'score4': 1.0399876333446891},\n",
        "\n",
        "\n",
        "{'method': 'PPMI', 'slice': 'kaiserreich1', 'dimension': 'racist', 'score_1': 0.5202890196057048, 'score_2': -0.5879370287916934, 'score_3': 0.5773471182618114, 'score4': 0.9377080943319853},\n",
        "{'method': 'PPMI', 'slice': 'kaiserreich2', 'dimension': 'racist', 'score_1': 1.9570528310018884, 'score_2': 0.4717302217892633, 'score_3': -0.0030193639626645897, 'score4': -0.44694534798933944},\n",
        "{'method': 'PPMI', 'slice': 'weimar', 'dimension': 'racist', 'score_1': 2.438709994543979, 'score_2': 0.10976684150585707, 'score_3': 0.7957729031192907, 'score4': 0.5014649920173814},\n",
        "{'method': 'PPMI', 'slice': 'ns', 'dimension': 'racist', 'score_1': 1.135536169157908, 'score_2': 0, 'score_3': 0, 'score4': 0},\n",
        "{'method': 'PPMI', 'slice': 'cdu1', 'dimension': 'racist', 'score_1': 0.3767538928885483, 'score_2': -2.664976543012052, 'score_3': -1.5716661933542182, 'score4': 0.577262328554038},\n",
        "{'method': 'PPMI', 'slice': 'spd1', 'dimension': 'racist', 'score_1': -0.1004974240098965, 'score_2': -2.640223181365992, 'score_3': -2.9135935999758256, 'score4': -0.4035225522733695},\n",
        "{'method': 'PPMI', 'slice': 'cdu2', 'dimension': 'racist', 'score_1': 1.2937117533938827, 'score_2': -2.5944388152347018, 'score_3': -1.5467581812937106, 'score4': 0.7837856557141005},\n",
        "{'method': 'PPMI', 'slice': 'spd2', 'dimension': 'racist', 'score_1': 1.6230308710814365, 'score_2': -1.5411236701188427, 'score_3': -0.519053297335181, 'score4': 1.2473464172895266},\n",
        "{'method': 'PPMI', 'slice': 'cdu3', 'dimension': 'racist', 'score_1': 1.9311961596623788, 'score_2': -1.1768183758777553, 'score_3': -0.4875393919020686, 'score4': 0.9410673686017741},\n",
        "\n",
        "\n",
        "{'method': 'PPMI', 'slice': 'kaiserreich1', 'dimension': 'ethic', 'score_1': -0.39947358956528545, 'score_2': -0.5270253324323813, 'score_3': -0.32505115528963535, 'score4': 0.01878044211621178},\n",
        "{'method': 'PPMI', 'slice': 'kaiserreich2', 'dimension': 'ethic', 'score_1': 1.6088798603352006, 'score_2': 0.35903963867135374, 'score_3': 0.2223680311538613, 'score4': -0.06218801267498672},\n",
        "{'method': 'PPMI', 'slice': 'weimar', 'dimension': 'ethic', 'score_1': 2.4354615840316263, 'score_2': -0.1057358829808476, 'score_3': 0.9610940439985542, 'score4': 0.8901727903010912},\n",
        "{'method': 'PPMI', 'slice': 'ns', 'dimension': 'ethic', 'score_1': -1.5915251383133922, 'score_2': 0, 'score_3': 0, 'score4': 0},\n",
        "{'method': 'PPMI', 'slice': 'cdu1', 'dimension': 'ethic', 'score_1': 0.5963494988229359, 'score_2': -2.283684740422881, 'score_3': -1.758792945614139, 'score4': 0.014149686767845795},\n",
        "{'method': 'PPMI', 'slice': 'spd1', 'dimension': 'ethic', 'score_1': 1.062149218502879, 'score_2': -1.7366217431474615, 'score_3': -1.337473540213309, 'score4': 0.5434804260221586},\n",
        "{'method': 'PPMI', 'slice': 'cdu2', 'dimension': 'ethic', 'score_1': 0.4707221058658645, 'score_2': -3.047295544522799, 'score_3': -2.5325874920981613, 'score4': 0.1847843060470109},\n",
        "{'method': 'PPMI', 'slice': 'spd2', 'dimension': 'ethic', 'score_1': 0.8126265426531175, 'score_2': -1.047589814667108, 'score_3': -0.8830592213983445, 'score4': 0.44912693117001734},\n",
        "{'method': 'PPMI', 'slice': 'cdu3', 'dimension': 'ethic', 'score_1': 1.3252548383674532, 'score_2': -0.9916203057665253, 'score_3': -0.7393694281693199, 'score4': 0.4265848456067582},\n",
        "\n",
        "\n",
        "]"
      ],
      "execution_count": null,
      "outputs": []
    },
    {
      "cell_type": "code",
      "metadata": {
        "id": "TLfnslgSGxiZ"
      },
      "source": [
        "anticommunism_scores_2 = [\n",
        "\n",
        "{'method': 'PPMI', 'slice': 'kaiserreich1', 'dimension': 'sentiment', 'score_1': 1.1612850452796626},\n",
        "{'method': 'PPMI', 'slice': 'kaiserreich2', 'dimension': 'sentiment', 'score_1': -0.6680285938489869},\n",
        "{'method': 'PPMI', 'slice': 'weimar', 'dimension': 'sentiment', 'score_1': -0.7822826242953418},\n",
        "{'method': 'PPMI', 'slice': 'ns', 'dimension': 'sentiment', 'score_1': -0.44497206512240894},\n",
        "{'method': 'PPMI', 'slice': 'cdu1', 'dimension': 'sentiment', 'score_1': -0.5842566637081387},\n",
        "{'method': 'PPMI', 'slice': 'spd1', 'dimension': 'sentiment', 'score_1': -1.9639605530109336},\n",
        "{'method': 'PPMI', 'slice': 'cdu2', 'dimension': 'sentiment', 'score_1': -1.111533161275397},\n",
        "{'method': 'PPMI', 'slice': 'spd2', 'dimension': 'sentiment', 'score_1': -0.05076842027944556},\n",
        "{'method': 'PPMI', 'slice': 'cdu3', 'dimension': 'sentiment', 'score_1': -0.024731269258014856},\n",
        "\n",
        "\n",
        "{'method': 'PPMI', 'slice': 'kaiserreich1', 'dimension': 'political', 'score_1': 0.325298939681413},\n",
        "{'method': 'PPMI', 'slice': 'kaiserreich2', 'dimension': 'political', 'score_1': -0.05910341493423487},\n",
        "{'method': 'PPMI', 'slice': 'weimar', 'dimension': 'political', 'score_1': -0.8180209907852568},\n",
        "{'method': 'PPMI', 'slice': 'ns', 'dimension': 'political', 'score_1': -0.510742010177012},\n",
        "{'method': 'PPMI', 'slice': 'cdu1', 'dimension': 'political', 'score_1': 0.6625626336011858},\n",
        "{'method': 'PPMI', 'slice': 'spd1', 'dimension': 'political', 'score_1': 0.16707851364245033},\n",
        "{'method': 'PPMI', 'slice': 'cdu2', 'dimension': 'political', 'score_1': -0.3522767704744922},\n",
        "{'method': 'PPMI', 'slice': 'spd2', 'dimension': 'political', 'score_1': 0.346606237267954},\n",
        "{'method': 'PPMI', 'slice': 'cdu3', 'dimension': 'political', 'score_1': -0.08255322305025824},\n",
        "\n",
        "\n",
        "{'method': 'PPMI', 'slice': 'kaiserreich1', 'dimension': 'propaganda', 'score_1': 0.2831066879139745},\n",
        "{'method': 'PPMI', 'slice': 'kaiserreich2', 'dimension': 'propaganda', 'score_1': 1.0897791393134286},\n",
        "{'method': 'PPMI', 'slice': 'weimar', 'dimension': 'propaganda', 'score_1': -0.28972805648108607},\n",
        "{'method': 'PPMI', 'slice': 'ns', 'dimension': 'propaganda', 'score_1': 0.41308676802418176},\n",
        "{'method': 'PPMI', 'slice': 'cdu1', 'dimension': 'propaganda', 'score_1': -0.18968294051690437},\n",
        "{'method': 'PPMI', 'slice': 'spd1', 'dimension': 'propaganda', 'score_1': 0.5926158549794259},\n",
        "{'method': 'PPMI', 'slice': 'cdu2', 'dimension': 'propaganda', 'score_1': -1.3007753521273986},\n",
        "{'method': 'PPMI', 'slice': 'spd2', 'dimension': 'propaganda', 'score_1': 1.2429396377642759},\n",
        "{'method': 'PPMI', 'slice': 'cdu3', 'dimension': 'propaganda', 'score_1': -0.6479950189087105},\n",
        "           \n",
        "]"
      ],
      "execution_count": null,
      "outputs": []
    },
    {
      "cell_type": "code",
      "metadata": {
        "id": "6fCWGZjmGxrz"
      },
      "source": [
        "anticommunism_scores_5 = [\n",
        "\n",
        "{'method': 'PPMI', 'slice': 'kaiserreich1', 'dimension': 'sentiment', 'score_1': 0.9674224702105676},\n",
        "{'method': 'PPMI', 'slice': 'kaiserreich2', 'dimension': 'sentiment', 'score_1': -0.2961199761011436},\n",
        "{'method': 'PPMI', 'slice': 'weimar', 'dimension': 'sentiment', 'score_1': -0.1931130643743601},\n",
        "{'method': 'PPMI', 'slice': 'ns', 'dimension': 'sentiment', 'score_1': 0.9609902993856384},\n",
        "{'method': 'PPMI', 'slice': 'cdu1', 'dimension': 'sentiment', 'score_1': -1.4026000760215598},\n",
        "{'method': 'PPMI', 'slice': 'spd1', 'dimension': 'sentiment', 'score_1': -1.9928540331014402},\n",
        "{'method': 'PPMI', 'slice': 'cdu2', 'dimension': 'sentiment', 'score_1': -0.29032543888448575},\n",
        "{'method': 'PPMI', 'slice': 'spd2', 'dimension': 'sentiment', 'score_1': -0.66584850762854},\n",
        "{'method': 'PPMI', 'slice': 'cdu3', 'dimension': 'sentiment', 'score_1': 0.2103485642389707},\n",
        "\n",
        "\n",
        "{'method': 'PPMI', 'slice': 'kaiserreich1', 'dimension': 'political', 'score_1': 0.3253055877172303},\n",
        "{'method': 'PPMI', 'slice': 'kaiserreich2', 'dimension': 'political', 'score_1': -0.2484057442045563},\n",
        "{'method': 'PPMI', 'slice': 'weimar', 'dimension': 'political', 'score_1': -0.4834666567131182},\n",
        "{'method': 'PPMI', 'slice': 'ns', 'dimension': 'political', 'score_1': 0.7240281979224236},\n",
        "{'method': 'PPMI', 'slice': 'cdu1', 'dimension': 'political', 'score_1': 0.492767344187777},\n",
        "{'method': 'PPMI', 'slice': 'spd1', 'dimension': 'political', 'score_1': 0.16725621292627568},\n",
        "{'method': 'PPMI', 'slice': 'cdu2', 'dimension': 'political', 'score_1': 0.9056106752483203},\n",
        "{'method': 'PPMI', 'slice': 'spd2', 'dimension': 'political', 'score_1': -0.44778508566856684},\n",
        "{'method': 'PPMI', 'slice': 'cdu3', 'dimension': 'political', 'score_1': 0.6229447617235171},\n",
        "\n",
        "\n",
        "{'method': 'PPMI', 'slice': 'kaiserreich1', 'dimension': 'propaganda', 'score_1': 0.29006546945524314},\n",
        "{'method': 'PPMI', 'slice': 'kaiserreich2', 'dimension': 'propaganda', 'score_1': 2.274442023330604},\n",
        "{'method': 'PPMI', 'slice': 'weimar', 'dimension': 'propaganda', 'score_1': 0.11791125401467746},\n",
        "{'method': 'PPMI', 'slice': 'ns', 'dimension': 'propaganda', 'score_1': 0.6344561156705424},\n",
        "{'method': 'PPMI', 'slice': 'cdu1', 'dimension': 'propaganda', 'score_1': -0.5338934515276944},\n",
        "{'method': 'PPMI', 'slice': 'spd1', 'dimension': 'propaganda', 'score_1': 0.58834120312497},\n",
        "{'method': 'PPMI', 'slice': 'cdu2', 'dimension': 'propaganda', 'score_1': -0.6043116751010731},\n",
        "{'method': 'PPMI', 'slice': 'spd2', 'dimension': 'propaganda', 'score_1': -0.2854128759501817},\n",
        "{'method': 'PPMI', 'slice': 'cdu3', 'dimension': 'propaganda', 'score_1': -0.7458401059325573},\n",
        "            \n",
        "]"
      ],
      "execution_count": null,
      "outputs": []
    },
    {
      "cell_type": "code",
      "metadata": {
        "id": "5W91GDKrHAdW"
      },
      "source": [
        "anticommunism_scores_10 = [\n",
        "\n",
        "\n",
        "{'method': 'PPMI', 'slice': 'kaiserreich1', 'dimension': 'sentiment', 'score_1': 0.9198868764450792},\n",
        "{'method': 'PPMI', 'slice': 'kaiserreich2', 'dimension': 'sentiment', 'score_1': -0.1555445613034906},\n",
        "{'method': 'PPMI', 'slice': 'weimar', 'dimension': 'sentiment', 'score_1': 0.0984376408836441},\n",
        "{'method': 'PPMI', 'slice': 'ns', 'dimension': 'sentiment', 'score_1': -0.4607921881913523},\n",
        "{'method': 'PPMI', 'slice': 'cdu1', 'dimension': 'sentiment', 'score_1': -1.7013471006580398},\n",
        "{'method': 'PPMI', 'slice': 'spd1', 'dimension': 'sentiment', 'score_1': -2.053148089457431},\n",
        "{'method': 'PPMI', 'slice': 'cdu2', 'dimension': 'sentiment', 'score_1': -0.0172129023447298},\n",
        "{'method': 'PPMI', 'slice': 'spd2', 'dimension': 'sentiment', 'score_1': -1.4833284320428357},\n",
        "{'method': 'PPMI', 'slice': 'cdu3', 'dimension': 'sentiment', 'score_1': -0.2244872772957883},\n",
        "\n",
        "\n",
        "{'method': 'PPMI', 'slice': 'kaiserreich1', 'dimension': 'political', 'score_1': -0.17070927751757936},\n",
        "{'method': 'PPMI', 'slice': 'kaiserreich2', 'dimension': 'political', 'score_1': -0.333308409881082},\n",
        "{'method': 'PPMI', 'slice': 'weimar', 'dimension': 'political', 'score_1': -0.2501289370604743},\n",
        "{'method': 'PPMI', 'slice': 'ns', 'dimension': 'political', 'score_1': -0.0765679644355955},\n",
        "{'method': 'PPMI', 'slice': 'cdu1', 'dimension': 'political', 'score_1': 0.49205750181793606},\n",
        "{'method': 'PPMI', 'slice': 'spd1', 'dimension': 'political', 'score_1': -0.018061846400961132},\n",
        "{'method': 'PPMI', 'slice': 'cdu2', 'dimension': 'political', 'score_1': 1.536717585335587},\n",
        "{'method': 'PPMI', 'slice': 'spd2', 'dimension': 'political', 'score_1': -0.921899427686335},\n",
        "{'method': 'PPMI', 'slice': 'cdu3', 'dimension': 'political', 'score_1': 0.08698674455609369},\n",
        "\n",
        "\n",
        "{'method': 'PPMI', 'slice': 'kaiserreich1', 'dimension': 'propaganda', 'score_1': 0.26022453731367307},\n",
        "{'method': 'PPMI', 'slice': 'kaiserreich2', 'dimension': 'propaganda', 'score_1': 2.2412648264481976},\n",
        "{'method': 'PPMI', 'slice': 'weimar', 'dimension': 'propaganda', 'score_1': 0.08096855131469673},\n",
        "{'method': 'PPMI', 'slice': 'ns', 'dimension': 'propaganda', 'score_1': -0.6380255568973178},\n",
        "{'method': 'PPMI', 'slice': 'cdu1', 'dimension': 'propaganda', 'score_1': -0.4404566394053806},\n",
        "{'method': 'PPMI', 'slice': 'spd1', 'dimension': 'propaganda', 'score_1': -0.09646720416142794},\n",
        "{'method': 'PPMI', 'slice': 'cdu2', 'dimension': 'propaganda', 'score_1': -0.18453035482145735},\n",
        "{'method': 'PPMI', 'slice': 'spd2', 'dimension': 'propaganda', 'score_1': -0.4219859002386768},\n",
        "{'method': 'PPMI', 'slice': 'cdu3', 'dimension': 'propaganda', 'score_1': -0.9948204932509385},\n",
        "\n",
        "]"
      ],
      "execution_count": null,
      "outputs": []
    },
    {
      "cell_type": "code",
      "metadata": {
        "id": "zqJJqXJ5Gg8v"
      },
      "source": [
        "antisemitism_scores_2 = [\n",
        "                         \n",
        "                         \n",
        "]"
      ],
      "execution_count": null,
      "outputs": []
    },
    {
      "cell_type": "code",
      "metadata": {
        "id": "ziSXC4XVGVpm"
      },
      "source": [
        "antisemitism_scores_5 = [\n",
        "\n",
        "\n",
        "{'method': 'PPMI', 'slice': 'kaiserreich1', 'dimension': 'sentiment', 'score_1': 0.42748264764620514, 'score_2': -0.20940041521001415, 'score_3': 0.14282334640793473, 'score4': 0.2617240386790354},\n",
        "{'method': 'PPMI', 'slice': 'kaiserreich2', 'dimension': 'sentiment', 'score_1': 2.1220533470717386, 'score_2': 0.14711130214654314, 'score_3': 0.4120577291966645, 'score4': 0.340717138261302},\n",
        "{'method': 'PPMI', 'slice': 'weimar', 'dimension': 'sentiment', 'score_1': 1.803197719632043, 'score_2': -1.232116243949735, 'score_3': -0.33871210510402566, 'score4': 1.068198076916197},\n",
        "{'method': 'PPMI', 'slice': 'ns', 'dimension': 'sentiment', 'score_1': 1.1258893417832474, 'score_2': 0, 'score_3': 0, 'score4': 0},\n",
        "{'method': 'PPMI', 'slice': 'cdu1', 'dimension': 'sentiment', 'score_1': 2.8089425009096254, 'score_2': -2.0919100701302487, 'score_3': 0.3461033035006078, 'score4': 1.9752393035399107},\n",
        "{'method': 'PPMI', 'slice': 'spd1', 'dimension': 'sentiment', 'score_1': 1.9746303312594338, 'score_2': -3.914439473359278, 'score_3': 0.7845225314113896, 'score4': 4.348709482529624},\n",
        "{'method': 'PPMI', 'slice': 'cdu2', 'dimension': 'sentiment', 'score_1': 2.2576237077848123, 'score_2': -0.5264034326341002, 'score_3': -0.011924145823576818, 'score4': 0.45303231161029556},\n",
        "{'method': 'PPMI', 'slice': 'spd2', 'dimension': 'sentiment', 'score_1': 2.581906106291863, 'score_2': -1.3051343432433389, 'score_3': 1.0982400338150478, 'score4': 2.8520370999455533},\n",
        "{'method': 'PPMI', 'slice': 'cdu3', 'dimension': 'sentiment', 'score_1': 0.9661952978221905, 'score_2': -1.4210079399832067, 'score_3': -0.8934120277585428, 'score4': 0.884209332745646},\n",
        "\n",
        "\n",
        "{'method': 'PPMI', 'slice': 'kaiserreich1', 'dimension': 'patriotic', 'score_1': 0.6584845680199548, 'score_2': -0.7668900960628149, 'score_3': 0.26476255054660447, 'score4': 0.7635713964147434},\n",
        "{'method': 'PPMI', 'slice': 'kaiserreich2', 'dimension': 'patriotic', 'score_1': 0.4494945570933738, 'score_2': -0.1282701175743794, 'score_3': -1.4967594516499376, 'score4': -1.5851320312435293},\n",
        "{'method': 'PPMI', 'slice': 'weimar', 'dimension': 'patriotic', 'score_1': 2.3250933374125, 'score_2': -1.026831923226574, 'score_3': -0.34745035813534764, 'score4': 0.8759276948141717},\n",
        "{'method': 'PPMI', 'slice': 'ns', 'dimension': 'patriotic', 'score_1': -0.7891172825313508, 'score_2': 0, 'score_3': 0, 'score4': 0},\n",
        "{'method': 'PPMI', 'slice': 'cdu1', 'dimension': 'patriotic', 'score_1': 2.3839929229261885, 'score_2': -2.7318489549212894, 'score_3': -0.12190137118186448, 'score4': 1.8975573303655544},\n",
        "{'method': 'PPMI', 'slice': 'spd1', 'dimension': 'patriotic', 'score_1': 1.025323105549742, 'score_2': -2.497928107851204, 'score_3': -0.5847140022133734, 'score4': 1.6333695241796486},\n",
        "{'method': 'PPMI', 'slice': 'cdu2', 'dimension': 'patriotic', 'score_1': 0.8663724067612527, 'score_2': -1.0354391348280005, 'score_3': -1.9092631222867922, 'score4': -0.31304429028875735},\n",
        "{'method': 'PPMI', 'slice': 'spd2', 'dimension': 'patriotic', 'score_1': 0.15423620585804693, 'score_2': -1.6005635694197708, 'score_3': -1.7014105226861753, 'score4': -0.19876852653003727},\n",
        "{'method': 'PPMI', 'slice': 'cdu3', 'dimension': 'patriotic', 'score_1': 0.5622453400088412, 'score_2': -0.9701738854341616, 'score_3': -1.646504143128953, 'score4': -0.7026836088992376},\n",
        "\n",
        "\n",
        "{'method': 'PPMI', 'slice': 'kaiserreich1', 'dimension': 'economic', 'score_1': 0.43316047635119115, 'score_2': -1.086076585023053, 'score_3': 0.24512160481005976, 'score4': 0.9369444848192899},\n",
        "{'method': 'PPMI', 'slice': 'kaiserreich2', 'dimension': 'economic', 'score_1': 2.415322382196986, 'score_2': 0.2156921023843054, 'score_3': 0.7560481957646813, 'score4': 0.6767394639864512},\n",
        "{'method': 'PPMI', 'slice': 'weimar', 'dimension': 'economic', 'score_1': 2.3622864533219676, 'score_2': -0.7344195654319013, 'score_3': 0.3986707955193434, 'score4': 1.2434942813022634},\n",
        "{'method': 'PPMI', 'slice': 'ns', 'dimension': 'economic', 'score_1': -0.4711258676571052, 'score_2': 0, 'score_3': 0, 'score4': 0},\n",
        "{'method': 'PPMI', 'slice': 'cdu1', 'dimension': 'economic', 'score_1': 1.6330209317284456, 'score_2': -2.5172365449543928, 'score_3': -0.6654597567832269, 'score4': 1.1672244049632252},\n",
        "{'method': 'PPMI', 'slice': 'spd1', 'dimension': 'economic', 'score_1': 0.7715922989326971, 'score_2': -2.6149290952354747, 'score_3': -1.4954432054583349, 'score4': 1.1603749031052548},\n",
        "{'method': 'PPMI', 'slice': 'cdu2', 'dimension': 'economic', 'score_1': 1.0127115122033241, 'score_2': -0.9280904037676242, 'score_3': -1.5441393278617714, 'score4': -0.21750590298431544},\n",
        "{'method': 'PPMI', 'slice': 'spd2', 'dimension': 'economic', 'score_1': 1.2524546221517545, 'score_2': -1.7153800200461715, 'score_3': -0.8400838193461576, 'score4': 1.0967731626937172},\n",
        "{'method': 'PPMI', 'slice': 'cdu3', 'dimension': 'economic', 'score_1': 1.0128983284562634, 'score_2': -0.4698683334898596, 'score_3': -1.3083399617730331, 'score4': -0.7177695349530697},\n",
        "\n",
        "\n",
        "{'method': 'PPMI', 'slice': 'kaiserreich1', 'dimension': 'conspiratorial', 'score_1': 0.1672950109283283, 'score_2': -0.46066240492022453, 'score_3': 0.3013063518633753, 'score4': 0.5803474496610228},\n",
        "{'method': 'PPMI', 'slice': 'kaiserreich2', 'dimension': 'conspiratorial', 'score_1': 0.35505614428897847, 'score_2': 0.2129578034748594, 'score_3': -1.209817697595474, 'score4': -1.5809354807130347},\n",
        "{'method': 'PPMI', 'slice': 'weimar', 'dimension': 'conspiratorial', 'score_1': 2.5887059938225425, 'score_2': -1.0865045999010838, 'score_3': 0.3557306814032353, 'score4': 1.666763402028345},\n",
        "{'method': 'PPMI', 'slice': 'ns', 'dimension': 'conspiratorial', 'score_1': -1.807739233174468, 'score_2': 0, 'score_3': 0, 'score4': 0},\n",
        "{'method': 'PPMI', 'slice': 'cdu1', 'dimension': 'conspiratorial', 'score_1': 1.2590861537073748, 'score_2': -2.87452914462038, 'score_3': -0.9783258983126475, 'score4': 0.9720955926353625},\n",
        "{'method': 'PPMI', 'slice': 'spd1', 'dimension': 'conspiratorial', 'score_1': 0.6382164504211953, 'score_2': -3.872391476219626, 'score_3': -1.4183116167042165, 'score4': 2.050317593117371},\n",
        "{'method': 'PPMI', 'slice': 'cdu2', 'dimension': 'conspiratorial', 'score_1': 0.017699489232590047, 'score_2': -0.7793874192564155, 'score_3': -2.4613715657914064, 'score4': -1.0717337695192433},\n",
        "{'method': 'PPMI', 'slice': 'spd2', 'dimension': 'conspiratorial', 'score_1': 0.854156301385352, 'score_2': -1.4833337464960505, 'score_3': -1.3978058260313941, 'score4': 0.3250525331560286},\n",
        "{'method': 'PPMI', 'slice': 'cdu3', 'dimension': 'conspiratorial', 'score_1': 1.1258792798035062, 'score_2': -1.2298234086478246, 'score_3': -1.066312582073101, 'score4': 0.4141216242183664},\n",
        "\n",
        "\n",
        "{'method': 'PPMI', 'slice': 'kaiserreich1', 'dimension': 'religious', 'score_1': 0.5748164708435894, 'score_2': -0.6035641937775266, 'score_3': 0.5034451982484456, 'score4': 0.9164918660461383},\n",
        "{'method': 'PPMI', 'slice': 'kaiserreich2', 'dimension': 'religious', 'score_1': 1.923651089247659, 'score_2': -0.23522798342831217, 'score_3': 0.739188005177968, 'score4': 1.007221013204464},\n",
        "{'method': 'PPMI', 'slice': 'weimar', 'dimension': 'religious', 'score_1': 2.840908242995226, 'score_2': -0.6565852726288981, 'score_3': 0.9495073845842107, 'score4': 1.6748094327255827},\n",
        "{'method': 'PPMI', 'slice': 'ns', 'dimension': 'religious', 'score_1': -1.2056943149007295, 'score_2': 0, 'score_3': 0, 'score4': 0},\n",
        "{'method': 'PPMI', 'slice': 'cdu1', 'dimension': 'religious', 'score_1': 1.4655481263117007, 'score_2': -3.0167564170319405, 'score_3': -0.536875763335413, 'score4': 1.6744181816696213},\n",
        "{'method': 'PPMI', 'slice': 'spd1', 'dimension': 'religious', 'score_1': 0.5169007438225379, 'score_2': -2.1210234578572296, 'score_3': -1.581091845770689, 'score4': 0.4445416909245942},\n",
        "{'method': 'PPMI', 'slice': 'cdu2', 'dimension': 'religious', 'score_1': 0.9222139629392222, 'score_2': -1.1831225915119865, 'score_3': -1.666857301817149, 'score4': -0.04728052164630974},\n",
        "{'method': 'PPMI', 'slice': 'spd2', 'dimension': 'religious', 'score_1': 0.8034516451585614, 'score_2': -2.0967998842648874, 'score_3': -1.065313791222169, 'score4': 1.2458689906767946},\n",
        "{'method': 'PPMI', 'slice': 'cdu3', 'dimension': 'religious', 'score_1': 0.6582467890635665, 'score_2': -1.178311376028708, 'score_3': -1.2603766923326198, 'score4': 0.12861206524594232},\n",
        "\n",
        "\n",
        "{'method': 'PPMI', 'slice': 'kaiserreich1', 'dimension': 'racist', 'score_1': 0.33582850751792087, 'score_2': -0.871739146328085, 'score_3': 0.452351012326332, 'score4': 0.9282103551314148},\n",
        "{'method': 'PPMI', 'slice': 'kaiserreich2', 'dimension': 'racist', 'score_1': 1.9458559938104567, 'score_2': 0.46546080127559336, 'score_3': -0.007201226959702842, 'score4': -0.44572888608908234},\n",
        "{'method': 'PPMI', 'slice': 'weimar', 'dimension': 'racist', 'score_1': 2.5814663672972307, 'score_2': -0.4096845629760624, 'score_3': 0.12171066486759104, 'score4': 0.5673469024536849},\n",
        "{'method': 'PPMI', 'slice': 'ns', 'dimension': 'racist', 'score_1': 1.1941854986261886, 'score_2': 0, 'score_3': 0, 'score4': 0},\n",
        "{'method': 'PPMI', 'slice': 'cdu1', 'dimension': 'racist', 'score_1': 1.1214189423924217, 'score_2': -2.7249620474726437, 'score_3': -0.8252509593171594, 'score4': 1.131617557502056},\n",
        "{'method': 'PPMI', 'slice': 'spd1', 'dimension': 'racist', 'score_1': 0.048477942554165106, 'score_2': -3.745247333269539, 'score_3': -2.699031750801977, 'score4': 0.3981805058644363},\n",
        "{'method': 'PPMI', 'slice': 'cdu2', 'dimension': 'racist', 'score_1': 1.365171487180761, 'score_2': -0.7030634729379694, 'score_3': -1.553552061616902, 'score4': -0.4219265443656566},\n",
        "{'method': 'PPMI', 'slice': 'spd2', 'dimension': 'racist', 'score_1': 1.869674703899408, 'score_2': -1.4011129825107504, 'score_3': -0.4183085350016429, 'score4': 1.184191404281444},\n",
        "{'method': 'PPMI', 'slice': 'cdu3', 'dimension': 'racist', 'score_1': 1.2683525803997944, 'score_2': -1.0935637597497831, 'score_3': -1.125660828351404, 'score4': 0.22407718277671523},\n",
        "\n",
        "\n",
        "{'method': 'PPMI', 'slice': 'kaiserreich1', 'dimension': 'ethic', 'score_1': -0.2369864014061536, 'score_2': -0.7008611995658951, 'score_3': -0.05380900202160472, 'score4': 0.3702778464912789},\n",
        "{'method': 'PPMI', 'slice': 'kaiserreich2', 'dimension': 'ethic', 'score_1': 1.608550045407153, 'score_2': 0.358514445076785, 'score_3': 0.22224810314374974, 'score4': -0.061888817388381756},\n",
        "{'method': 'PPMI', 'slice': 'weimar', 'dimension': 'ethic', 'score_1': 2.588136149448095, 'score_2': -0.6291525155863236, 'score_3': 0.26351510896003544, 'score4': 0.9856911499240489},\n",
        "{'method': 'PPMI', 'slice': 'ns', 'dimension': 'ethic', 'score_1': -0.8661810341119073, 'score_2': 0, 'score_3': 0, 'score4': 0},\n",
        "{'method': 'PPMI', 'slice': 'cdu1', 'dimension': 'ethic', 'score_1': 1.3865998534209152, 'score_2': -2.3439111384850935, 'score_3': -0.9518724927715616, 'score4': 0.7026875951210967},\n",
        "{'method': 'PPMI', 'slice': 'spd1', 'dimension': 'ethic', 'score_1': 1.0605587525338969, 'score_2': -2.78903233153792, 'score_3': -1.1468202704138273, 'score4': 1.4720669672947948},\n",
        "{'method': 'PPMI', 'slice': 'cdu2', 'dimension': 'ethic', 'score_1': 0.5587629190406009, 'score_2': -1.0157883039636522, 'score_3': -2.531967780406663, 'score4': -0.8867971409704225},\n",
        "{'method': 'PPMI', 'slice': 'spd2', 'dimension': 'ethic', 'score_1': 1.16752704238256, 'score_2': -0.9725263229385942, 'score_3': -0.6831118144554965, 'score4': 0.49026064904351496},\n",
        "{'method': 'PPMI', 'slice': 'cdu3', 'dimension': 'ethic', 'score_1': 0.8418994933887117, 'score_2': -0.9691916210477455, 'score_3': -1.2857173736383811, 'score4': -0.10956707540931339},\n",
        "          \n",
        "]"
      ],
      "execution_count": null,
      "outputs": []
    },
    {
      "cell_type": "code",
      "metadata": {
        "id": "83vQefGraXXe"
      },
      "source": [
        "antisemitism_scores_10 = [\n",
        "\n",
        "\n",
        "{'method': 'PPMI', 'slice': 'kaiserreich1', 'dimension': 'sentiment', 'score_1': 0.37670222200402464, 'score_2': -0.005299272610730026, 'score_3': -0.1005426408747933, 'score4': -0.09656219631595123},\n",
        "{'method': 'PPMI', 'slice': 'kaiserreich2', 'dimension': 'sentiment', 'score_1': 2.119377859966723, 'score_2': 0.1430430297007514, 'score_3': 0.4086986026541192, 'score4': 0.34027764551077605},\n",
        "{'method': 'PPMI', 'slice': 'weimar', 'dimension': 'sentiment', 'score_1': 1.5636696729757658, 'score_2': -0.8413002471351207, 'score_3': 0.19445380632826673, 'score4': 0.9159093861067269},\n",
        "{'method': 'PPMI', 'slice': 'ns', 'dimension': 'sentiment', 'score_1': 0.9573937381168157, 'score_2': 0, 'score_3': 0, 'score4': 0},\n",
        "{'method': 'PPMI', 'slice': 'cdu1', 'dimension': 'sentiment', 'score_1': 2.086692426010238, 'score_2': -1.9864471852427699, 'score_3': -0.6126513787372713, 'score4': 1.1433849792296389},\n",
        "{'method': 'PPMI', 'slice': 'spd1', 'dimension': 'sentiment', 'score_1': 2.3385925723215295, 'score_2': -2.8658585205066323, 'score_3': 0.5659282063325999, 'score4': 3.4722871826079995},\n",
        "{'method': 'PPMI', 'slice': 'cdu2', 'dimension': 'sentiment', 'score_1': 2.236918679757371, 'score_2': -2.670563518100511, 'score_3': 0.05180901755172614, 'score4': 2.2984952329388797},\n",
        "{'method': 'PPMI', 'slice': 'spd2', 'dimension': 'sentiment', 'score_1': 2.574988097947276, 'score_2': -1.3147674196303807, 'score_3': 1.1083220722663298, 'score4': 3.07698986247166},\n",
        "{'method': 'PPMI', 'slice': 'cdu3', 'dimension': 'sentiment', 'score_1': 1.5959697430745707, 'score_2': -1.6189875255172632, 'score_3': 0.06037460221312991, 'score4': 2.1335998636097515},\n",
        "\n",
        "\n",
        "{'method': 'PPMI', 'slice': 'kaiserreich1', 'dimension': 'patriotic', 'score_1': 0.6264663422414063, 'score_2': -0.5503061558472059, 'score_3': 0.04975521922434832, 'score4': 0.45985352756975634},\n",
        "{'method': 'PPMI', 'slice': 'kaiserreich2', 'dimension': 'patriotic', 'score_1': 0.4497006269249871, 'score_2': -0.12789222918112547, 'score_3': -1.4964799987174373, 'score4': -1.5851977431894526},\n",
        "{'method': 'PPMI', 'slice': 'weimar', 'dimension': 'patriotic', 'score_1': 2.4354922664115697, 'score_2': -0.5588773459025083, 'score_3': 0.56450812682738, 'score4': 1.0104171532851058},\n",
        "{'method': 'PPMI', 'slice': 'ns', 'dimension': 'patriotic', 'score_1': 0, 'score_2': 0, 'score_3': 0, 'score4': 0},\n",
        "{'method': 'PPMI', 'slice': 'cdu1', 'dimension': 'patriotic', 'score_1': 1.753005027837147, 'score_2': -2.708172978162502, 'score_3': -0.7730086712669643, 'score4': 1.5412882069041958},\n",
        "{'method': 'PPMI', 'slice': 'spd1', 'dimension': 'patriotic', 'score_1': 1.3268614669166483, 'score_2': -1.4680344736325102, 'score_3': -0.44506543486795186, 'score4': 0.9290309570683057},\n",
        "{'method': 'PPMI', 'slice': 'cdu2', 'dimension': 'patriotic', 'score_1': 0.7893871560056842, 'score_2': -2.9189534484681423, 'score_3': -1.9264151334344242, 'score4': 0.835193818333426},\n",
        "{'method': 'PPMI', 'slice': 'spd2', 'dimension': 'patriotic', 'score_1': -0.2952483992358144, 'score_2': -1.8632523419804898, 'score_3': -1.7657457790593678, 'score4': -0.1344136469554441},\n",
        "{'method': 'PPMI', 'slice': 'cdu3', 'dimension': 'patriotic', 'score_1': 2.1691813528633865, 'score_2': -1.0358880307462626, 'score_3': -0.08109223331008768, 'score4': 1.1053033364089166},\n",
        "\n",
        "\n",
        "{'method': 'PPMI', 'slice': 'kaiserreich1', 'dimension': 'economic', 'score_1': 0.25808692851993387, 'score_2': -0.9969401079552502, 'score_3': -0.14102396142766274, 'score4': 0.5269990141142932},\n",
        "{'method': 'PPMI', 'slice': 'kaiserreich2', 'dimension': 'economic', 'score_1': 2.4045477806644846, 'score_2': 0.21703774279927615, 'score_3': 0.7541211087508518, 'score4': 0.6731483926035725},\n",
        "{'method': 'PPMI', 'slice': 'weimar', 'dimension': 'economic', 'score_1': 2.1871990417387956, 'score_2': -0.20903883025626185, 'score_3': 1.1342840005853423, 'score4': 1.124279714273823},\n",
        "{'method': 'PPMI', 'slice': 'ns', 'dimension': 'economic', 'score_1': -0.46809572931896015, 'score_2': 0, 'score_3': 0, 'score4': 0},\n",
        "{'method': 'PPMI', 'slice': 'cdu1', 'dimension': 'economic', 'score_1': 0.952699900071511, 'score_2': -2.5429698233556586, 'score_3': -1.4216260464370758, 'score4': 0.6351249453304479},\n",
        "{'method': 'PPMI', 'slice': 'spd1', 'dimension': 'economic', 'score_1': 0.6376729885777802, 'score_2': -1.6263416554655998, 'score_3': -1.7988125271078437, 'score4': 0.2610185871831942},\n",
        "{'method': 'PPMI', 'slice': 'cdu2', 'dimension': 'economic', 'score_1': 0.9453730577679547, 'score_2': -2.7986907330200874, 'score_3': -1.5368854429673147, 'score4': 1.0594492795486818},\n",
        "{'method': 'PPMI', 'slice': 'spd2', 'dimension': 'economic', 'score_1': 0.9658203967373897, 'score_2': -1.8959831782543688, 'score_3': -0.9763044716408937, 'score4': 1.1790498251067023},\n",
        "{'method': 'PPMI', 'slice': 'cdu3', 'dimension': 'economic', 'score_1': 1.3899392742952357, 'score_2': -0.2338856368493809, 'score_3': -0.9922476067712904, 'score4': -0.5293944899257207},\n",
        "\n",
        "\n",
        "{'method': 'PPMI', 'slice': 'kaiserreich1', 'dimension': 'conspiratorial', 'score_1': 0.25383880123793107, 'score_2': -0.3493278664899513, 'score_3': 0.0768535463192094, 'score4': 0.3031259270628789},\n",
        "{'method': 'PPMI', 'slice': 'kaiserreich2', 'dimension': 'conspiratorial', 'score_1': 0.3546223104304719, 'score_2': 0.2132336007549482, 'score_3': -1.2097626824637222, 'score4': -1.5810862970769777},\n",
        "{'method': 'PPMI', 'slice': 'weimar', 'dimension': 'conspiratorial', 'score_1': 2.3923101914527587, 'score_2': -0.633825209432788, 'score_3': 0.9771798867481873, 'score4': 1.4709552134881954},\n",
        "{'method': 'PPMI', 'slice': 'ns', 'dimension': 'conspiratorial', 'score_1': -1.8344402630863872, 'score_2': 0, 'score_3': 0, 'score4': 0},\n",
        "{'method': 'PPMI', 'slice': 'cdu1', 'dimension': 'conspiratorial', 'score_1': 0.6230767247438818, 'score_2': -2.901556568255976, 'score_3': -1.7233488031688415, 'score4': 0.4141316981173892},\n",
        "{'method': 'PPMI', 'slice': 'spd1', 'dimension': 'conspiratorial', 'score_1': 0.5422717948190618, 'score_2': -2.6824805710639805, 'score_3': -1.8438333095102444, 'score4': 1.069268985483234},\n",
        "{'method': 'PPMI', 'slice': 'cdu2', 'dimension': 'conspiratorial', 'score_1': -0.11834856355440686, 'score_2': -2.0923119773823093, 'score_3': -2.50062267511351, 'score4': -0.350292001144928},\n",
        "{'method': 'PPMI', 'slice': 'spd2', 'dimension': 'conspiratorial', 'score_1': 0.4199517970379373, 'score_2': -1.651038973191462, 'score_3': -1.5294489176432593, 'score4': 0.4036153625479281},\n",
        "{'method': 'PPMI', 'slice': 'cdu3', 'dimension': 'conspiratorial', 'score_1': 1.492761147643538, 'score_2': -1.5121322447698295, 'score_3': -0.6249482337788942, 'score4': 1.1697522119955668},\n",
        "\n",
        "\n",
        "{'method': 'PPMI', 'slice': 'kaiserreich1', 'dimension': 'religious', 'score_1': 0.5600850935866192, 'score_2': -0.40343499951634487, 'score_3': 0.3105193944696587, 'score4': 0.6225164998419712},\n",
        "{'method': 'PPMI', 'slice': 'kaiserreich2', 'dimension': 'religious', 'score_1': 1.9239493593443395, 'score_2': -0.2346955905744602, 'score_3': 0.7391465145199775, 'score4': 1.0067377883300832},\n",
        "{'method': 'PPMI', 'slice': 'weimar', 'dimension': 'religious', 'score_1': 2.9049956518754514, 'score_2': -0.44754761968131884, 'score_3': 2.053337381081336, 'score4': 2.0763213081172727},\n",
        "{'method': 'PPMI', 'slice': 'ns', 'dimension': 'religious', 'score_1': -1.7194092716022353, 'score_2': 0, 'score_3': 0, 'score4': 0},\n",
        "{'method': 'PPMI', 'slice': 'cdu1', 'dimension': 'religious', 'score_1': 1.1330742287383677, 'score_2': -2.762339225284954, 'score_3': -1.108400219060862, 'score4': 1.1591206404604417},\n",
        "{'method': 'PPMI', 'slice': 'spd1', 'dimension': 'religious', 'score_1': 0.5910095298042546, 'score_2': -1.3525596981178438, 'score_3': -1.5160375069907694, 'score4': 0.04860668223953327},\n",
        "{'method': 'PPMI', 'slice': 'cdu2', 'dimension': 'religious', 'score_1': 0.8960678767291325, 'score_2': -3.3131494266795913, 'score_3': -1.588617227292133, 'score4': 1.425208571144558},\n",
        "{'method': 'PPMI', 'slice': 'spd2', 'dimension': 'religious', 'score_1': 0.7762813901412428, 'score_2': -2.124523176572092, 'score_3': -1.2723002933256289, 'score4': 1.0665947666488813},\n",
        "{'method': 'PPMI', 'slice': 'cdu3', 'dimension': 'religious', 'score_1': 1.232476136276779, 'score_2': -1.2062685445787034, 'score_3': -0.24352318929080902, 'score4': 1.0399876333446891},\n",
        "\n",
        "\n",
        "{'method': 'PPMI', 'slice': 'kaiserreich1', 'dimension': 'racist', 'score_1': 0.5202890196057048, 'score_2': -0.5879370287916934, 'score_3': 0.5773471182618114, 'score4': 0.9377080943319853},\n",
        "{'method': 'PPMI', 'slice': 'kaiserreich2', 'dimension': 'racist', 'score_1': 1.9570528310018884, 'score_2': 0.4717302217892633, 'score_3': -0.0030193639626645897, 'score4': -0.44694534798933944},\n",
        "{'method': 'PPMI', 'slice': 'weimar', 'dimension': 'racist', 'score_1': 2.438709994543979, 'score_2': 0.10976684150585707, 'score_3': 0.7957729031192907, 'score4': 0.5014649920173814},\n",
        "{'method': 'PPMI', 'slice': 'ns', 'dimension': 'racist', 'score_1': 1.135536169157908, 'score_2': 0, 'score_3': 0, 'score4': 0},\n",
        "{'method': 'PPMI', 'slice': 'cdu1', 'dimension': 'racist', 'score_1': 0.3767538928885483, 'score_2': -2.664976543012052, 'score_3': -1.5716661933542182, 'score4': 0.577262328554038},\n",
        "{'method': 'PPMI', 'slice': 'spd1', 'dimension': 'racist', 'score_1': -0.1004974240098965, 'score_2': -2.640223181365992, 'score_3': -2.9135935999758256, 'score4': -0.4035225522733695},\n",
        "{'method': 'PPMI', 'slice': 'cdu2', 'dimension': 'racist', 'score_1': 1.2937117533938827, 'score_2': -2.5944388152347018, 'score_3': -1.5467581812937106, 'score4': 0.7837856557141005},\n",
        "{'method': 'PPMI', 'slice': 'spd2', 'dimension': 'racist', 'score_1': 1.6230308710814365, 'score_2': -1.5411236701188427, 'score_3': -0.519053297335181, 'score4': 1.2473464172895266},\n",
        "{'method': 'PPMI', 'slice': 'cdu3', 'dimension': 'racist', 'score_1': 1.9311961596623788, 'score_2': -1.1768183758777553, 'score_3': -0.4875393919020686, 'score4': 0.9410673686017741},\n",
        "\n",
        "\n",
        "{'method': 'PPMI', 'slice': 'kaiserreich1', 'dimension': 'ethic', 'score_1': -0.39947358956528545, 'score_2': -0.5270253324323813, 'score_3': -0.32505115528963535, 'score4': 0.01878044211621178},\n",
        "{'method': 'PPMI', 'slice': 'kaiserreich2', 'dimension': 'ethic', 'score_1': 1.6088798603352006, 'score_2': 0.35903963867135374, 'score_3': 0.2223680311538613, 'score4': -0.06218801267498672},\n",
        "{'method': 'PPMI', 'slice': 'weimar', 'dimension': 'ethic', 'score_1': 2.4354615840316263, 'score_2': -0.1057358829808476, 'score_3': 0.9610940439985542, 'score4': 0.8901727903010912},\n",
        "{'method': 'PPMI', 'slice': 'ns', 'dimension': 'ethic', 'score_1': -1.5915251383133922, 'score_2': 0, 'score_3': 0, 'score4': 0},\n",
        "{'method': 'PPMI', 'slice': 'cdu1', 'dimension': 'ethic', 'score_1': 0.5963494988229359, 'score_2': -2.283684740422881, 'score_3': -1.758792945614139, 'score4': 0.014149686767845795},\n",
        "{'method': 'PPMI', 'slice': 'spd1', 'dimension': 'ethic', 'score_1': 1.062149218502879, 'score_2': -1.7366217431474615, 'score_3': -1.337473540213309, 'score4': 0.5434804260221586},\n",
        "{'method': 'PPMI', 'slice': 'cdu2', 'dimension': 'ethic', 'score_1': 0.4707221058658645, 'score_2': -3.047295544522799, 'score_3': -2.5325874920981613, 'score4': 0.1847843060470109},\n",
        "{'method': 'PPMI', 'slice': 'spd2', 'dimension': 'ethic', 'score_1': 0.8126265426531175, 'score_2': -1.047589814667108, 'score_3': -0.8830592213983445, 'score4': 0.44912693117001734},\n",
        "{'method': 'PPMI', 'slice': 'cdu3', 'dimension': 'ethic', 'score_1': 1.3252548383674532, 'score_2': -0.9916203057665253, 'score_3': -0.7393694281693199, 'score4': 0.4265848456067582},\n",
        "\n",
        "                          \n",
        "]"
      ],
      "execution_count": null,
      "outputs": []
    },
    {
      "cell_type": "markdown",
      "metadata": {
        "id": "inXT7WJuasrO"
      },
      "source": [
        "Plot Data to Chart"
      ]
    },
    {
      "cell_type": "code",
      "metadata": {
        "id": "sl0Htnbsar6r"
      },
      "source": [
        "import seaborn as sns\n",
        "from matplotlib import pyplot as plt\n",
        "import pandas as pd\n",
        "from google.colab import files\n",
        "import numpy as np\n",
        "\n",
        "def plot_all_lines(data, statistic, title):\n",
        "  data_list = []\n",
        "  for d in data:\n",
        "    if d[\"method\"] == statistic:\n",
        "       d[\"view\"] = d[\"dimension\"]\n",
        "       data_list.append(d)\n",
        "  df = pd.DataFrame(data_list)\n",
        "  sns.set_theme()\n",
        "\n",
        "  g = sns.barplot(data=df,\n",
        "      x=\"slice\", \n",
        "      y=\"score_1\", \n",
        "      hue=\"view\", \n",
        "      alpha=.6, \n",
        "      palette=\"hls\"\n",
        "  )\n",
        "\n",
        "\n",
        "  #g.despine(left=True)\n",
        "  #g.set_axis_labels(\"\", statistic)\n",
        "  #g.legend.set_title(\"\")\n",
        "\n",
        "  plt.savefig(title + \".pdf\")\n",
        "  files.download(title + \".pdf\")"
      ],
      "execution_count": null,
      "outputs": []
    },
    {
      "cell_type": "code",
      "metadata": {
        "colab": {
          "base_uri": "https://localhost:8080/",
          "height": 285
        },
        "id": "_K7P1H8ua7fK",
        "outputId": "bc7462e6-6a1f-4314-fc83-ba19985ebadf"
      },
      "source": [
        "plot_all_lines(anticommunism_scores_2, \"PPMI\", \"anticommunism_scores_2\")"
      ],
      "execution_count": null,
      "outputs": [
        {
          "output_type": "display_data",
          "data": {
            "application/javascript": [
              "\n",
              "    async function download(id, filename, size) {\n",
              "      if (!google.colab.kernel.accessAllowed) {\n",
              "        return;\n",
              "      }\n",
              "      const div = document.createElement('div');\n",
              "      const label = document.createElement('label');\n",
              "      label.textContent = `Downloading \"${filename}\": `;\n",
              "      div.appendChild(label);\n",
              "      const progress = document.createElement('progress');\n",
              "      progress.max = size;\n",
              "      div.appendChild(progress);\n",
              "      document.body.appendChild(div);\n",
              "\n",
              "      const buffers = [];\n",
              "      let downloaded = 0;\n",
              "\n",
              "      const channel = await google.colab.kernel.comms.open(id);\n",
              "      // Send a message to notify the kernel that we're ready.\n",
              "      channel.send({})\n",
              "\n",
              "      for await (const message of channel.messages) {\n",
              "        // Send a message to notify the kernel that we're ready.\n",
              "        channel.send({})\n",
              "        if (message.buffers) {\n",
              "          for (const buffer of message.buffers) {\n",
              "            buffers.push(buffer);\n",
              "            downloaded += buffer.byteLength;\n",
              "            progress.value = downloaded;\n",
              "          }\n",
              "        }\n",
              "      }\n",
              "      const blob = new Blob(buffers, {type: 'application/binary'});\n",
              "      const a = document.createElement('a');\n",
              "      a.href = window.URL.createObjectURL(blob);\n",
              "      a.download = filename;\n",
              "      div.appendChild(a);\n",
              "      a.click();\n",
              "      div.remove();\n",
              "    }\n",
              "  "
            ],
            "text/plain": [
              "<IPython.core.display.Javascript object>"
            ]
          },
          "metadata": {
            "tags": []
          }
        },
        {
          "output_type": "display_data",
          "data": {
            "application/javascript": [
              "download(\"download_e3c7cbff-48e4-418f-b465-54c8bc63bbe2\", \"anticommunism_scores_2.pdf\", 12387)"
            ],
            "text/plain": [
              "<IPython.core.display.Javascript object>"
            ]
          },
          "metadata": {
            "tags": []
          }
        },
        {
          "output_type": "display_data",
          "data": {
            "image/png": "[encoded data removed]",
            "text/plain": [
              "<Figure size 432x288 with 1 Axes>"
            ]
          },
          "metadata": {
            "tags": []
          }
        }
      ]
    },
    {
      "cell_type": "code",
      "metadata": {
        "colab": {
          "base_uri": "https://localhost:8080/",
          "height": 285
        },
        "id": "JqJodnsxcI8e",
        "outputId": "b2ead276-40b7-4a46-e83b-8dbb682aef2d"
      },
      "source": [
        "plot_all_lines(anticommunism_scores_5, \"PPMI\", \"anticommunism_scores_5\")"
      ],
      "execution_count": null,
      "outputs": [
        {
          "output_type": "display_data",
          "data": {
            "application/javascript": [
              "\n",
              "    async function download(id, filename, size) {\n",
              "      if (!google.colab.kernel.accessAllowed) {\n",
              "        return;\n",
              "      }\n",
              "      const div = document.createElement('div');\n",
              "      const label = document.createElement('label');\n",
              "      label.textContent = `Downloading \"${filename}\": `;\n",
              "      div.appendChild(label);\n",
              "      const progress = document.createElement('progress');\n",
              "      progress.max = size;\n",
              "      div.appendChild(progress);\n",
              "      document.body.appendChild(div);\n",
              "\n",
              "      const buffers = [];\n",
              "      let downloaded = 0;\n",
              "\n",
              "      const channel = await google.colab.kernel.comms.open(id);\n",
              "      // Send a message to notify the kernel that we're ready.\n",
              "      channel.send({})\n",
              "\n",
              "      for await (const message of channel.messages) {\n",
              "        // Send a message to notify the kernel that we're ready.\n",
              "        channel.send({})\n",
              "        if (message.buffers) {\n",
              "          for (const buffer of message.buffers) {\n",
              "            buffers.push(buffer);\n",
              "            downloaded += buffer.byteLength;\n",
              "            progress.value = downloaded;\n",
              "          }\n",
              "        }\n",
              "      }\n",
              "      const blob = new Blob(buffers, {type: 'application/binary'});\n",
              "      const a = document.createElement('a');\n",
              "      a.href = window.URL.createObjectURL(blob);\n",
              "      a.download = filename;\n",
              "      div.appendChild(a);\n",
              "      a.click();\n",
              "      div.remove();\n",
              "    }\n",
              "  "
            ],
            "text/plain": [
              "<IPython.core.display.Javascript object>"
            ]
          },
          "metadata": {
            "tags": []
          }
        },
        {
          "output_type": "display_data",
          "data": {
            "application/javascript": [
              "download(\"download_5d95c095-64e5-45ed-8fc4-b4e7e8f3453e\", \"anticommunism_scores_5.pdf\", 11792)"
            ],
            "text/plain": [
              "<IPython.core.display.Javascript object>"
            ]
          },
          "metadata": {
            "tags": []
          }
        },
        {
          "output_type": "display_data",
          "data": {
            "image/png": "[encoded data removed]",
            "text/plain": [
              "<Figure size 432x288 with 1 Axes>"
            ]
          },
          "metadata": {
            "tags": []
          }
        }
      ]
    },
    {
      "cell_type": "code",
      "metadata": {
        "colab": {
          "base_uri": "https://localhost:8080/",
          "height": 285
        },
        "id": "Y7vaaGZ3HcRi",
        "outputId": "9501eeba-a8fa-46be-e9be-48d895a551b1"
      },
      "source": [
        "plot_all_lines(anticommunism_scores_10, \"PPMI\", \"anticommunism_scores_10\")"
      ],
      "execution_count": null,
      "outputs": [
        {
          "output_type": "display_data",
          "data": {
            "application/javascript": [
              "\n",
              "    async function download(id, filename, size) {\n",
              "      if (!google.colab.kernel.accessAllowed) {\n",
              "        return;\n",
              "      }\n",
              "      const div = document.createElement('div');\n",
              "      const label = document.createElement('label');\n",
              "      label.textContent = `Downloading \"${filename}\": `;\n",
              "      div.appendChild(label);\n",
              "      const progress = document.createElement('progress');\n",
              "      progress.max = size;\n",
              "      div.appendChild(progress);\n",
              "      document.body.appendChild(div);\n",
              "\n",
              "      const buffers = [];\n",
              "      let downloaded = 0;\n",
              "\n",
              "      const channel = await google.colab.kernel.comms.open(id);\n",
              "      // Send a message to notify the kernel that we're ready.\n",
              "      channel.send({})\n",
              "\n",
              "      for await (const message of channel.messages) {\n",
              "        // Send a message to notify the kernel that we're ready.\n",
              "        channel.send({})\n",
              "        if (message.buffers) {\n",
              "          for (const buffer of message.buffers) {\n",
              "            buffers.push(buffer);\n",
              "            downloaded += buffer.byteLength;\n",
              "            progress.value = downloaded;\n",
              "          }\n",
              "        }\n",
              "      }\n",
              "      const blob = new Blob(buffers, {type: 'application/binary'});\n",
              "      const a = document.createElement('a');\n",
              "      a.href = window.URL.createObjectURL(blob);\n",
              "      a.download = filename;\n",
              "      div.appendChild(a);\n",
              "      a.click();\n",
              "      div.remove();\n",
              "    }\n",
              "  "
            ],
            "text/plain": [
              "<IPython.core.display.Javascript object>"
            ]
          },
          "metadata": {
            "tags": []
          }
        },
        {
          "output_type": "display_data",
          "data": {
            "application/javascript": [
              "download(\"download_5e75049d-529a-4442-be3e-908daa63b376\", \"anticommunism_scores_10.pdf\", 11792)"
            ],
            "text/plain": [
              "<IPython.core.display.Javascript object>"
            ]
          },
          "metadata": {
            "tags": []
          }
        },
        {
          "output_type": "display_data",
          "data": {
            "image/png": "[encoded data removed]",
            "text/plain": [
              "<Figure size 432x288 with 1 Axes>"
            ]
          },
          "metadata": {
            "tags": []
          }
        }
      ]
    },
    {
      "cell_type": "code",
      "metadata": {
        "colab": {
          "base_uri": "https://localhost:8080/",
          "height": 286
        },
        "id": "umZONHzxHgRZ",
        "outputId": "fd6a608d-04f9-486b-f28f-e4ee963788b8"
      },
      "source": [
        "plot_all_lines(antisemitism_scores_5, \"PPMI\", \"antisemitism_scores_5\")"
      ],
      "execution_count": null,
      "outputs": [
        {
          "output_type": "display_data",
          "data": {
            "application/javascript": [
              "\n",
              "    async function download(id, filename, size) {\n",
              "      if (!google.colab.kernel.accessAllowed) {\n",
              "        return;\n",
              "      }\n",
              "      const div = document.createElement('div');\n",
              "      const label = document.createElement('label');\n",
              "      label.textContent = `Downloading \"${filename}\": `;\n",
              "      div.appendChild(label);\n",
              "      const progress = document.createElement('progress');\n",
              "      progress.max = size;\n",
              "      div.appendChild(progress);\n",
              "      document.body.appendChild(div);\n",
              "\n",
              "      const buffers = [];\n",
              "      let downloaded = 0;\n",
              "\n",
              "      const channel = await google.colab.kernel.comms.open(id);\n",
              "      // Send a message to notify the kernel that we're ready.\n",
              "      channel.send({})\n",
              "\n",
              "      for await (const message of channel.messages) {\n",
              "        // Send a message to notify the kernel that we're ready.\n",
              "        channel.send({})\n",
              "        if (message.buffers) {\n",
              "          for (const buffer of message.buffers) {\n",
              "            buffers.push(buffer);\n",
              "            downloaded += buffer.byteLength;\n",
              "            progress.value = downloaded;\n",
              "          }\n",
              "        }\n",
              "      }\n",
              "      const blob = new Blob(buffers, {type: 'application/binary'});\n",
              "      const a = document.createElement('a');\n",
              "      a.href = window.URL.createObjectURL(blob);\n",
              "      a.download = filename;\n",
              "      div.appendChild(a);\n",
              "      a.click();\n",
              "      div.remove();\n",
              "    }\n",
              "  "
            ],
            "text/plain": [
              "<IPython.core.display.Javascript object>"
            ]
          },
          "metadata": {
            "tags": []
          }
        },
        {
          "output_type": "display_data",
          "data": {
            "application/javascript": [
              "download(\"download_159a1a7d-ba24-4f07-b72a-c0822c46a4ae\", \"antisemitism_scores_5.pdf\", 12912)"
            ],
            "text/plain": [
              "<IPython.core.display.Javascript object>"
            ]
          },
          "metadata": {
            "tags": []
          }
        },
        {
          "output_type": "display_data",
          "data": {
            "image/png": "[encoded data removed]",
            "text/plain": [
              "<Figure size 432x288 with 1 Axes>"
            ]
          },
          "metadata": {
            "tags": []
          }
        }
      ]
    },
    {
      "cell_type": "code",
      "metadata": {
        "colab": {
          "base_uri": "https://localhost:8080/",
          "height": 285
        },
        "id": "lb0FzkoiHjkv",
        "outputId": "c8edd687-83b6-4b3d-a175-2f4d51bbe2cf"
      },
      "source": [
        "plot_all_lines(antisemitism_scores_10, \"PPMI\", \"antisemitism_scores_10\")"
      ],
      "execution_count": null,
      "outputs": [
        {
          "output_type": "display_data",
          "data": {
            "application/javascript": [
              "\n",
              "    async function download(id, filename, size) {\n",
              "      if (!google.colab.kernel.accessAllowed) {\n",
              "        return;\n",
              "      }\n",
              "      const div = document.createElement('div');\n",
              "      const label = document.createElement('label');\n",
              "      label.textContent = `Downloading \"${filename}\": `;\n",
              "      div.appendChild(label);\n",
              "      const progress = document.createElement('progress');\n",
              "      progress.max = size;\n",
              "      div.appendChild(progress);\n",
              "      document.body.appendChild(div);\n",
              "\n",
              "      const buffers = [];\n",
              "      let downloaded = 0;\n",
              "\n",
              "      const channel = await google.colab.kernel.comms.open(id);\n",
              "      // Send a message to notify the kernel that we're ready.\n",
              "      channel.send({})\n",
              "\n",
              "      for await (const message of channel.messages) {\n",
              "        // Send a message to notify the kernel that we're ready.\n",
              "        channel.send({})\n",
              "        if (message.buffers) {\n",
              "          for (const buffer of message.buffers) {\n",
              "            buffers.push(buffer);\n",
              "            downloaded += buffer.byteLength;\n",
              "            progress.value = downloaded;\n",
              "          }\n",
              "        }\n",
              "      }\n",
              "      const blob = new Blob(buffers, {type: 'application/binary'});\n",
              "      const a = document.createElement('a');\n",
              "      a.href = window.URL.createObjectURL(blob);\n",
              "      a.download = filename;\n",
              "      div.appendChild(a);\n",
              "      a.click();\n",
              "      div.remove();\n",
              "    }\n",
              "  "
            ],
            "text/plain": [
              "<IPython.core.display.Javascript object>"
            ]
          },
          "metadata": {
            "tags": []
          }
        },
        {
          "output_type": "display_data",
          "data": {
            "application/javascript": [
              "download(\"download_0c397bd1-2fc7-47c7-bb26-7ea218d2b55c\", \"antisemitism_scores_10.pdf\", 12915)"
            ],
            "text/plain": [
              "<IPython.core.display.Javascript object>"
            ]
          },
          "metadata": {
            "tags": []
          }
        },
        {
          "output_type": "display_data",
          "data": {
            "image/png": "[encoded data removed]",
            "text/plain": [
              "<Figure size 432x288 with 1 Axes>"
            ]
          },
          "metadata": {
            "tags": []
          }
        }
      ]
    },
    {
      "cell_type": "code",
      "metadata": {
        "colab": {
          "base_uri": "https://localhost:8080/",
          "height": 285
        },
        "id": "rWBRGwhQMTzR",
        "outputId": "8596d138-b7e9-4284-f8c4-440be32471c6"
      },
      "source": [
        "plot_all_lines(antisemitism_test_original, \"PPMI\", \"antisemitism_test_original\")"
      ],
      "execution_count": null,
      "outputs": [
        {
          "output_type": "display_data",
          "data": {
            "application/javascript": [
              "\n",
              "    async function download(id, filename, size) {\n",
              "      if (!google.colab.kernel.accessAllowed) {\n",
              "        return;\n",
              "      }\n",
              "      const div = document.createElement('div');\n",
              "      const label = document.createElement('label');\n",
              "      label.textContent = `Downloading \"${filename}\": `;\n",
              "      div.appendChild(label);\n",
              "      const progress = document.createElement('progress');\n",
              "      progress.max = size;\n",
              "      div.appendChild(progress);\n",
              "      document.body.appendChild(div);\n",
              "\n",
              "      const buffers = [];\n",
              "      let downloaded = 0;\n",
              "\n",
              "      const channel = await google.colab.kernel.comms.open(id);\n",
              "      // Send a message to notify the kernel that we're ready.\n",
              "      channel.send({})\n",
              "\n",
              "      for await (const message of channel.messages) {\n",
              "        // Send a message to notify the kernel that we're ready.\n",
              "        channel.send({})\n",
              "        if (message.buffers) {\n",
              "          for (const buffer of message.buffers) {\n",
              "            buffers.push(buffer);\n",
              "            downloaded += buffer.byteLength;\n",
              "            progress.value = downloaded;\n",
              "          }\n",
              "        }\n",
              "      }\n",
              "      const blob = new Blob(buffers, {type: 'application/binary'});\n",
              "      const a = document.createElement('a');\n",
              "      a.href = window.URL.createObjectURL(blob);\n",
              "      a.download = filename;\n",
              "      div.appendChild(a);\n",
              "      a.click();\n",
              "      div.remove();\n",
              "    }\n",
              "  "
            ],
            "text/plain": [
              "<IPython.core.display.Javascript object>"
            ]
          },
          "metadata": {
            "tags": []
          }
        },
        {
          "output_type": "display_data",
          "data": {
            "application/javascript": [
              "download(\"download_09bb84f6-879d-4bd9-9ede-85563ae03173\", \"antisemitism_test_original.pdf\", 12915)"
            ],
            "text/plain": [
              "<IPython.core.display.Javascript object>"
            ]
          },
          "metadata": {
            "tags": []
          }
        },
        {
          "output_type": "display_data",
          "data": {
            "image/png": "[encoded data removed]",
            "text/plain": [
              "<Figure size 432x288 with 1 Axes>"
            ]
          },
          "metadata": {
            "tags": []
          }
        }
      ]
    }
  ]
}