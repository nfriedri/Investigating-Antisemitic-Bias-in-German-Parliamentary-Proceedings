{
 "cells": [
  {
   "cell_type": "code",
   "execution_count": 1,
   "metadata": {},
   "outputs": [],
   "source": [
    "import os \n",
    "import re\n",
    "import os\n",
    "from pathlib import Path"
   ]
  },
  {
   "cell_type": "code",
   "execution_count": 9,
   "metadata": {},
   "outputs": [],
   "source": [
    "with open('unicode_test.txt') as f:\n",
    "    content = f.read()"
   ]
  },
  {
   "cell_type": "code",
   "execution_count": 10,
   "metadata": {},
   "outputs": [
    {
     "data": {
      "text/plain": [
       "'\\\\x84'"
      ]
     },
     "execution_count": 10,
     "metadata": {},
     "output_type": "execute_result"
    }
   ],
   "source": [
    "content"
   ]
  },
  {
   "cell_type": "code",
   "execution_count": 2,
   "metadata": {},
   "outputs": [],
   "source": [
    "# Pattern test for punctuation removal\n",
    "pattern = re.compile('[%s]' % re.escape('!\"#$%&\\'()*+,./:;<=>?@[\\\\]^_`{|}~„«'))"
   ]
  },
  {
   "cell_type": "code",
   "execution_count": 3,
   "metadata": {},
   "outputs": [
    {
     "data": {
      "text/plain": [
       "re.compile(r'[\\!\\\"\\#\\$\\%\\&\\\\'\\(\\)\\*\\+\\,\\.\\/\\:\\;\\<\\=\\>\\?\\@\\[\\\\\\]\\^_\\`\\{\\|\\}\\~\\„\\«]',\n",
       "re.UNICODE)"
      ]
     },
     "execution_count": 3,
     "metadata": {},
     "output_type": "execute_result"
    }
   ],
   "source": [
    "pattern"
   ]
  },
  {
   "cell_type": "code",
   "execution_count": 137,
   "metadata": {},
   "outputs": [
    {
     "data": {
      "text/plain": [
       "'\\\\zaErwerbsunfähigkeit im § \\\\za Abs \\\\za a a O kann'"
      ]
     },
     "execution_count": 137,
     "metadata": {},
     "output_type": "execute_result"
    }
   ],
   "source": [
    "re.sub(r'\\d+','\\\\\\za','1Erwerbsunfähigkeit im § 10 Abs 8 a a O kann').strip()"
   ]
  },
  {
   "cell_type": "markdown",
   "metadata": {},
   "source": [
    "##### Test roman numerals remover"
   ]
  },
  {
   "cell_type": "code",
   "execution_count": 92,
   "metadata": {},
   "outputs": [],
   "source": [
    "test_list = ['wird bei einfachem space hoffentlich nicht replaced',\n",
    "             ' ', # fuck matching the empty string because I filter out lines < 1 \n",
    "             '', # # fuck matching space because I filter out lines < 1\n",
    "    'III Neue',\n",
    "'XII 0',\n",
    "'XII 0 IV',\n",
    "'hallo IV wo',\n",
    "             '> 1 numeral in a row: klostermann iv ii xx pole',\n",
    "'numerals between digits: 0 IV 0',\n",
    "'XII 0 IV jsdfdsjf',\n",
    "'0 XX sadasd',\n",
    "             'V',\n",
    "             '0 V',\n",
    "             '0 hallo',\n",
    "             '0 v hallo',\n",
    "             '0 v 0 IV hallo',\n",
    "'0 IX sadasd ix',\n",
    "'0 XI',\n",
    "'wenn sie es yy MX yy iv yy xii wo irgendwo wollen',\n",
    "'XX']"
   ]
  },
  {
   "cell_type": "code",
   "execution_count": 167,
   "metadata": {},
   "outputs": [],
   "source": [
    "test_string = '0 IX sadasd ix'"
   ]
  },
  {
   "cell_type": "code",
   "execution_count": 185,
   "metadata": {},
   "outputs": [],
   "source": [
    "def replace_roman_numerals(string):\n",
    "    # Need to run 4 different regex operations in order to capture all roman numerals\n",
    "\n",
    "    # for roman numerals that appear in the middle of a line\n",
    "    string = re.sub(r'\\b\\sM{0,4}(CM|CD|D?C{0,3})(XC|XL|L?X{0,3})(IX|IV|V?I{0,3})\\s\\b',' rom ', string, flags=re.IGNORECASE)\n",
    "    # for roman numerals that are single element of a line\n",
    "    string = re.sub(r'^M{0,4}(CM|CD|D?C{0,3})(XC|XL|L?X{0,3})(IX|IV|V?I{0,3})$', 'rom', string, flags=re.IGNORECASE)\n",
    "    # for roman numerals that appear at the beginning of a line that contains other elements \n",
    "    string = re.sub(r'^M{0,4}(CM|CD|D?C{0,3})(XC|XL|L?X{0,3})(IX|IV|V?I{0,3})\\s' , 'rom ', string, flags=re.IGNORECASE)\n",
    "    # for roman numerals that appear at the end of a line that contains other elements \n",
    "    string = re.sub(r'\\sM{0,4}(CM|CD|D?C{0,3})(XC|XL|L?X{0,3})(IX|IV|V?I{0,3})$', ' rom', string, flags=re.IGNORECASE)\n",
    "    return string "
   ]
  },
  {
   "cell_type": "code",
   "execution_count": 192,
   "metadata": {},
   "outputs": [],
   "source": [
    "with open('data/processed_corpora_BT/WP_12_processed/121_sents.txt', 'r', encoding='utf-8') as f:\n",
    "    text = f.readlines()\n",
    "    text = [line.strip() for line in text]"
   ]
  },
  {
   "cell_type": "code",
   "execution_count": 193,
   "metadata": {},
   "outputs": [
    {
     "name": "stdout",
     "output_type": "stream",
     "text": [
      "Die Hilfe ist als Sachleistung zu gewähren d h sie muß so gewährt werden das ist der Regelfall\n",
      "Die Hilfe ist als Sachleistung zu gewähren rom h sie muß so gewährt werden das ist der Regelfall\n",
      "\n",
      "\n",
      "D Herr Rechtsanwalt oder Herr Kollege sagen soll — In meinem Gemeinderat in dem ich Politik gelernt habe wäre jeder wegen Befangenheit von der Beratung eines Verfahrens ausgeschlossen in dem er als Anwalt mitwirkt\n",
      "rom Herr Rechtsanwalt oder Herr Kollege sagen soll — In meinem Gemeinderat in dem ich Politik gelernt habe wäre jeder wegen Befangenheit von der Beratung eines Verfahrens ausgeschlossen in dem er als Anwalt mitwirkt\n",
      "\n",
      "\n",
      "1995 sollen noch 24 900 Stunden Tiefflug über Deutschland geflogen werden also nach der Definition unter 1 500 Fuß oder 450 m Aber die Luftwaffe will insgesamt nur 15 400 Flugstunden absolvieren davon die Hälfte also 7 700 im Inland und 7 700 im Ausland bzw über See\n",
      "1995 sollen noch 24 900 Stunden Tiefflug über Deutschland geflogen werden also nach der Definition unter 1 500 Fuß oder 450 rom Aber die Luftwaffe will insgesamt nur 15 400 Flugstunden absolvieren davon die Hälfte also 7 700 im Inland und 7 700 im Ausland bzw über See\n",
      "\n",
      "\n",
      "V o r s i t z Vizepräsident Helmuth Becker Sie ist Pfeiler einer staatlichen Sicherheitsvorsorge die der neuen europäischen Sicherheitsordnung Stabilität verleiht und sie gegen Unwägbarkeiten absichert\n",
      "rom o r s rom t z Vizepräsident Helmuth Becker Sie ist Pfeiler einer staatlichen Sicherheitsvorsorge die der neuen europäischen Sicherheitsordnung Stabilität verleiht und sie gegen Unwägbarkeiten absichert\n",
      "\n",
      "\n",
      "Wir können nicht davon ausgehen daß der durch die Wiedervereinigung notwendig gewordene umfassendere Raumschutz durch Flugabwehrraketenverbände d h nur durch bodengestützte Luftverteidigungsinstrumente gewährleistet werden kann\n",
      "Wir können nicht davon ausgehen daß der durch die Wiedervereinigung notwendig gewordene umfassendere Raumschutz durch Flugabwehrraketenverbände rom h nur durch bodengestützte Luftverteidigungsinstrumente gewährleistet werden kann\n",
      "\n",
      "\n",
      "Ich will die Zahlen noch einmal nennen Unter 500 m Reduzierung von 980 bis heute 50 %\n",
      "Ich will die Zahlen noch einmal nennen Unter 500 rom Reduzierung von 980 bis heute 50 %\n",
      "\n",
      "\n",
      "Die Anzahl der für die Zukunft — genauer gesagt für 1995 — geplanten Luftkampfeinsätze soll 1 200 und die der Flugstunden unter 450 m 24 500 betragen\n",
      "Die Anzahl der für die Zukunft — genauer gesagt für 1995 — geplanten Luftkampfeinsätze soll 1 200 und die der Flugstunden unter 450 rom 24 500 betragen\n",
      "\n",
      "\n",
      "Ein italienischer Tornado wurde in 14 m Höhe von der irakischen Luftabwehr abgeschossen\n",
      "Ein italienischer Tornado wurde in 14 rom Höhe von der irakischen Luftabwehr abgeschossen\n",
      "\n",
      "\n",
      "Die Heraufsetzung der Tiefflugmindesthöhe auf 300 m ist keine befriedigende Lösung es ist und bleibt Tiefflug\n",
      "Die Heraufsetzung der Tiefflugmindesthöhe auf 300 rom ist keine befriedigende Lösung es ist und bleibt Tiefflug\n",
      "\n",
      "\n",
      "Dort darf bis zu 300 m tief geflogen werden\n",
      "Dort darf bis zu 300 rom tief geflogen werden\n",
      "\n",
      "\n",
      "Muß es sein daß entgegen anderen Zusagen auch in der üblichen Mittagspause und in den Abendstunden I geflogen wird\n",
      "Muß es sein daß entgegen anderen Zusagen auch in der üblichen Mittagspause und in den Abendstunden rom geflogen wird\n",
      "\n",
      "\n",
      "Dies schließt in einem bestimmten Ausmaß auch Flüge über bewohnten Gebieten im niedrigen Höhenband d h zwischen über 300 und 500 m sowie Luftkampfübungen ein\n",
      "Dies schließt in einem bestimmten Ausmaß auch Flüge über bewohnten Gebieten im niedrigen Höhenband rom h zwischen über 300 und 500 rom sowie Luftkampfübungen ein\n",
      "\n",
      "\n",
      "Schon im September 1990 hat der Bundesminister der Verteidigung die Mindesthöhe für Flüge von strahlgetriebenen Kampfflugzeugen im niedrigen Höhenband grundsätzlich d h von sehr eng begrenzten Ausnahmen abgesehen auf 300 m angehoben\n",
      "Schon im September 1990 hat der Bundesminister der Verteidigung die Mindesthöhe für Flüge von strahlgetriebenen Kampfflugzeugen im niedrigen Höhenband grundsätzlich rom h von sehr eng begrenzten Ausnahmen abgesehen auf 300 rom angehoben\n",
      "\n",
      "\n",
      "Zusätzlich folgt die Luftwaffe einer selbst auferlegten Beschränkung Großstädte nicht unterhalb von 2 000 Fuß sprich 660 m zu überfliegen\n",
      "Zusätzlich folgt die Luftwaffe einer selbst auferlegten Beschränkung Großstädte nicht unterhalb von 2 000 Fuß sprich 660 rom zu überfliegen\n",
      "\n",
      "\n",
      "Im Zeitraum von 1980 bis 1990 wurde der Flugstundenumfang im niedrigen Höhenband um mehr als 50 % reduziert d h von 88 000 auf 42 000 Stunden\n",
      "Im Zeitraum von 1980 bis 1990 wurde der Flugstundenumfang im niedrigen Höhenband um mehr als 50 % reduziert rom h von 88 000 auf 42 000 Stunden\n",
      "\n",
      "\n",
      "Bezieht man die Kampfflugzeuge der ehemaligen sowjetischen Streitkräfte und der NVA mit ein wird sich der Bestand in Deutschland von mehr als 2 200 im Jahre 1990 auf rund 700 im Jahre 1995 d h auf weniger als ein Drittel verringern\n",
      "Bezieht man die Kampfflugzeuge der ehemaligen sowjetischen Streitkräfte und der NVA mit ein wird sich der Bestand in Deutschland von mehr als 2 200 im Jahre 1990 auf rund 700 im Jahre 1995 rom h auf weniger als ein Drittel verringern\n",
      "\n",
      "\n",
      "begrüßt den Vergleichsvorschlag der Verfassungsrichter weil er den Weg freimacht für die fiskalischen und politischen Interessen der Kommunen d h für die kommunale Selbstverwaltungsgarantie und vor allem auch für unbedingt notwendige Investitionen in diesem Bereich\n",
      "begrüßt den Vergleichsvorschlag der Verfassungsrichter weil er den Weg freimacht für die fiskalischen und politischen Interessen der Kommunen rom h für die kommunale Selbstverwaltungsgarantie und vor allem auch für unbedingt notwendige Investitionen in diesem Bereich\n",
      "\n",
      "\n",
      "Ein Optimum stellt meines Erachtens die Mischvariante dar d h die Stadtwerke GmbH in der sowohl die Gemeinde als auch private Unternehmen als Gesellschafter kooperieren\n",
      "Ein Optimum stellt meines Erachtens die Mischvariante dar rom h die Stadtwerke GmbH in der sowohl die Gemeinde als auch private Unternehmen als Gesellschafter kooperieren\n",
      "\n",
      "\n",
      "28 Abs 2 Satz i des Grundgesetzes lautet Den Gemeinden muß das Recht gewährleistet sein alle Angelegenheiten der örtlichen Gemeinschaft im Rahmen der Gesetze in eigener Verantwortung zu regeln\n",
      "28 Abs 2 Satz rom des Grundgesetzes lautet Den Gemeinden muß das Recht gewährleistet sein alle Angelegenheiten der örtlichen Gemeinschaft im Rahmen der Gesetze in eigener Verantwortung zu regeln\n",
      "\n",
      "\n",
      "Dr Heinrich L Kolb Parl\n",
      "Dr Heinrich rom Kolb Parl\n",
      "\n",
      "\n",
      "und der CDUCSU Mittlerweile sind alle wichtigen Fremdenverkehrsprojekte am Markt d h zurückgegeben verkauft oder verpachtet die Tourismusprivatisierung insgesamt geht ins letzte Jahr Zuruf des Abg\n",
      "und der CDUCSU Mittlerweile sind alle wichtigen Fremdenverkehrsprojekte am Markt rom h zurückgegeben verkauft oder verpachtet die Tourismusprivatisierung insgesamt geht ins letzte Jahr Zuruf des Abg\n",
      "\n",
      "\n",
      "Dr Heinrich L Kolb Parl\n",
      "Dr Heinrich rom Kolb Parl\n",
      "\n",
      "\n",
      "Staatssekretär Dr Heinrich L Kolb lehen und das Eigenkapitalhilfeprogramm auf hohem Niveau fortgesetzt werden\n",
      "Staatssekretär Dr Heinrich rom Kolb lehen und das Eigenkapitalhilfeprogramm auf hohem Niveau fortgesetzt werden\n",
      "\n",
      "\n",
      "\n",
      "rom\n",
      "\n",
      "\n"
     ]
    }
   ],
   "source": [
    "for line in text:\n",
    "    temp = replace_roman_numerals(line)\n",
    "    if temp != line:\n",
    "        print(line)\n",
    "        print(temp)\n",
    "        print('\\n')"
   ]
  },
  {
   "cell_type": "code",
   "execution_count": 186,
   "metadata": {},
   "outputs": [
    {
     "name": "stdout",
     "output_type": "stream",
     "text": [
      "wird bei einfachem space hoffentlich nicht replaced\n",
      "rom rom\n",
      "rom\n",
      "rom Neue\n",
      "rom 0\n",
      "rom 0 rom\n",
      "hallo rom wo\n",
      "> 1 numeral in a row: klostermann rom ii rom pole\n",
      "numerals between digits: 0 rom 0\n",
      "rom 0 rom jsdfdsjf\n",
      "0 rom sadasd\n",
      "rom\n",
      "0 rom\n",
      "0 hallo\n",
      "0 rom hallo\n",
      "0 rom 0 rom hallo\n",
      "0 rom sadasd rom\n",
      "0 rom\n",
      "wenn sie es yy rom yy rom yy rom wo irgendwo wollen\n",
      "rom\n"
     ]
    }
   ],
   "source": [
    "for t in test_list:\n",
    "    print(replace_roman_numerals(t))"
   ]
  },
  {
   "cell_type": "code",
   "execution_count": 120,
   "metadata": {},
   "outputs": [],
   "source": [
    "def reduce_numerical_sequences(string): \n",
    "    return re.sub(r'((0|xx)\\s?){2,}', '\\\\2 ', string).strip()"
   ]
  },
  {
   "cell_type": "code",
   "execution_count": 26,
   "metadata": {},
   "outputs": [
    {
     "data": {
      "text/plain": [
       "'wenn sie xx XII irgendwo wollen'"
      ]
     },
     "execution_count": 26,
     "metadata": {},
     "output_type": "execute_result"
    }
   ],
   "source": [
    "reduce_numerical_sequences('wenn sie xx XII irgendwo wollen')"
   ]
  },
  {
   "cell_type": "code",
   "execution_count": 88,
   "metadata": {},
   "outputs": [
    {
     "name": "stdout",
     "output_type": "stream",
     "text": [
      "wird bei einfachem space hoffentlich nicht replaced\n",
      "III xx Neue\n",
      "XII \\za\n",
      "XII \\za IV\n",
      "XII \\za xx jsdfdsjf\n",
      "\\za xx sadasd\n",
      "V\n",
      "\\za V\n",
      "\\za hallo\n",
      "\\za xx hallo\n",
      "\\za v \\za xx hallo\n",
      "\\za xx sadasd ix\n",
      "\\za XI\n",
      "XX\n"
     ]
    }
   ],
   "source": [
    "for t in test_list:\n",
    "    print(re.sub(r'\\b\\sM{0,4}(CM|CD|D?C{0,3})(XC|XL|L?X{0,3})(IX|IV|V?I{0,3})\\s\\b',' xx ', t, flags=re.IGNORECASE))\n",
    "    # für romans in der Mitte"
   ]
  },
  {
   "cell_type": "code",
   "execution_count": 97,
   "metadata": {},
   "outputs": [
    {
     "name": "stdout",
     "output_type": "stream",
     "text": [
      "wird bei einfachem space hoffentlich nicht replaced\n",
      "III  Neue\n",
      "XII \\za\n",
      "XII \\za IV\n",
      "XII \\za IV jsdfdsjf\n",
      "\\za XX sadasd\n",
      "\\rom\n",
      "\\za V\n",
      "\\za hallo\n",
      "\\za v hallo\n",
      "\\za v \\za IV hallo\n",
      "\\za IX sadasd ix\n",
      "\\za XI\n",
      "\\rom\n"
     ]
    }
   ],
   "source": [
    "for t in test_list:\n",
    "    print(re.sub(r'\\b^M{0,4}(CM|CD|D?C{0,3})(XC|XL|L?X{0,3})(IX|IV|V?I{0,3})$\\b', '\\\\\\\\rom', t))\n",
    "    # wenn romans als alleinige Zeile dastehen"
   ]
  },
  {
   "cell_type": "code",
   "execution_count": 92,
   "metadata": {},
   "outputs": [
    {
     "name": "stdout",
     "output_type": "stream",
     "text": [
      "wird bei einfachem space hoffentlich nicht replaced\n",
      "\\rom  Neue\n",
      "\\rom \\za\n",
      "\\rom \\za IV\n",
      "\\rom \\za IV jsdfdsjf\n",
      "\\za XX sadasd\n",
      "V\n",
      "\\za V\n",
      "\\za hallo\n",
      "\\za v hallo\n",
      "\\za v \\za IV hallo\n",
      "\\za IX sadasd ix\n",
      "\\za XI\n",
      "XX\n"
     ]
    }
   ],
   "source": [
    "for t in test_list:\n",
    "    print(re.sub(r'^M{0,4}(CM|CD|D?C{0,3})(XC|XL|L?X{0,3})(IX|IV|V?I{0,3})\\s' , '\\\\\\\\rom ', t))\n",
    "    # für Zeilen, die mit romans anfangen und weitere Wörter enthalten"
   ]
  },
  {
   "cell_type": "code",
   "execution_count": 96,
   "metadata": {},
   "outputs": [
    {
     "name": "stdout",
     "output_type": "stream",
     "text": [
      "wird bei einfachem space hoffentlich nicht replaced\n",
      "III  Neue\n",
      "XII \\za\n",
      "XII \\za \\rom\n",
      "XII \\za IV jsdfdsjf\n",
      "\\za XX sadasd\n",
      "V\n",
      "\\za \\rom\n",
      "\\za hallo\n",
      "\\za v hallo\n",
      "\\za v \\za IV hallo\n",
      "\\za IX sadasd \\rom\n",
      "\\za \\rom\n",
      "XX\n"
     ]
    }
   ],
   "source": [
    "for t in test_list:\n",
    "    print(re.sub(r'\\sM{0,4}(CM|CD|D?C{0,3})(XC|XL|L?X{0,3})(IX|IV|V?I{0,3})$', ' \\\\\\\\rom', t, flags=re.IGNORECASE))\n",
    "    # für Zeilen, die weitere Wörter enthalten und mit romans enden"
   ]
  },
  {
   "cell_type": "code",
   "execution_count": 97,
   "metadata": {},
   "outputs": [],
   "source": [
    "def replace_roman_numerals(protocols):\n",
    "    # Need to run 4 different regex operations in order to capture all roman numerals\n",
    "    \n",
    "    # for roman numerals that appear in the middle of a line\n",
    "    protocols = [re.sub(r'\\sM{0,4}(CM|CD|D?C{0,3})(XC|XL|L?X{0,3})(IX|IV|V?I{0,3})\\s',' \\\\\\\\rom ', line, flags=re.IGNORECASE)\n",
    "                 for line in protocols]\n",
    "    # for roman numerals that are single element of a line\n",
    "    protocols = [re.sub(r'^M{0,4}(CM|CD|D?C{0,3})(XC|XL|L?X{0,3})(IX|IV|V?I{0,3})$', '\\\\\\\\rom', line, flags=re.IGNORECASE)\n",
    "                 for line in protocols]\n",
    "    # for roman numerals that appear at the beginning of a line but line contains other elements \n",
    "    protocols = [re.sub(r'^M{0,4}(CM|CD|D?C{0,3})(XC|XL|L?X{0,3})(IX|IV|V?I{0,3})\\s' , '\\\\\\\\rom ', line, flags=re.IGNORECASE)\n",
    "                 for line in protocols]\n",
    "    # for roman numerals that appear at the end of a line but line contains other elements \n",
    "    return [re.sub(r'\\sM{0,4}(CM|CD|D?C{0,3})(XC|XL|L?X{0,3})(IX|IV|V?I{0,3})$', ' \\\\\\\\rom', line, flags=re.IGNORECASE)\n",
    "            for line in protocols]"
   ]
  },
  {
   "cell_type": "code",
   "execution_count": 195,
   "metadata": {},
   "outputs": [],
   "source": [
    "def replace_roman_numerals_lowercase(protocols):\n",
    "    # Need to run 4 different regex operations in order to capture all roman numerals\n",
    "    \n",
    "    # for roman numerals that appear in the middle of a line\n",
    "    protocols = [re.sub(r'\\sm{0,4}(cm|cd|d?c{0,3})(xc|xl|l?x{0,3})(ix|iv|v?i{0,3})\\s',' \\\\\\\\rom ', line) for line in protocols]\n",
    "    # for roman numerals that are single element of a line\n",
    "    protocols = [re.sub(r'^m{0,4}(cm|cd|d?c{0,3})(xc|xl|l?x{0,3})(ix|iv|v?i{0,3})$', '\\\\\\\\rom', line) for line in protocols]\n",
    "    # for roman numerals that appear at the beginning of a line but line contains other elements \n",
    "    protocols = [re.sub(r'^m{0,4}(cm|cd|d?c{0,3})(xc|xl|l?x{0,3})(ix|iv|v?i{0,3})\\s' , '\\\\\\\\rom ', line) for line in protocols]\n",
    "    # for roman numerals that appear at the end of a line but line contains other elements \n",
    "    return [re.sub(r'\\sm{0,4}(cm|cd|d?c{0,3})(xc|xl|l?x{0,3})(ix|iv|v?i{0,3})$', ' \\\\\\\\rom', line) for line in protocols]"
   ]
  },
  {
   "cell_type": "code",
   "execution_count": 158,
   "metadata": {},
   "outputs": [
    {
     "name": "stdout",
     "output_type": "stream",
     "text": [
      "der Privatangestellten  ... ... . Entwurf\n",
      "eines WeingeseHes ... ... .hinter Entwurf\n",
      "Beiträge \n"
     ]
    }
   ],
   "source": [
    "# Test the noisy digits removal\n",
    "print(re.sub(r'\\b(?P<quote>[A-Za-zß]+)1(?P<name>[A-Za-zß]*)\\b', '\\g<quote> \\g<name>', 'der Privatangestellten1 ... ... . Entwurf'))\n",
    "print(re.sub(r'\\b(?P<quote>[A-Za-zß]+)1(?P<name>[A-Za-zß]*)\\b', '\\g<quote>\\g<name>', 'eines WeingeseHes1 ... ... .hinter Entwurf'))\n",
    "print(re.sub(r'\\b(?P<quote>[A-Za-zßäöü]+)1(?P<name>[A-Za-zßäöü]*)\\b', '\\g<quote> \\g<name>', 'Beiträge1'))"
   ]
  },
  {
   "cell_type": "code",
   "execution_count": 139,
   "metadata": {},
   "outputs": [
    {
     "data": {
      "text/plain": [
       "' \\\\za Hinterbliebenversicherung \\\\za der'"
      ]
     },
     "execution_count": 139,
     "metadata": {},
     "output_type": "execute_result"
    }
   ],
   "source": [
    "re.sub(r'\\d+',' \\\\\\za ','1Hinterbliebenversicherung1der')"
   ]
  },
  {
   "cell_type": "markdown",
   "metadata": {},
   "source": [
    "##### Test reduce multiple repititions to 1"
   ]
  },
  {
   "cell_type": "code",
   "execution_count": 132,
   "metadata": {},
   "outputs": [
    {
     "data": {
      "text/plain": [
       "'\\\\rom \\\\rom'"
      ]
     },
     "execution_count": 132,
     "metadata": {},
     "output_type": "execute_result"
    }
   ],
   "source": [
    "# re.sub(r'((\\\\za|\\\\rom)\\s+){2,}', '\\\\2 ', '\\\\rom   \\\\za    \\\\rom')\n",
    "re.sub(r'((\\\\za|\\\\rom)\\s+){2,}', '\\\\2 ', '\\\\rom \\\\rom \\\\za \\\\rom \\\\rom')"
   ]
  },
  {
   "cell_type": "markdown",
   "metadata": {},
   "source": [
    "##### Test minus and dash sign removal"
   ]
  },
  {
   "cell_type": "code",
   "execution_count": 50,
   "metadata": {},
   "outputs": [],
   "source": [
    "test_dashes = [\n",
    "'- \\\\rom - \\\\za -',\n",
    "'\\\\rom -Ganz',\n",
    "'- \\\\za - \\\\za - \\\\za - \\\\za - \\\\za - \\\\za - \\\\za - \\\\za - \\\\za -',\n",
    "'sein Reichstag Aktenstück Nr \\\\rom Pensions- Hinterbliebenenversicherung der Prioatangestellten \\\\rom Übersicht',\n",
    "'Mehr — — Zuruf von der FDP Das ist auch besser',\n",
    "'Hallo wo  befindet sich denn der Trödelladen?',\n",
    "'  I bes, dUlrike xoxo  '\n",
    "]"
   ]
  },
  {
   "cell_type": "code",
   "execution_count": 44,
   "metadata": {},
   "outputs": [],
   "source": [
    "def remove_dash_and_minus_signs(doc):\n",
    "    # lone standing dash signs at beginning, middle and end of line\n",
    "    temp = [re.sub(r'\\s(-|—|\\s)*\\s', ' ', line) for line in doc]\n",
    "    temp = [re.sub(r'^(-|—|\\s)*\\s', '', line) for line in temp]\n",
    "    self = [re.sub(r'\\b (-|—|\\s)*$', '', line) for line in temp]\n",
    "    return self "
   ]
  },
  {
   "cell_type": "code",
   "execution_count": 51,
   "metadata": {},
   "outputs": [
    {
     "data": {
      "text/plain": [
       "['\\\\rom \\\\za',\n",
       " '\\\\rom -Ganz',\n",
       " '\\\\za \\\\za \\\\za \\\\za \\\\za \\\\za \\\\za \\\\za \\\\za',\n",
       " 'sein Reichstag Aktenstück Nr \\\\rom Pensions- Hinterbliebenenversicherung der Prioatangestellten \\\\rom Übersicht',\n",
       " 'Mehr Zuruf von der FDP Das ist auch besser',\n",
       " 'Hallo wo befindet sich denn der Trödelladen?',\n",
       " 'I bes, dUlrike xoxo']"
      ]
     },
     "execution_count": 51,
     "metadata": {},
     "output_type": "execute_result"
    }
   ],
   "source": [
    "remove_dash_and_minus_signs(test_dashes)"
   ]
  },
  {
   "cell_type": "markdown",
   "metadata": {},
   "source": [
    "##### Char splitting and German chainwords"
   ]
  },
  {
   "cell_type": "code",
   "execution_count": 62,
   "metadata": {},
   "outputs": [],
   "source": [
    "import sys\n",
    "sys.path.append(os.path.join(os.getcwd(),'CharSplit'))\n",
    "\n",
    "import char_split"
   ]
  },
  {
   "cell_type": "code",
   "execution_count": 63,
   "metadata": {},
   "outputs": [],
   "source": [
    "regex = \"([A-Za-z0-9_äÄöÖüÜß]+)[' '][-]?[' ']?[und|oder|als auch|sowie|&]+[' ']-[' ']?([A-Za-z0-9_äÄöÖüÜß]+)\"\n",
    "#     # brackets with following word: usually belonging together in german: (Wirtschafts-)Informatik, building two words\n",
    "#     regex.append(\"['(']{1}([A-Za-z0-9_äÄöÖüÜß]+).[')'](.?\\w+)\")\n",
    "#     # list of combined words beloning together (3)\n",
    "#     regex.append(\"([A-Za-z0-9_äÄöÖüÜß]+)-[,][' ']?([A-Za-z0-9_äÄöÖüÜß]+)-[' ']?[und|oder|sowie|&|,]+[' ']([A-Za-z0-9_äÄöÖüÜß]+-?([A-Za-z0-9_äÄöÖüÜß]+))\")\n",
    "#     # brackets with following word: usually belonging together in german: lv- oder kvbestandsfuehrungssystem, \n",
    "#     # building two words but we have to append the second part of the second word to the first word\n",
    "#     regex.append(\"([A-Za-z0-9_äÄöÖüÜß]+)-[' ']?[und|oder|sowie|&]+[' ']([A-Za-z0-9_äÄöÖüÜß]+-?([A-Za-z0-9_äÄöÖüÜß]+))\")\n",
    "#     # Wirtschafts-/Informatik\n",
    "#     regex.append(\"([A-Za-z0-9_äÄöÖüÜß]+)-['']?['/','&',',']['']?([A-Za-z0-9_äÄöÖüÜß]+)\")"
   ]
  },
  {
   "cell_type": "code",
   "execution_count": 64,
   "metadata": {},
   "outputs": [
    {
     "data": {
      "text/plain": [
       "\"([A-Za-z0-9_äÄöÖüÜß]+)[' '][-]?[' ']?[und|oder|als auch|sowie|&]+[' ']-[' ']?([A-Za-z0-9_äÄöÖüÜß]+)\""
      ]
     },
     "execution_count": 64,
     "metadata": {},
     "output_type": "execute_result"
    }
   ],
   "source": [
    "regex"
   ]
  },
  {
   "cell_type": "code",
   "execution_count": 75,
   "metadata": {},
   "outputs": [],
   "source": [
    "m = re.search(regex,sentence)\n",
    "if m:\n",
    "    findings = m.groups()"
   ]
  },
  {
   "cell_type": "code",
   "execution_count": 93,
   "metadata": {},
   "outputs": [
    {
     "name": "stdout",
     "output_type": "stream",
     "text": [
      "('Reichsausgaben', 'Einnahmen', 0)\n"
     ]
    },
    {
     "ename": "AttributeError",
     "evalue": "'NoneType' object has no attribute 'start'",
     "output_type": "error",
     "traceback": [
      "\u001b[1;31m---------------------------------------------------------------------------\u001b[0m",
      "\u001b[1;31mAttributeError\u001b[0m                            Traceback (most recent call last)",
      "\u001b[1;32m<ipython-input-93-308708fa4b63>\u001b[0m in \u001b[0;36m<module>\u001b[1;34m\u001b[0m\n\u001b[0;32m      1\u001b[0m \u001b[1;32mfor\u001b[0m \u001b[0mc\u001b[0m \u001b[1;32min\u001b[0m \u001b[0mzip\u001b[0m\u001b[1;33m(\u001b[0m\u001b[0mfindings\u001b[0m\u001b[1;33m[\u001b[0m\u001b[1;33m:\u001b[0m\u001b[1;33m:\u001b[0m\u001b[1;36m2\u001b[0m\u001b[1;33m]\u001b[0m\u001b[1;33m,\u001b[0m \u001b[0mfindings\u001b[0m\u001b[1;33m[\u001b[0m\u001b[1;36m1\u001b[0m\u001b[1;33m:\u001b[0m\u001b[1;33m:\u001b[0m\u001b[1;36m2\u001b[0m\u001b[1;33m]\u001b[0m\u001b[1;33m,\u001b[0m \u001b[0mrange\u001b[0m\u001b[1;33m(\u001b[0m\u001b[1;36m0\u001b[0m\u001b[1;33m,\u001b[0m\u001b[0mlen\u001b[0m\u001b[1;33m(\u001b[0m\u001b[0mfindings\u001b[0m\u001b[1;33m)\u001b[0m\u001b[1;33m,\u001b[0m\u001b[1;36m2\u001b[0m\u001b[1;33m)\u001b[0m\u001b[1;33m)\u001b[0m\u001b[1;33m:\u001b[0m\u001b[1;33m\u001b[0m\u001b[1;33m\u001b[0m\u001b[0m\n\u001b[0;32m      2\u001b[0m     \u001b[0mprint\u001b[0m\u001b[1;33m(\u001b[0m\u001b[0mc\u001b[0m\u001b[1;33m)\u001b[0m\u001b[1;33m\u001b[0m\u001b[1;33m\u001b[0m\u001b[0m\n\u001b[1;32m----> 3\u001b[1;33m     \u001b[0msentennce\u001b[0m \u001b[1;33m=\u001b[0m \u001b[0msentence\u001b[0m\u001b[1;33m.\u001b[0m\u001b[0mreplace\u001b[0m\u001b[1;33m(\u001b[0m\u001b[0msentence\u001b[0m\u001b[1;33m[\u001b[0m\u001b[0mm\u001b[0m\u001b[1;33m.\u001b[0m\u001b[0mstart\u001b[0m\u001b[1;33m(\u001b[0m\u001b[0mc\u001b[0m\u001b[1;33m[\u001b[0m\u001b[1;33m-\u001b[0m\u001b[1;36m1\u001b[0m\u001b[1;33m]\u001b[0m\u001b[1;33m)\u001b[0m\u001b[1;33m:\u001b[0m\u001b[0mm\u001b[0m\u001b[1;33m.\u001b[0m\u001b[0mend\u001b[0m\u001b[1;33m(\u001b[0m\u001b[0mc\u001b[0m\u001b[1;33m[\u001b[0m\u001b[1;33m-\u001b[0m\u001b[1;36m1\u001b[0m\u001b[1;33m]\u001b[0m\u001b[1;33m)\u001b[0m\u001b[1;33m]\u001b[0m\u001b[1;33m,\u001b[0m \u001b[0mcharSplitting\u001b[0m\u001b[1;33m(\u001b[0m\u001b[1;36m3\u001b[0m\u001b[1;33m,\u001b[0m\u001b[0mc\u001b[0m\u001b[1;33m)\u001b[0m\u001b[1;33m)\u001b[0m\u001b[1;33m\u001b[0m\u001b[1;33m\u001b[0m\u001b[0m\n\u001b[0m",
      "\u001b[1;31mAttributeError\u001b[0m: 'NoneType' object has no attribute 'start'"
     ]
    }
   ],
   "source": [
    "for c in zip(findings[::2], findings[1::2], range(0,len(findings),2)):\n",
    "    print(c)\n",
    "    sentencence = sentence.replace(sentence[m.start(c[-1]):m.end(c[-1])], charSplitting(3,c))"
   ]
  },
  {
   "cell_type": "code",
   "execution_count": 87,
   "metadata": {},
   "outputs": [
    {
     "name": "stdout",
     "output_type": "stream",
     "text": [
      "('Reichsausgaben', 'Einnahmen', 'Einnahmen')\n"
     ]
    }
   ],
   "source": [
    "for c in zip(findings[::2], findings[1::2], findings[1::2]):\n",
    "    print(c)"
   ]
  },
  {
   "cell_type": "code",
   "execution_count": 88,
   "metadata": {},
   "outputs": [
    {
     "ename": "SyntaxError",
     "evalue": "illegal target for annotation (<ipython-input-88-7046ef7b341b>, line 1)",
     "output_type": "error",
     "traceback": [
      "\u001b[1;36m  File \u001b[1;32m\"<ipython-input-88-7046ef7b341b>\"\u001b[1;36m, line \u001b[1;32m1\u001b[0m\n\u001b[1;33m    m.start(c[-1]):m.end(c[-1])\u001b[0m\n\u001b[1;37m                               ^\u001b[0m\n\u001b[1;31mSyntaxError\u001b[0m\u001b[1;31m:\u001b[0m illegal target for annotation\n"
     ]
    }
   ],
   "source": [
    "m.start(c[-1]):m.end(c[-1])"
   ]
  },
  {
   "cell_type": "code",
   "execution_count": 65,
   "metadata": {},
   "outputs": [
    {
     "name": "stdout",
     "output_type": "stream",
     "text": [
      "('Reichsausgaben', 'Einnahmen')\n"
     ]
    }
   ],
   "source": [
    "m = re.search(regex,'Reichsausgaben und -Einnahmen')\n",
    "\n",
    "if m:\n",
    "    findings = m.groups()\n",
    "    \n",
    "print(findings)"
   ]
  },
  {
   "cell_type": "code",
   "execution_count": 66,
   "metadata": {},
   "outputs": [
    {
     "name": "stdout",
     "output_type": "stream",
     "text": [
      "Reichsausgaben und Reichseinnahmen\n"
     ]
    }
   ],
   "source": [
    "word_1 = (char_split.split_compound('Reichsausgaben')[0][-2])\n",
    "word_2 = (char_split.split_compound('Reichsausgaben')[0][-1])\n",
    "chainword = 'und'\n",
    "word_3 = 'Einnahmen'\n",
    "\n",
    "print('{} {} {}'.format(word_1+word_2.lower(), chainword, word_1+word_3.lower()))"
   ]
  },
  {
   "cell_type": "code",
   "execution_count": 67,
   "metadata": {},
   "outputs": [
    {
     "name": "stdout",
     "output_type": "stream",
     "text": [
      "Reichsausgaben und Reichseinnahmen\n"
     ]
    }
   ],
   "source": [
    "print(charSplitting(3, findings))"
   ]
  },
  {
   "cell_type": "code",
   "execution_count": 174,
   "metadata": {},
   "outputs": [],
   "source": [
    "sentence = 'Bernd liebt sowohl Apfel-, Reis-, Kiwi-, Pfirsich- als auch Musbrei'"
   ]
  },
  {
   "cell_type": "code",
   "execution_count": 179,
   "metadata": {},
   "outputs": [],
   "source": [
    "regex_several_words = r\"([A-Za-z0-9_äÄöÖüÜß]+[\\s]?-[\\s]?,[\\s]?){1,}([A-Za-z0-9_äÄöÖüÜß]+[\\s]?-[\\s]?,[\\s]?){1,}([A-Za-z0-9_äÄöÖüÜß]+[\\s]?-[\\s]?,[\\s]?){1,}([A-Za-z0-9_äÄöÖüÜß]+[\\s]?-[\\s]?)[und|oder|als auch|sowie|&|,]+[\\s]([A-Za-z0-9_äÄöÖüÜß]+-?([A-Za-z0-9_äÄöÖüÜß]+))\"\n",
    "m = re.search(regex_several_words, sentence)\n",
    "findings = m.groups(),\n",
    "for c in zip(findings[::4], findings[1::4], findings[2::4], findings[3::4], range(0,len(findings),4)):\n",
    "    print(c)\n",
    "#     sentence = sentence.replace(sentence[m.start(c[-1]):m.end(c[-1])], charSplitting(1,c))\n",
    "# print(sentence)"
   ]
  },
  {
   "cell_type": "code",
   "execution_count": 181,
   "metadata": {},
   "outputs": [
    {
     "data": {
      "text/plain": [
       "(('Apfel-, ', 'Reis-, ', 'Kiwi-, ', 'Pfirsich- ', 'Musbrei', 'i'),)"
      ]
     },
     "execution_count": 181,
     "metadata": {},
     "output_type": "execute_result"
    }
   ],
   "source": [
    "findings"
   ]
  },
  {
   "cell_type": "code",
   "execution_count": 227,
   "metadata": {},
   "outputs": [
    {
     "data": {
      "text/plain": [
       "[('Reichsausgaben', 'Einnahmen')]"
      ]
     },
     "execution_count": 227,
     "metadata": {},
     "output_type": "execute_result"
    }
   ],
   "source": [
    "re.findall(r\"([A-Za-z0-9_äÄöÖüÜß]+)[' ']-?[' ']?(?:und|oder|als auch|sowie|&)+[' ']-[' ']?([A-Za-z0-9_äÄöÖüÜß]+)\", 'Reichsausgaben und -Einnahmen')"
   ]
  },
  {
   "cell_type": "code",
   "execution_count": null,
   "metadata": {},
   "outputs": [],
   "source": [
    "Die Gründe dafür sind das -Mark-Bilanzgesetz das die Bilanzkontinuität unterbrochen"
   ]
  },
  {
   "cell_type": "code",
   "execution_count": 70,
   "metadata": {},
   "outputs": [
    {
     "data": {
      "text/plain": [
       "[('Wirtschafts', 'Landressourcen')]"
      ]
     },
     "execution_count": 70,
     "metadata": {},
     "output_type": "execute_result"
    }
   ],
   "source": [
    "re.findall(\"([A-Za-z0-9_äÄöÖüÜß]+)-['']?['/','&',','][' ']?([A-Za-z0-9_äÄöÖüÜß]+)\",  'Wirtschafts-& Landressourcen')"
   ]
  },
  {
   "cell_type": "code",
   "execution_count": 96,
   "metadata": {},
   "outputs": [
    {
     "data": {
      "text/plain": [
       "'-'"
      ]
     },
     "execution_count": 96,
     "metadata": {},
     "output_type": "execute_result"
    }
   ],
   "source": [
    "regex[3]"
   ]
  },
  {
   "cell_type": "code",
   "execution_count": 278,
   "metadata": {},
   "outputs": [],
   "source": [
    "def charSplitting(i,groups,chainword=\"und\"):\n",
    "    \n",
    "    word1 = groups[0].replace(\" \",\"\")\n",
    "    word2 = groups[1].replace(\" \",\"\")\n",
    "    if len(groups) >= 4:\n",
    "        word3 = str(groups[2]).replace(\" \",\"\")\n",
    "    if len(groups) >= 5:\n",
    "        word4 = str(groups[3]).replace(\" \",\"\")\n",
    "    if i == 0:\n",
    "        #print(\"{}{}\".format(groups[0],groups[1]),groups[1])\n",
    "        return \"{}{} {} {}\".format(word1,word2.lower(),chainword,word2)\n",
    "    if i == 1:\n",
    "        if len(word4)>1:\n",
    "            splitted = char_split.split_compound(word4)[0][-1].lower()\n",
    "            return \"{}{} {} {}{} {} {}\".format(word1,word3.split(\"-\")[1],chainword,word2,word3.split(\"-\")[1],chainword,word3)\n",
    "        else:\n",
    "            splitted = char_split.split_compound(word3)[0][-1].lower()\n",
    "            return \"{}{} {} {}{} {} {}\".format(word1,splitted,chainword,word2,splitted,chainword,word3)\n",
    "    if i == 2:\n",
    "        if len(word3)>1:\n",
    "            splitted = char_split.split_compound(word3)[0][-1].lower()\n",
    "            return \"{}{} {} {}\".format(word1,word2.split(\"-\")[1],chainword,word2)\n",
    "        else:\n",
    "            splitted = char_split.split_compound(word2)[0][-1].lower()\n",
    "            return \"{}{} {} {}\".format(word1,splitted,chainword,word2)\n",
    "        \n",
    "    if i == 3:\n",
    "        splitted = (char_split.split_compound(word1)[0][-2])\n",
    "        return \"{} {} {}{}\".format(word1, chainword, splitted, word2.lower())"
   ]
  },
  {
   "cell_type": "code",
   "execution_count": 279,
   "metadata": {},
   "outputs": [],
   "source": [
    "def removeGermanChainWords(text):\n",
    "    regex = []\n",
    "    # brackets with following word: usually belonging together in german: (Wirtschafts-)Informatik, building two words\n",
    "    regex.append(r\"['(']{1}([A-Za-z0-9_äÄöÖüÜß]+).[')'](.?\\w+)\")\n",
    "    # list of combined words beloning together (3)\n",
    "    regex.append(r\"([A-Za-z0-9_äÄöÖüÜß]+)[\\s]?-[\\s]?([A-Za-z0-9_äÄöÖüÜß]+)-[\\s]?[und|oder|als auch|sowie|&|,]+[\\s]([A-Za-z0-9_äÄöÖüÜß]+-?([A-Za-z0-9_äÄöÖüÜß]+))\")\n",
    "#     regex.append(\"([A-Za-z0-9_äÄöÖüÜß]+)-[,][' ']?([A-Za-z0-9_äÄöÖüÜß]+)-[' ']?[und|oder|sowie|&|,]+[' ']([A-Za-z0-9_äÄöÖüÜß]+-?([A-Za-z0-9_äÄöÖüÜß]+))\")\n",
    "    # brackets with following word: usually belonging together in german: lv- oder kvbestandsfuehrungssystem, \n",
    "    # building two words but we have to append the second part of the second word to the first word\n",
    "    regex.append(r\"([A-Za-z0-9_äÄöÖüÜß]+)[' ']?-[' ']?(?:und|und dem|und des|oder|als auch|sowie|&)+[' ']([A-Za-z0-9_äÄöÖüÜß]+-?([A-Za-z0-9_äÄöÖüÜß]+))\")            \n",
    "    # Reichsausgaben und -Einnahme(\n",
    "    regex.append(r\"([A-Za-z0-9_äÄöÖüÜß]+)[' ']-?[' ']?(?:und|oder|als auch|sowie|&)+[' ']-[' ']?([A-Za-z0-9_äÄöÖüÜß]+)\")\n",
    "    # Wirtschafts-/Informatik\n",
    "    regex.append(r\"([A-Za-z0-9_äÄöÖüÜß]+)-['']?['/','&',',']['']?([A-Za-z0-9_äÄöÖüÜß]+)\")\n",
    "\n",
    "    sentence = text\n",
    "    m = re.search(regex[0],sentence)\n",
    "    if m:\n",
    "        print('regex 0')\n",
    "        findings = m.groups()\n",
    "        for c in zip(findings[::2], findings[1::2], range(0,len(findings),2)):\n",
    "            sentence = sentence.replace(sentence[m.start(c[-1]):m.end(c[-1])], charSplitting(0,c))\n",
    "        return sentence\n",
    "\n",
    "\n",
    "    m = re.search(regex[1],sentence)\n",
    "    if m:\n",
    "        print('regex 1')\n",
    "        findings = m.groups()\n",
    "        for c in zip(findings[::4], findings[1::4], findings[2::4], findings[3::4], range(0,len(findings),4)):\n",
    "            sentence = sentence.replace(sentence[m.start(c[-1]):m.end(c[-1])], charSplitting(1,c))\n",
    "        return sentence\n",
    "    \n",
    "    m = re.search(regex[2],sentence)\n",
    "    if m:\n",
    "        print('regex 2')\n",
    "        findings = m.groups()\n",
    "        for c in zip(findings[::3], findings[1::3], findings[2::3], range(0,len(findings),3)):\n",
    "            sentence = sentence.replace(sentence[m.start(c[-1]):m.end(c[-1])], charSplitting(2,c))\n",
    "        return sentence\n",
    "    \n",
    "    m = re.search(regex[3],sentence)\n",
    "    if m:\n",
    "        print('regex 3')\n",
    "        findings = m.groups()\n",
    "        for c in zip(findings[::2], findings[1::2], range(0,len(findings),2)):\n",
    "            sentence = sentence.replace(sentence[m.start(c[-1]):m.end(c[-1])], charSplitting(3,c))\n",
    "        return sentence\n",
    "    \n",
    "    #m = re.search(regex[4],sentence)\n",
    "    #if m:\n",
    "        #findings = m.groups()\n",
    "        #for c in zip(findings[::2], findings[1::2], range(0,len(findings),2)):\n",
    "            #sentence = sentence.replace(sentence[m.start(c[-1]):m.end(c[-1])], charsplitting(3,c))\n",
    "            \n",
    "    return sentence"
   ]
  },
  {
   "cell_type": "code",
   "execution_count": 262,
   "metadata": {},
   "outputs": [],
   "source": [
    "regex = \"([A-Za-z0-9_äÄöÖüÜß]+)[' ']-?[' ']?(?:und|oder|als auch|sowie|&)+[' ']-[' ']?([A-Za-z0-9_äÄöÖüÜß]+)\"\n",
    "\n",
    "sentence = 'Die Gründe dafür sind zu hohe Reichsausgaben und -Einnahmen.'\n",
    "m = re.search(regex, sentence)"
   ]
  },
  {
   "cell_type": "code",
   "execution_count": 238,
   "metadata": {},
   "outputs": [
    {
     "name": "stdout",
     "output_type": "stream",
     "text": [
      "('Reichsausgaben', 'Einnahmen')\n",
      "Die Gründe dafür sind zu hohe Reichsausgaben und Reichseinnahmen.\n"
     ]
    }
   ],
   "source": [
    "if m:\n",
    "    findings = m.groups()\n",
    "    print(findings)\n",
    "    for c in zip(findings[::2], findings[1::2], range(0,len(findings),2)):\n",
    "        sentence = sentence.replace(sentence[m.start(c[-1]):m.end(c[-1])], charSplitting(3,c))\n",
    "        print(sentence)"
   ]
  },
  {
   "cell_type": "code",
   "execution_count": 69,
   "metadata": {},
   "outputs": [
    {
     "data": {
      "text/plain": [
       "tuple"
      ]
     },
     "execution_count": 69,
     "metadata": {},
     "output_type": "execute_result"
    }
   ],
   "source": [
    "findings = m.groups()"
   ]
  },
  {
   "cell_type": "code",
   "execution_count": 92,
   "metadata": {},
   "outputs": [
    {
     "name": "stdout",
     "output_type": "stream",
     "text": [
      "Wirtschaftsinformatik und Informatik\n"
     ]
    }
   ],
   "source": [
    "for c in zip(findings[::2], findings[1::2], range(0,len(findings),2)):\n",
    "    print(charSplitting(0,c))"
   ]
  },
  {
   "cell_type": "code",
   "execution_count": 87,
   "metadata": {},
   "outputs": [
    {
     "name": "stdout",
     "output_type": "stream",
     "text": [
      "('Wirtschafts', 'Informatik', 0)\n"
     ]
    }
   ],
   "source": [
    "for c in zip(findings[::2], findings[1::2], range(0,len(findings),2)):\n",
    "    print(c)"
   ]
  },
  {
   "cell_type": "code",
   "execution_count": 81,
   "metadata": {},
   "outputs": [
    {
     "data": {
      "text/plain": [
       "'(Wirtschafts-)Informatik'"
      ]
     },
     "execution_count": 81,
     "metadata": {},
     "output_type": "execute_result"
    }
   ],
   "source": [
    "sentence[m.start(c[-1]):m.end(c[-1])]"
   ]
  },
  {
   "cell_type": "code",
   "execution_count": 60,
   "metadata": {},
   "outputs": [
    {
     "ename": "NameError",
     "evalue": "name 'm' is not defined",
     "output_type": "error",
     "traceback": [
      "\u001b[1;31m---------------------------------------------------------------------------\u001b[0m",
      "\u001b[1;31mNameError\u001b[0m                                 Traceback (most recent call last)",
      "\u001b[1;32m<ipython-input-60-d396604522b6>\u001b[0m in \u001b[0;36m<module>\u001b[1;34m\u001b[0m\n\u001b[1;32m----> 1\u001b[1;33m \u001b[1;32mif\u001b[0m \u001b[0mm\u001b[0m\u001b[1;33m:\u001b[0m\u001b[1;33m\u001b[0m\u001b[1;33m\u001b[0m\u001b[0m\n\u001b[0m\u001b[0;32m      2\u001b[0m     \u001b[0mfindings\u001b[0m \u001b[1;33m=\u001b[0m \u001b[0mm\u001b[0m\u001b[1;33m.\u001b[0m\u001b[0mgroups\u001b[0m\u001b[1;33m(\u001b[0m\u001b[1;33m)\u001b[0m\u001b[1;33m\u001b[0m\u001b[1;33m\u001b[0m\u001b[0m\n\u001b[0;32m      3\u001b[0m     \u001b[1;32mfor\u001b[0m \u001b[0mc\u001b[0m \u001b[1;32min\u001b[0m \u001b[0mzip\u001b[0m\u001b[1;33m(\u001b[0m\u001b[0mfindings\u001b[0m\u001b[1;33m[\u001b[0m\u001b[1;33m:\u001b[0m\u001b[1;33m:\u001b[0m\u001b[1;36m2\u001b[0m\u001b[1;33m]\u001b[0m\u001b[1;33m,\u001b[0m \u001b[0mfindings\u001b[0m\u001b[1;33m[\u001b[0m\u001b[1;36m1\u001b[0m\u001b[1;33m:\u001b[0m\u001b[1;33m:\u001b[0m\u001b[1;36m2\u001b[0m\u001b[1;33m]\u001b[0m\u001b[1;33m,\u001b[0m \u001b[0mrange\u001b[0m\u001b[1;33m(\u001b[0m\u001b[1;36m0\u001b[0m\u001b[1;33m,\u001b[0m\u001b[0mlen\u001b[0m\u001b[1;33m(\u001b[0m\u001b[0mfindings\u001b[0m\u001b[1;33m)\u001b[0m\u001b[1;33m,\u001b[0m\u001b[1;36m2\u001b[0m\u001b[1;33m)\u001b[0m\u001b[1;33m)\u001b[0m\u001b[1;33m:\u001b[0m\u001b[1;33m\u001b[0m\u001b[1;33m\u001b[0m\u001b[0m\n\u001b[0;32m      4\u001b[0m         \u001b[0msentence\u001b[0m \u001b[1;33m=\u001b[0m \u001b[0msentence\u001b[0m\u001b[1;33m.\u001b[0m\u001b[0mreplace\u001b[0m\u001b[1;33m(\u001b[0m\u001b[0msentence\u001b[0m\u001b[1;33m[\u001b[0m\u001b[0mm\u001b[0m\u001b[1;33m.\u001b[0m\u001b[0mstart\u001b[0m\u001b[1;33m(\u001b[0m\u001b[0mc\u001b[0m\u001b[1;33m[\u001b[0m\u001b[1;33m-\u001b[0m\u001b[1;36m1\u001b[0m\u001b[1;33m]\u001b[0m\u001b[1;33m)\u001b[0m\u001b[1;33m:\u001b[0m\u001b[0mm\u001b[0m\u001b[1;33m.\u001b[0m\u001b[0mend\u001b[0m\u001b[1;33m(\u001b[0m\u001b[0mc\u001b[0m\u001b[1;33m[\u001b[0m\u001b[1;33m-\u001b[0m\u001b[1;36m1\u001b[0m\u001b[1;33m]\u001b[0m\u001b[1;33m)\u001b[0m\u001b[1;33m]\u001b[0m\u001b[1;33m,\u001b[0m \u001b[0mcharSplitting\u001b[0m\u001b[1;33m(\u001b[0m\u001b[1;36m0\u001b[0m\u001b[1;33m,\u001b[0m\u001b[0mc\u001b[0m\u001b[1;33m)\u001b[0m\u001b[1;33m)\u001b[0m\u001b[1;33m\u001b[0m\u001b[1;33m\u001b[0m\u001b[0m\n",
      "\u001b[1;31mNameError\u001b[0m: name 'm' is not defined"
     ]
    }
   ],
   "source": [
    "    if m:\n",
    "        findings = m.groups()\n",
    "        for c in zip(findings[::2], findings[1::2], range(0,len(findings),2)):\n",
    "            sentence = sentence.replace(sentence[m.start(c[-1]):m.end(c[-1])], charSplitting(0,c))"
   ]
  },
  {
   "cell_type": "code",
   "execution_count": 282,
   "metadata": {},
   "outputs": [],
   "source": [
    "test_lines = [\n",
    "'Im Studium der (Wirtschafts-)Informatik schreiben sich immer mehr Studenten ein.',\n",
    "'Hier stellt sich die Gretchenfrage der gesamten Wirtschafts- Finanz- und Kreditpolitik.',\n",
    "'Marvin und Sandy haben in der Löffel- und Hündchenstellung sehr viel Spaß miteinander.',\n",
    "'Martina hat gegenüber ihrem Rainer in Geld-& Beziehungsfragen die Hosen an.',\n",
    "'Wir haben nämlich Menschen die keine Lohn- sowie Einkommensteuer zu bezahlen brauchen aber trotzdem bereit sind zu sparen wenn ihnen für dieses Sparen eine gewisse Belohnung gegeben wird'\n",
    "]"
   ]
  },
  {
   "cell_type": "code",
   "execution_count": 283,
   "metadata": {},
   "outputs": [
    {
     "name": "stdout",
     "output_type": "stream",
     "text": [
      "regex 0\n",
      "Im Studium der Wirtschaftsinformatik und Informatik schreiben sich immer mehr Studenten ein.\n",
      "regex 1\n",
      "Hier stellt sich die Gretchenfrage der gesamten Wirtschaftspolitik und Finanzpolitik und Kreditpolitik.\n",
      "regex 2\n",
      "Marvin und Sandy haben in der Löffelstellung und Hündchenstellung sehr viel Spaß miteinander.\n",
      "regex 2\n",
      "Martina hat gegenüber ihrem Rainer in Geldfragen und Beziehungsfragen die Hosen an.\n",
      "regex 2\n",
      "Wir haben nämlich Menschen die keine Lohnsteuer und Einkommensteuer zu bezahlen brauchen aber trotzdem bereit sind zu sparen wenn ihnen für dieses Sparen eine gewisse Belohnung gegeben wird\n"
     ]
    }
   ],
   "source": [
    "for line in test_lines:\n",
    "    print(removeGermanChainWords(line))"
   ]
  },
  {
   "cell_type": "code",
   "execution_count": 91,
   "metadata": {},
   "outputs": [],
   "source": [
    "test_words = [\n",
    "'Budget- Kommission',\n",
    "'Petitions- ',\n",
    "'Physikalisch-technische',\n",
    "'Bankgesetz- Kommission',\n",
    "'Kleist-Retzow',\n",
    "'Klein -Angestellter',\n",
    "'Garde-du-Corps-Kaserne',\n",
    "'die- ',\n",
    "]"
   ]
  },
  {
   "cell_type": "code",
   "execution_count": 8,
   "metadata": {},
   "outputs": [],
   "source": [
    "def remove_dash_and_minus_signs(line):\n",
    "    temp = [re.sub(r'\\s[-—]\\s', ' ', line)]\n",
    "    temp = [re.sub(r'[-—]\\s', ' ', line)]\n",
    "    text = [re.sub(r'\\s[-—]', ' ', line)]\n",
    "    return text "
   ]
  },
  {
   "cell_type": "code",
   "execution_count": 9,
   "metadata": {},
   "outputs": [
    {
     "name": "stdout",
     "output_type": "stream",
     "text": [
      "['Budget- Kommission']\n",
      "['Petitions- ']\n",
      "['Physikalisch-technische']\n",
      "['Bankgesetz- Kommission']\n",
      "['Kleist-Retzow']\n",
      "['Klein Angestellter']\n",
      "['Garde-du-Corps-Kaserne']\n",
      "['die- ']\n"
     ]
    }
   ],
   "source": [
    "for word in test_words:\n",
    "    print(remove_dash_and_minus_signs(word))"
   ]
  },
  {
   "cell_type": "code",
   "execution_count": 25,
   "metadata": {},
   "outputs": [],
   "source": [
    "def expandCompoundToken(text, split_chars=\"-\"):\n",
    "    new_text = text\n",
    "    for t in text.split():\n",
    "        parts = []\n",
    "        add = False   # signals if current part should be appended to previous part\n",
    "        for p in t.split(split_chars):  # for each part p in compound token t\n",
    "            if not p: continue  # skip empty part\n",
    "            if add and parts:   # append current part p to previous part\n",
    "                parts[-1] += p.lower()\n",
    "            else:               # add p as separate token\n",
    "                parts.append(p)\n",
    "            add = len(p) <= 10   # if p only consists of a single character -> append the next p to it\n",
    "            \n",
    "        if len(parts)>0:\n",
    "            new_text = new_text.replace(t, \"-\".join(parts))\n",
    "    return new_text"
   ]
  },
  {
   "cell_type": "code",
   "execution_count": 29,
   "metadata": {},
   "outputs": [],
   "source": [
    "test_text = 'Ich schreibe eine E-Mail an die Budget- Kommission und die Petitions- physikalisch-technische Anstalt der \\\n",
    "Deutschland GmbH mit Hauptsitz Kleist-Retzow, genauer BMUB-Auftrag gesagt in die- Straße wo steht die Garde-du-Corps-Kaserne'"
   ]
  },
  {
   "cell_type": "code",
   "execution_count": 30,
   "metadata": {},
   "outputs": [
    {
     "data": {
      "text/plain": [
       "'Ich schreibe eine Email an die Budget Kommission und die Petitions physikalisch-technische Anstalt der Deutschland GmbH mit Hauptsitz Kleistretzow, genauer BMUBauftrag gesagt in die Straße wo steht die Gardeducorpskaserne'"
      ]
     },
     "execution_count": 30,
     "metadata": {},
     "output_type": "execute_result"
    }
   ],
   "source": [
    "expandCompoundToken(test_text)"
   ]
  },
  {
   "cell_type": "code",
   "execution_count": 28,
   "metadata": {},
   "outputs": [
    {
     "data": {
      "text/plain": [
       "'Die Einfuhr und Ausfuhrmaßnahmen schmecken gar nicht'"
      ]
     },
     "execution_count": 28,
     "metadata": {},
     "output_type": "execute_result"
    }
   ],
   "source": [
    "expandCompoundToken('Die Einfuhr- und Ausfuhrmaßnahmen schmecken gar nicht')"
   ]
  },
  {
   "cell_type": "code",
   "execution_count": 11,
   "metadata": {},
   "outputs": [
    {
     "data": {
      "text/plain": [
       "['Budget', '']"
      ]
     },
     "execution_count": 11,
     "metadata": {},
     "output_type": "execute_result"
    }
   ],
   "source": [
    "'Budget-'.split('-')"
   ]
  },
  {
   "cell_type": "markdown",
   "metadata": {},
   "source": [
    "### Test methods for extracting the session protocols from the big document"
   ]
  },
  {
   "cell_type": "code",
   "execution_count": 1,
   "metadata": {},
   "outputs": [
    {
     "ename": "NameError",
     "evalue": "name 're' is not defined",
     "output_type": "error",
     "traceback": [
      "\u001b[1;31m---------------------------------------------------------------------------\u001b[0m",
      "\u001b[1;31mNameError\u001b[0m                                 Traceback (most recent call last)",
      "\u001b[1;32m<ipython-input-1-303777e5c857>\u001b[0m in \u001b[0;36m<module>\u001b[1;34m\u001b[0m\n\u001b[0;32m      1\u001b[0m \u001b[1;31m# Method to test extraction method for the last batch\u001b[0m\u001b[1;33m\u001b[0m\u001b[1;33m\u001b[0m\u001b[1;33m\u001b[0m\u001b[0m\n\u001b[1;32m----> 2\u001b[1;33m re.findall(r'Die Sitzung wird um 0 Uhr(?:\\s0 Minuten){0,1}(?:\\sabends){0,1} durch den Präsidenten eröffnet', \n\u001b[0m\u001b[0;32m      3\u001b[0m           'Die Sitzung wird um 0 Uhr durch den Präsidenten eröffnet')\n",
      "\u001b[1;31mNameError\u001b[0m: name 're' is not defined"
     ]
    }
   ],
   "source": [
    "# Method to test extraction method for the last batch\n",
    "re.findall(r'Die Sitzung wird um 0 Uhr(?:\\s0 Minuten){0,1}(?:\\sabends){0,1} durch den Präsidenten eröffnet', \n",
    "          'Die Sitzung wird um 0 Uhr durch den Präsidenten eröffnet')"
   ]
  },
  {
   "cell_type": "code",
   "execution_count": 66,
   "metadata": {},
   "outputs": [
    {
     "data": {
      "text/plain": [
       "['Sitzung Montag den 10 Januar 1895']"
      ]
     },
     "execution_count": 66,
     "metadata": {},
     "output_type": "execute_result"
    }
   ],
   "source": [
    "re.findall(r'Sitzung (?:am\\s){0,1}(?:Montag|Dienstag|Mittwoch|Donnerstag|Freitag|Sonnabend|Sonntag) den \\d+\\.? (?:Januar|Februar|März|April|Mai|Juni|Juli|August|September|Oktober|October|November|Dezember) %s'% 1895,\n",
    "                    'Sitzung Montag den 10 Januar 1895')\n",
    "    "
   ]
  },
  {
   "cell_type": "markdown",
   "metadata": {},
   "source": [
    "### How to sort the documents from glob in an appropriate way?"
   ]
  },
  {
   "cell_type": "code",
   "execution_count": 261,
   "metadata": {},
   "outputs": [
    {
     "data": {
      "text/plain": [
       "['../protocols_1\\\\doc_1818.txt',\n",
       " '../protocols_1\\\\doc_1819.txt',\n",
       " '../protocols_1\\\\doc_1820.txt',\n",
       " '../protocols_1\\\\doc_1821.txt',\n",
       " '../protocols_1\\\\doc_1822.txt',\n",
       " '../protocols_1\\\\doc_1823.txt',\n",
       " '../protocols_1\\\\doc_1824.txt',\n",
       " '../protocols_1\\\\doc_1825.txt',\n",
       " '../protocols_1\\\\doc_1826.txt',\n",
       " '../protocols_1\\\\doc_1827.txt',\n",
       " '../protocols_1\\\\doc_1828.txt',\n",
       " '../protocols_1\\\\doc_1829.txt',\n",
       " '../protocols_1\\\\doc_1830.txt',\n",
       " '../protocols_1\\\\doc_1831.txt',\n",
       " '../protocols_1\\\\doc_1832.txt',\n",
       " '../protocols_1\\\\doc_1833.txt',\n",
       " '../protocols_1\\\\doc_1834.txt',\n",
       " '../protocols_1\\\\doc_1835.txt',\n",
       " '../protocols_1\\\\doc_1836.txt',\n",
       " '../protocols_1\\\\doc_1837.txt',\n",
       " '../protocols_1\\\\doc_1838.txt',\n",
       " '../protocols_1\\\\doc_1839.txt',\n",
       " '../protocols_1\\\\doc_1840.txt',\n",
       " '../protocols_1\\\\doc_1841.txt',\n",
       " '../protocols_1\\\\doc_1842.txt',\n",
       " '../protocols_1\\\\doc_1843.txt',\n",
       " '../protocols_1\\\\doc_1844.txt',\n",
       " '../protocols_1\\\\doc_1845.txt',\n",
       " '../protocols_1\\\\doc_1846.txt',\n",
       " '../protocols_1\\\\doc_1847.txt',\n",
       " '../protocols_1\\\\doc_1848.txt',\n",
       " '../protocols_1\\\\doc_1849.txt',\n",
       " '../protocols_1\\\\doc_1850.txt',\n",
       " '../protocols_1\\\\doc_1851.txt',\n",
       " '../protocols_1\\\\doc_1852.txt',\n",
       " '../protocols_1\\\\doc_1853.txt',\n",
       " '../protocols_1\\\\doc_1854.txt',\n",
       " '../protocols_1\\\\doc_1855.txt',\n",
       " '../protocols_1\\\\doc_1856.txt',\n",
       " '../protocols_1\\\\doc_1857.txt',\n",
       " '../protocols_1\\\\doc_1858.txt',\n",
       " '../protocols_1\\\\doc_1859.txt',\n",
       " '../protocols_1\\\\doc_1860.txt',\n",
       " '../protocols_1\\\\doc_1861.txt',\n",
       " '../protocols_1\\\\doc_1862.txt',\n",
       " '../protocols_1\\\\doc_1863.txt',\n",
       " '../protocols_1\\\\doc_1864.txt',\n",
       " '../protocols_1\\\\doc_1865.txt',\n",
       " '../protocols_1\\\\doc_1866.txt',\n",
       " '../protocols_1\\\\doc_1867.txt',\n",
       " '../protocols_1\\\\doc_1868.txt',\n",
       " '../protocols_1\\\\doc_1869.txt',\n",
       " '../protocols_1\\\\doc_1870.txt',\n",
       " '../protocols_1\\\\doc_1871.txt',\n",
       " '../protocols_1\\\\doc_1872.txt',\n",
       " '../protocols_1\\\\doc_1873.txt',\n",
       " '../protocols_1\\\\doc_1874.txt',\n",
       " '../protocols_1\\\\doc_1875.txt',\n",
       " '../protocols_1\\\\doc_1876.txt',\n",
       " '../protocols_1\\\\doc_1877.txt',\n",
       " '../protocols_1\\\\doc_1878.txt',\n",
       " '../protocols_1\\\\doc_1879.txt',\n",
       " '../protocols_1\\\\doc_1880.txt',\n",
       " '../protocols_1\\\\doc_1881.txt',\n",
       " '../protocols_1\\\\doc_1882.txt',\n",
       " '../protocols_1\\\\doc_1883.txt',\n",
       " '../protocols_1\\\\doc_1884.txt',\n",
       " '../protocols_1\\\\doc_1885.txt',\n",
       " '../protocols_1\\\\doc_1886.txt',\n",
       " '../protocols_1\\\\doc_1887.txt',\n",
       " '../protocols_1\\\\doc_1888.txt',\n",
       " '../protocols_1\\\\doc_1889.txt',\n",
       " '../protocols_1\\\\doc_1890.txt',\n",
       " '../protocols_1\\\\doc_1891.txt',\n",
       " '../protocols_1\\\\doc_1892.txt',\n",
       " '../protocols_1\\\\doc_1893.txt',\n",
       " '../protocols_1\\\\doc_1894.txt',\n",
       " '../protocols_1\\\\doc_1895.txt',\n",
       " '../protocols_1\\\\doc_1896.txt',\n",
       " '../protocols_1\\\\doc_1897.txt',\n",
       " '../protocols_1\\\\doc_1898.txt',\n",
       " '../protocols_1\\\\doc_1899.txt',\n",
       " '../protocols_1\\\\doc_1900.txt',\n",
       " '../protocols_1\\\\doc_1901.txt',\n",
       " '../protocols_1\\\\doc_1902.txt',\n",
       " '../protocols_1\\\\doc_1903.txt',\n",
       " '../protocols_1\\\\doc_1904.txt',\n",
       " '../protocols_1\\\\doc_1905.txt',\n",
       " '../protocols_1\\\\doc_1906.txt',\n",
       " '../protocols_1\\\\doc_1907.txt',\n",
       " '../protocols_1\\\\doc_1908.txt',\n",
       " '../protocols_1\\\\doc_1909.txt',\n",
       " '../protocols_1\\\\doc_1910.txt',\n",
       " '../protocols_1\\\\doc_1911.txt',\n",
       " '../protocols_1\\\\doc_1912.txt',\n",
       " '../protocols_1\\\\doc_1913.txt',\n",
       " '../protocols_1\\\\doc_1914.txt',\n",
       " '../protocols_1\\\\doc_1915.txt',\n",
       " '../protocols_1\\\\doc_1916.txt',\n",
       " '../protocols_1\\\\doc_1917.txt']"
      ]
     },
     "execution_count": 261,
     "metadata": {},
     "output_type": "execute_result"
    }
   ],
   "source": [
    "import glob\n",
    "sorted(glob.glob('../protocols_1/doc_*.txt'), key=os.path.getmtime)\n",
    "# glob.glob('../protocols_1/doc_*.txt')"
   ]
  }
 ],
 "metadata": {
  "kernelspec": {
   "display_name": "Python (master)",
   "language": "python",
   "name": "master"
  },
  "language_info": {
   "codemirror_mode": {
    "name": "ipython",
    "version": 3
   },
   "file_extension": ".py",
   "mimetype": "text/x-python",
   "name": "python",
   "nbconvert_exporter": "python",
   "pygments_lexer": "ipython3",
   "version": "3.6.7"
  }
 },
 "nbformat": 4,
 "nbformat_minor": 2
}
