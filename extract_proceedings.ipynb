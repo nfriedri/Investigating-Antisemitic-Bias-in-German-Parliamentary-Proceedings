{
 "cells": [
  {
   "cell_type": "code",
   "execution_count": 1,
   "metadata": {},
   "outputs": [],
   "source": [
    "# -*- coding: utf-8 -*-\n",
    "import os \n",
    "import glob\n",
    "import pickle\n",
    "from collections import defaultdict\n",
    "import itertools\n",
    "from pathlib import Path\n",
    "import pandas as pd\n",
    "import numpy as np\n",
    "import re\n",
    "from representations.utils import load_corpus\n",
    "from datetime import datetime\n",
    "from text_preprocessing import *\n",
    "import spacy\n",
    "import logging\n",
    "logging.basicConfig(level=logging.INFO, format='%(asctime)s :: %(levelname)s :: %(message)s')"
   ]
  },
  {
   "cell_type": "code",
   "execution_count": 2,
   "metadata": {},
   "outputs": [],
   "source": [
    "from IPython.core.interactiveshell import InteractiveShell\n",
    "InteractiveShell.ast_node_interactivity = \"all\""
   ]
  },
  {
   "cell_type": "markdown",
   "metadata": {},
   "source": [
    "### Pre-processing functions for the protocols"
   ]
  },
  {
   "cell_type": "code",
   "execution_count": 235,
   "metadata": {},
   "outputs": [],
   "source": [
    "class Protocols():\n",
    "    data_folder = Path('C:\\\\Users\\\\Tobias\\\\Documents\\\\Uni Mannheim\\\\Master Thesis\\\\notebooks\\\\data')\n",
    "    \n",
    "    def __init__(self, filename):\n",
    "        filename = self.data_folder / filename\n",
    "        file = open(filename, 'r', encoding='utf-8')\n",
    "        self.text = file.readlines()\n",
    "        \n",
    "    def __iter__(self):\n",
    "        return iter(self.text)\n",
    "    \n",
    "    def __str__(self):\n",
    "        return \" \".join(self.text)\n",
    "    \n",
    "    # Remove line breaks\n",
    "    def remove_linebreaks(self, lines):\n",
    "        self.text = [re.sub(r'\\n', '', line).strip() for line in lines]\n",
    "        return self\n",
    "\n",
    "    # Remove punctuation: Leave out dash sign so that the composite words in German language stay as is\n",
    "    def remove_punctuation(self, lines):    \n",
    "        pattern = re.compile('[%s]' % re.escape('!\"#$&\\'()*+,./:;<=>?@®©[\\\\]^_`{|}~„“«»'))\n",
    "        # pattern = re.compile('[%s]' % re.escape(string.punctuation))\n",
    "        self.text = [re.sub(pattern,'', line).strip() for line in lines]\n",
    "        return self \n",
    "\n",
    "    # Remove the digit 1 appending many nouns (e.g. Schlachtvieh1, Finanzwesen1) or is in between two words that don't belong\n",
    "    # together (e.g. nimmt1die)\n",
    "\n",
    "    def remove_noisy_digits(self, lines):\n",
    "        temp = [re.sub(r'\\b1(?P<quote>[A-Za-z]+)\\b', '\\g<quote>', line) for line in lines]\n",
    "        temp = [re.sub(r'\\b(?P<quote>[A-Za-z]+)1\\b', '\\g<quote>', line) for line in temp]\n",
    "        self.text = [re.sub(r'\\b(?P<quote>[A-Za-zßäöü]+)1(?P<name>[A-Za-zßäöü]*)\\b', '\\g<quote> \\g<name>', line) for line in temp]\n",
    "        return self \n",
    "\n",
    "    # Substitute every digit by a placeholder in order to harmonize corpus --> Need to insert space after each placeholder\n",
    "    # as there are a lot of digits attached with words\n",
    "    def replace_digits(self, lines):\n",
    "        self.text = [re.sub(r'\\d+',' 0 ' ,line).strip() for line in lines]\n",
    "        return self \n",
    "    \n",
    "    # After replacing digits (both arabic and roman) there will be many sequences of consecutive placeholders\n",
    "    # (e.g. \\\\rom \\\\za \\\\rom \\\\rom \\\\za) for example when a passage in the law is cited --> reduce to a single placeholder\n",
    "    \n",
    "    def replace_roman_numerals(self,lines):\n",
    "        # Need to run 4 different regex operations in order to capture all roman numerals\n",
    "        \n",
    "        # for roman numerals that appear in the middle of a line\n",
    "        temp = [re.sub(r'\\b\\sM{0,4}(CM|CD|D?C{0,3})(XC|XL|L?X{0,3})(IX|IV|V?I{0,3})\\s\\b',' \\rom ', line, flags=re.IGNORECASE) \n",
    "                for line in lines]\n",
    "        # for roman numerals that are single element of a line\n",
    "        temp = [re.sub(r'\\b^M{0,4}(CM|CD|D?C{0,3})(XC|XL|L?X{0,3})(IX|IV|V?I{0,3})$\\b', '\\rom', line, flags=re.IGNORECASE)\n",
    "                for line in temp]\n",
    "        # for roman numerals that appear at the beginning of a line but line contains other elements \n",
    "        temp = [re.sub(r'^M{0,4}(CM|CD|D?C{0,3})(XC|XL|L?X{0,3})(IX|IV|V?I{0,3})\\s' , '\\rom ', line, flags=re.IGNORECASE)\n",
    "                for line in temp]\n",
    "        # for roman numerals that appear at the end of a line but line contains other elements \n",
    "        self.text = [re.sub(r'\\sM{0,4}(CM|CD|D?C{0,3})(XC|XL|L?X{0,3})(IX|IV|V?I{0,3})$', ' \\rom', line, flags=re.IGNORECASE)\n",
    "                for line in temp]\n",
    "        return self \n",
    "    \n",
    "    def remove_dash_and_minus_signs(self, lines):\n",
    "        # lone standing dash signs at beginning, middle and end of line\n",
    "        temp = [[re.sub(r'\\s(-|—|–|\\s)+\\s', ' ', line) for line in doc] for doc in lines]\n",
    "        temp = [[re.sub(r'^(-|—|–|\\s)+\\s', '', line) for line in doc] for doc in temp]\n",
    "        self.text = [[re.sub(r'\\b\\s(-|—|–|\\s)+$', '', line) for line in doc] for doc in temp]\n",
    "        return self\n",
    "    \n",
    "    def reduce_numerical_sequences(self,lines): \n",
    "        self.text = [re.sub(r'((0)\\s?){2,}', '\\\\2 ', line).strip() for line in lines]\n",
    "        return self \n",
    "    \n",
    "    def remove_single_letters(self, lines):\n",
    "        self.text = [re.sub(r'\\b[A-Za-zÄÖÜäöüß]\\b','', line) for line in lines]\n",
    "        return self \n",
    "        \n",
    "    # Remove double spacing\n",
    "    def remove_double_spaces(self, lines):\n",
    "        self.text = [re.sub('\\s\\s+',' ', line).strip() for line in lines]\n",
    "        # protocols = re.sub('\\s\\s+',' ', protocols)\n",
    "        return self \n",
    "    def removeUmlauts(self,lines):\n",
    "        temp = [line.replace('ä', 'ae', re.IGNORECASE) for line in lines]\n",
    "        temp = [line.replace('ö', 'oe', re.IGNORECASE) for line in temp]\n",
    "        temp = [line.replace('ü', 'ue', re.IGNORECASE) for line in temp]\n",
    "        self.text = [line.replace('ß', 'ss', re.IGNORECASE) for line in temp]\n",
    "        return self"
   ]
  },
  {
   "cell_type": "code",
   "execution_count": 3,
   "metadata": {},
   "outputs": [],
   "source": [
    "# dirname = 'data/WP_15'\n",
    "# if not os.path.exists(f'{dirname}_processed'):\n",
    "#     os.makedirs(f'{dirname}_processed')\n",
    "# files_total = len(os.listdir(dirname))\n",
    "# logging.info(f'{files_total} files were found.')\n",
    "# border = round(files_total / 10, 2)\n",
    "# for num in range(1,files_total+1):\n",
    "#     try:\n",
    "#         text = open(os.path.join(dirname, f'{num}_sents.txt'), encoding='utf-8').readlines()\n",
    "#         protocols_text = extract_protocol(text)\n",
    "#         text = remove_linebreaks(protocols_text)\n",
    "#         punt_removed_text = remove_punctuation(text)\n",
    "#         text = remove_double_spaces(punt_removed_text)\n",
    "#         noisy_digits_removed_text = remove_noisy_digits(text)\n",
    "#         digits_replaced = replace_digits(noisy_digits_removed_text)\n",
    "#         text = reduce_numerical_sequences(text)\n",
    "#         text = remove_dash_and_minus_signs(text)\n",
    "#         text = remove_double_spaces(text)\n",
    "#         text = remove_empty_lines(text)\n",
    "#         text = [removeGermanChainWords(line) for line in text]\n",
    "#         text = [expandCompoundToken(line) for line in text]\n",
    "#         text = [lemmatizer.lemmatize(line) for line in text]\n",
    "#         text = [spell_checker.correct(line) for line in text]\n",
    "#         text = [[tok.lower() for tok in line] for line in text]\n",
    "#     #             text = itertools.chain.from_iterable(text)\n",
    "#         save_as_line_sentence(text, f'{self.dirname}_processed/{num}.txt')\n",
    "#         i += 1\n",
    "#         if i % border == 0:\n",
    "#           logging.info('Processing {:03.1f} percent finished'.format(float((i/(files_total)) * 100)))\n",
    "\n",
    "#     except FileNotFoundError:\n",
    "#         print(f'File {num} was not found.')"
   ]
  },
  {
   "cell_type": "code",
   "execution_count": 110,
   "metadata": {},
   "outputs": [],
   "source": [
    "class CreateProceedingsCorpus:\n",
    "    data_folder = Path('data')\n",
    "    def __init__(self, dirname):\n",
    "        self.dirname = str(self.data_folder / dirname)\n",
    "    def __iter__(self):\n",
    "        num_files = len(glob.glob(f'{self.dirname}/*.txt'))\n",
    "        for num in range(1,num_files+1):\n",
    "            for file in glob.glob(f'{self.dirname}/{num}_sents.txt'):\n",
    "                text = open(file, encoding='utf-8').readlines()\n",
    "                yield text"
   ]
  },
  {
   "cell_type": "code",
   "execution_count": 111,
   "metadata": {},
   "outputs": [],
   "source": [
    "class PlenarProceedings():\n",
    "    data_folder = Path('C:\\\\Users\\\\Tobias\\\\documents\\\\Uni Mannheim\\\\Master Thesis\\\\notebooks\\\\data')\n",
    "    \n",
    "    def __init__(self, dirname):\n",
    "        self.proceedings = list(CreateProceedingsCorpus(self.data_folder / dirname))\n",
    "        \n",
    "    def __iter__(self):\n",
    "        return iter(self.proceedings)\n",
    "    \n",
    "    def __str__(self):\n",
    "        return \" \".join(self.proceedings)\n",
    "            \n",
    " # Remove line breaks\n",
    "    def remove_linebreaks(self):\n",
    "        self.proceedings = [[re.sub(r'[\\n\\t]', '', line).strip() for line in doc] for doc in self.proceedings]\n",
    "        return self\n",
    "    \n",
    "    def remove_punctuation(self):    \n",
    "        pattern = re.compile('[%s]' % re.escape('!\"#$&\\'()*+,./:;<=>?@®©[\\\\]^_`{|}~„«»'))\n",
    "        self.proceedings = [[re.sub(pattern,'', line).strip() for line in doc] for doc in self.proceedings]\n",
    "        return self \n",
    "    \n",
    "    def remove_double_spaces(self):\n",
    "        self.proceedings = [[re.sub('\\s\\s+',' ', line).strip() for line in doc] for doc in self.proceedings]\n",
    "        return self\n",
    "    \n",
    "#     def replace_measures(self):\n",
    "#         temp = [[re.sub(r'%', 'Prozent') for line in doc] for doc in self.proceedings]\n",
    "#         temp = [[re.sub(r'(°o|‰|%o)', 'Promille') for line in doc] for doc in self.proceedings]\n",
    "    \n",
    "    def remove_noisy_digits(self):\n",
    "        temp = [[re.sub(r'\\b1(?P<quote>[A-Za-z]+)\\b', '\\g<quote>', line) for line in doc] for doc in self.proceedings]\n",
    "        temp = [[re.sub(r'\\b(?P<quote>[A-Za-z]+)1\\b', '\\g<quote>', line) for line in doc] for doc in temp]\n",
    "        temp = [[re.sub(r'\\b(?P<quote>[A-Za-zßäöü]+)1(?P<name>[A-Za-zßäöü]*)\\b', '\\g<quote> \\g<name>', line) for line in doc] for doc in temp]\n",
    "        self.proceedings = temp\n",
    "        return self\n",
    "    \n",
    "    def replace_digits(self):\n",
    "        self.proceedings = [[re.sub(r'\\d+',' 0 ' ,line).strip() for line in doc] for doc in self.proceedings]\n",
    "        return self \n",
    "    \n",
    "    def replace_roman_numerals(self):\n",
    "        # Need to run 4 different regex operations in order to capture all roman numerals\n",
    "        \n",
    "        # for roman numerals that appear in the middle of a line\n",
    "        temp = [[re.sub(r'\\b\\sM{0,4}(CM|CD|D?C{0,3})(XC|XL|L?X{0,3})(IX|IV|V?I{0,3})\\s\\b',' 10 ', line, flags=re.IGNORECASE) \n",
    "                for line in doc] for doc in self.proceedings]\n",
    "        # for roman numerals that are single element of a line\n",
    "        temp = [[re.sub(r'\\b^M{0,4}(CM|CD|D?C{0,3})(XC|XL|L?X{0,3})(IX|IV|V?I{0,3})$\\b', '10', line, flags=re.IGNORECASE)\n",
    "                for line in doc] for doc in temp]\n",
    "        # for roman numerals that appear at the beginning of a line but line contains other elements \n",
    "        temp = [[re.sub(r'^M{0,4}(CM|CD|D?C{0,3})(XC|XL|L?X{0,3})(IX|IV|V?I{0,3})\\s' , '10 ', line, flags=re.IGNORECASE)\n",
    "                for line in doc] for doc in temp]\n",
    "        # for roman numerals that appear at the end of a line but line contains other elements \n",
    "        self.proceedings = [[re.sub(r'\\sM{0,4}(CM|CD|D?C{0,3})(XC|XL|L?X{0,3})(IX|IV|V?I{0,3})$', ' 10', line, flags=re.IGNORECASE)\n",
    "                for line in doc] for doc in temp]\n",
    "        return self \n",
    "    \n",
    "    def reduce_numerical_sequences(self): \n",
    "        self.proceedings = [[re.sub(r'((0)\\s?){2,}', '\\\\2 ', line).strip() for line in doc] for doc in self.proceedings]\n",
    "        return self\n",
    "    \n",
    "    def remove_dash_and_minus_signs(self):\n",
    "        # lone standing dash signs at beginning, middle and end of line\n",
    "        temp = [[re.sub(r'\\s(-|—|–|\\s)+\\s', ' ', line) for line in doc] for doc in self.proceedings]\n",
    "        temp = [[re.sub(r'^(-|—|–|\\s)+\\s', '', line) for line in doc] for doc in temp]\n",
    "        self.proceedings = [[re.sub(r'\\b\\s(-|—|–|\\s)+$', '', line) for line in doc] for doc in temp]\n",
    "        return self\n",
    "    \n",
    "    def remove_single_letters(self):\n",
    "        self.proceedings = [[re.sub(r'\\b[A-Za-zÄÖÜäöüß]\\b','', line) for line in doc] for doc in self.proceedings]\n",
    "    \n",
    "    def remove_empty_lines(self):\n",
    "        self.proceedings = [[line for line in doc] for doc in self.proceedings if len(line) >0]\n",
    "        return self "
   ]
  },
  {
   "cell_type": "code",
   "execution_count": 153,
   "metadata": {},
   "outputs": [],
   "source": [
    "period_1 = PlenarProceedings('WP_1')"
   ]
  },
  {
   "cell_type": "code",
   "execution_count": 154,
   "metadata": {},
   "outputs": [
    {
     "data": {
      "text/plain": [
       "<__main__.PlenarProceedings at 0x2965d2ba278>"
      ]
     },
     "execution_count": 154,
     "metadata": {},
     "output_type": "execute_result"
    }
   ],
   "source": [
    "period_1.remove_punctuation()\\\n",
    "        .remove_double_spaces()\n",
    "period_1.proceedings = [extract_protocol(doc) for doc in period_1.proceedings]"
   ]
  },
  {
   "cell_type": "code",
   "execution_count": 155,
   "metadata": {},
   "outputs": [
    {
     "data": {
      "text/plain": [
       "<__main__.PlenarProceedings at 0x2965d2ba278>"
      ]
     },
     "execution_count": 155,
     "metadata": {},
     "output_type": "execute_result"
    }
   ],
   "source": [
    "period_1.remove_noisy_digits()\\\n",
    "        .replace_digits()\\\n",
    "        .reduce_numerical_sequences()\\\n",
    "        .remove_dash_and_minus_signs()\\\n",
    "        .remove_double_spaces()"
   ]
  },
  {
   "cell_type": "code",
   "execution_count": 241,
   "metadata": {},
   "outputs": [],
   "source": [
    "protocols_1 = Protocols('1895.corr.seg')\n",
    "protocols_2 = Protocols('1918.corr.seg')\n",
    "protocols_3 = Protocols('1933.corr.seg')\n",
    "protocols_4 = Protocols('1942.corr.seg')"
   ]
  },
  {
   "cell_type": "code",
   "execution_count": 237,
   "metadata": {},
   "outputs": [],
   "source": [
    "all_protocols = (protocols_1, protocols_2, protocols_3, protocols_4)"
   ]
  },
  {
   "cell_type": "code",
   "execution_count": null,
   "metadata": {},
   "outputs": [],
   "source": [
    "protocols_1.remove_punctuation(protocols_1.text)\\\n",
    "            .remove_double_spaces(protocols_1.text)\\\n",
    "            .remove_noisy_digits(protocols_1.text)\\\n",
    "            .remove_dash_and_minus_signs(protocols_1.text)"
   ]
  },
  {
   "cell_type": "code",
   "execution_count": 239,
   "metadata": {},
   "outputs": [
    {
     "data": {
      "text/plain": [
       "['Stenographische Berichte über die Verhandlungen des Reichstags',\n",
       " 'VII',\n",
       " 'Legislaturperiode',\n",
       " 'V Session 188SSV',\n",
       " 'Erster Band',\n",
       " 'Von der Eröffnungssitzung am 22',\n",
       " 'Oktober bis zur 27',\n",
       " 'Sitzung am 2',\n",
       " 'Dezember 1889',\n",
       " 'Von Seite 1 bis 631',\n",
       " 'Voran Sprechregister Seite IX ff',\n",
       " 'Das Sachregister befindet sich am Schluß des zweiten das Mitgliederverzeichniß — als Nr',\n",
       " '1 der Anlagen — am Anfang des dritten Bandes Anlagebandes',\n",
       " 'Die Vorlagen der verbündeten Regierungen die Kormnisstonsberichte c sind in dem Anlageband der Stenographischen Berichte dritter Band abgedruckt welcher im Verlage von Julius Sittenfeld in Berlin Mauerstraße Nr',\n",
       " '6365 erscheint',\n",
       " 'Das Post-Abonnement auf diese Anlagen ist besonders zu bestellen',\n",
       " 'Berlin 1890',\n",
       " 'Druck und Verlag der Norddeutschen Buchdruckerei und Verlags-Anstalt',\n",
       " 'Berlin 8',\n",
       " 'Wilhelmstraße Nr',\n",
       " '32',\n",
       " 'X Inhaltsverzeichnilj',\n",
       " 'Allerhöchste Verordnung vom 30',\n",
       " 'September 1889 die Einberufung des Reichstags betreffend 1',\n",
       " 'Sprechregister 1 Seite VH IX Eröffnungssitzung im Weißen Saale des Königlichen Schlosses zu Berlin am Dienstag den 22',\n",
       " 'Oktober 1889',\n",
       " 'Thronrede 1 1 1 Eröffnungserklärung ',\n",
       " '',\n",
       " '',\n",
       " '',\n",
       " 'Erste Sitzung am Dienstag den 22',\n",
       " 'Oktober 1889',\n",
       " 'Vorläufige Konstituirung des Reichstags Neugewählte Abgeordnete Eingegangene Vorlagen 1 1 Namensaufruf 1 1 Derselbe ergiebt die Nichtbeschlußfähigkeit des Reichstags',\n",
       " 'Feststellung der Tagesordnung für die nächste Sitzung',\n",
       " '',\n",
       " '',\n",
       " '',\n",
       " 'r 2 3 3 3 4 4 Zweite Sitzung am Mittwoch den 23',\n",
       " 'Oktober 1889',\n",
       " 'Mittheilung über Verloosung der Wahlakten an die Abtheilungen Neu eingetretene Mitglieder Namensaufruf zur Wahl des Präsidenten',\n",
       " '1 Der Namensaufruf ergrebt die Nichtbeschlußfähigkeit des Reichstags',\n",
       " 'Feststellung der Tagesordnung für die nächste Sitzung',\n",
       " '',\n",
       " '',\n",
       " '',\n",
       " '5 5 5 5 Dritte Sitzung am Donnerstag den 24',\n",
       " 'Oktober 1889',\n",
       " 'Neu eingetretene Mitglieder 1',\n",
       " '',\n",
       " '',\n",
       " '',\n",
       " 'Neu eingegangene Vorlagen 1 1 1 Wahl der Präsidenten11 1 Annahmeerklärungen  1 1',\n",
       " '',\n",
       " 'Wahl der Schriftführer 1 1 Ernennung der Quästoren  Mittheilung betreffend die Entwürfe zum Nationaldenkmal Kaiser Wilhelms I',\n",
       " '1 1 1',\n",
       " '',\n",
       " '',\n",
       " '',\n",
       " '',\n",
       " '',\n",
       " 'Mittheilung des Präsidenten betreffend den Tod von Reichstagsabgeordneten 1 1 Beurlaubungen re',\n",
       " '',\n",
       " '',\n",
       " '',\n",
       " '',\n",
       " '1 1 1 Mittheilung betreffend Erlöschen eines Mandats',\n",
       " '',\n",
       " '',\n",
       " '',\n",
       " '',\n",
       " 'Verhandlung betreffend Wahl der Fachkommissionen',\n",
       " '',\n",
       " '',\n",
       " '',\n",
       " 'Feststellung der Tagesordnung für die nächste Sitzung',\n",
       " '',\n",
       " '',\n",
       " 'Berufung der Abtheilungen zu ihrer Konstituirung und zur Wahl der Fachkommissionen 7 7 7 7 8 8 9 9 9 10 10 10 Vierte Sitzung am Dienstag den 29',\n",
       " 'Oktober 1889',\n",
       " 'Mittheilung des Präsidenten betreffend die namens des Reichstags erfolgte Beglückwünschung zu den Hochzeitsfeierlichkeiten in Athen 1 11 Mittheilung eines Telegramms Ihrer Majestät der Kaiserin Friedrich',\n",
       " '',\n",
       " '',\n",
       " '',\n",
       " '',\n",
       " '',\n",
       " '',\n",
       " '',\n",
       " '',\n",
       " '',\n",
       " '',\n",
       " '',\n",
       " '',\n",
       " '',\n",
       " '',\n",
       " '',\n",
       " '',\n",
       " '1 II Mittheilung betreffend die Annahme der Wahl seitens des ersten Vizepräsidenten vr',\n",
       " 'Buhl',\n",
       " '',\n",
       " '',\n",
       " '',\n",
       " '',\n",
       " '',\n",
       " '',\n",
       " '',\n",
       " '',\n",
       " '',\n",
       " '',\n",
       " '111 11 12 12 12 12 13 Seite Neu eingetretene Mitglieder 11 Neu eingegangene Vorlagen',\n",
       " '111 Ein Schreiben des Abgeordneten vr',\n",
       " 'von Cuny betreffend die Anfrage wegen Erlöschens des Mandats wird der Geschäftsordnungskommission zur Berichterstattung überwiesen Schreiben des Abgeordneten von Gehren betreffend die stattgehabte Verleihung eines Titels Schreiben des Reichskanzlers betreffend die Berichte der Fabrik inspektoren 1 Beurlaubungen Anmeldung von Kommissaren des Bundesraths',\n",
       " '',\n",
       " '',\n",
       " 'Erste Berathung der Entwürfe a eines Gesetzes betreffend die Feststellung des Reichshaushallsetats für das Etatsjahr 189091 d 1 eines Gesetzes betreffend die Aufnahme einer Anleihe für Zwecke der Verwaltungen des Reichsheeres der Marine der Reichseisenbahnen und der Post und e 1 eine Gesetzes betreffend Aenderungen des Reichswilitärgesetzes vom 2',\n",
       " 'Mai 1874 Nr',\n",
       " '5 6 12 der Anlagen 1 1 13 Die Berathung wird abgebrochen und vertagt',\n",
       " 'Mittheilung eines Telegramms Semer Majestät des Kaisers aus Athen 1 1 1',\n",
       " '36 Feststellung der Tagesordnung für die nächste Sitzung',\n",
       " '',\n",
       " '',\n",
       " '136 Anderweite Berufung der Abtheilungen zur Wahl der Fachkommissionen 1 1',\n",
       " '136 Fünfte Sitzung am Mittwoch den 30',\n",
       " 'Oktober 1889',\n",
       " 'Schreiben des Reichskanzlers betreffend die Entwürfe für das Nationaldenkwal Kaiser Wilhelms I 1 37 Neu eingetretene Mitglieder',\n",
       " '',\n",
       " '1 1 1 37 Mittheilung betreffend Konstituirung der Abtheilungen',\n",
       " '',\n",
       " '',\n",
       " '137 Beurlaubungen',\n",
       " '1 1 1 1 38 Anmeldung von Kommissaren des Bundesraths 38 Antrag der Abgeordneten Letocha und Genossen betreffend die Einstellung der gegen das Mitglied des Reichstags Stötzel bei dem Königlichen Schöffengericht zu Essen resp',\n",
       " 'bei dem Reichsgericht zu Leipzig schwebenden Strafverfahren für die Dauer der Session Nr',\n",
       " '32 der Anlagen',\n",
       " '',\n",
       " '',\n",
       " '',\n",
       " '',\n",
       " '',\n",
       " '138 Fortsetzung der ersten Berathung der Entwürfe a eines Gesetzes betreffend die Feststellung des Reichshauöhaltsetats für das Etatsjahr 189091 d 1 eines Gesetzes betreffend die Aufnahme einer Anleihe für Zwecke der Verwaltungen des Reichsheeres der Marine der Reichseisenbahnen und der Post und Telegraphen e 1 eines Gesetzes betreffend Aenderungen des Reichswilitärgesetzes vom 2',\n",
       " 'Mai 1874 Nr',\n",
       " '5 6 12 der Anlagen 1 1 39 Die Berathung wird abermals abgebrochen und vertagt',\n",
       " 'Feststellung der Tagesordnung für die nächste Sitzung',\n",
       " '',\n",
       " '',\n",
       " '166 Sechste Sitzung am Donnerstag den 31',\n",
       " 'Oktober 1889',\n",
       " 'Neu eingetretene Mitglieder 1 67 Mittheilung über Wahl und Konstituirung von Kommissionen I Kommissionfür die Geschäftsordnung',\n",
       " '',\n",
       " '',\n",
       " '',\n",
       " '167 a IV Reichstag',\n",
       " '— Inhaltsverzeichnis II',\n",
       " 'Kommission — für die Petitionen',\n",
       " '',\n",
       " '',\n",
       " '',\n",
       " '',\n",
       " '',\n",
       " 'III',\n",
       " '1 Kommission — für den Reichshaushaltsetat',\n",
       " '',\n",
       " '',\n",
       " 'IV',\n",
       " '1 Kommission — für die Rechnungen über den Reichshaushalt 1 1 1',\n",
       " 'V Kommission — für die Wahlprüfungen',\n",
       " '',\n",
       " '',\n",
       " '',\n",
       " 'Beurlaubungen 1 1 Fortsetzung und Schluß der ersten Berathung der Entwürfe a eines Gesetzes betreffend die Feststellung des Reichshaushaltsetats für das Etatsjahr 189091 d 1 eines Gesetzes betreffend die Ausnahme einer Anleihe für Zwecke der Verwaltungen des Reichsheeres der Marine der Reichseisenbahnen und der Post und Telegraphen e 1 eines Gesetzes betreffend Aenderungen des Reichsmilitärgesetzes vom 2',\n",
       " 'Mai 1874 Nr',\n",
       " '5 6 12 der Anlagen 1 1 Erste Berathung der Uebersicht der Reichsausgaben und -Einnahmen für das Etatsjahr 188889 Nr',\n",
       " '9 der Anlagen Erste Berathung der allgemeinen Rechnung über den Reichshaushalt für das Etatsjahr 188485 Nr',\n",
       " '10 der Anlagen 1 1 Erste Berathung der allgemeinen Rechnung über den Reichshaushalt für das Etatsjahr 188586 Nr',\n",
       " '11 der Anlcmen 1 1 Feststellung der Tagesordnung für die nächste Sitzung',\n",
       " '',\n",
       " '',\n",
       " 'Austritt eines Mitgliedes aus der III',\n",
       " 'Budget- Kommission Seite 67 67 68 68 68 68 95 95 95 95 96 Siebente Sitzung am Montag den 4',\n",
       " 'November 1889',\n",
       " 'Neu eingetretene Mitglieder Mittheilung über eine Ersatzwahl zur Hl',\n",
       " 'Budget- Kommission',\n",
       " '1 1 1 Neu eingegangene Vorlagen 1',\n",
       " '1 1 Beurlaubungen entschuldigtes Mitglied Anmeldung von Kommissaren des Bundesraths Berathung der Darlegung der von der Königlich preußischen der Königlich sächsischen der Großherzoglrch hessischen Regierung und der Regierung der freien und Hansestadt Hamburg auf Grund des Gesetzes vom 21',\n",
       " 'Oktober 1878 gegen dre gemeingefährlichen Bestrebungen der Sozialdemokratie getroffenen Anordnungen Nr',\n",
       " '35 der Anlagen Feststellung der Tagesordnung für die nächste Sitzung',\n",
       " '',\n",
       " '',\n",
       " 'Berichtigungen zum stenographischen Bericht der 4 und 6',\n",
       " 'Sitzung',\n",
       " '1 1 9',\n",
       " '97 97 97 97 97 116 116 Achte Sitzung am Dienstag den 5',\n",
       " 'November 1889',\n",
       " 'Neu eingetretene Miglieder 117 Schreiben des Stellvertreters des Reichskanzlers betreffend Sistirung von Strafverfahren gegen ein Mitglied des Reichstags',\n",
       " '',\n",
       " '',\n",
       " '1 117 Ein Schreiben des Abgeordneten Dr Bürklin wird bezüglich der Frage der Fortdauer des Mandats an die Geschäftsordnungskomwisston zur Berichterstattung verwiesen',\n",
       " '',\n",
       " '1117 Beurlaubungen 117 Erste Berathung des Entwurfs eines Gesetzes betreffend die Abänderung des Gesetzes gegen die gemeingefährlichen Bestrebungen der Sozialdemokratie vom 21',\n",
       " 'Oktober 1878 Nr',\n",
       " '36 der Anlagen 1 1 117 Die Berathung wird abgebrochen und vertagt',\n",
       " 'Feststellung der Tagesordnung für die nächste Sitzung']"
      ]
     },
     "execution_count": 239,
     "metadata": {},
     "output_type": "execute_result"
    }
   ],
   "source": [
    "all_protocols[0].text[:200]"
   ]
  },
  {
   "cell_type": "code",
   "execution_count": null,
   "metadata": {},
   "outputs": [],
   "source": [
    "# Approach new\n",
    " text = open(os.path.join(tpath, self.input),'r', encoding='utf-8').readlines()\n",
    " text = remove_punctuation(text)\n",
    " text = remove_double_spaces(text)\n",
    " text = remove_noisy_digits(text)\n",
    "#  text = replace_digits(text)\n",
    "#  text = remove_double_spaces(text)\n",
    "#  text = reduce_numerical_sequences(text)\n",
    " text = remove_dash_and_minus_signs(text)\n",
    "#  text = filter_lines(text)\n",
    "#  text = [removeGermanChainWords(line) for line in text]\n",
    " logging.info('Chainword splitting finished')\n",
    "#  text = [remove_hyphens_pre_and_appending(line) for line in text]\n",
    " text = [lemmatizer.lemmatize(line) for line in text]\n",
    " logging.info('Lemmatizing finished')\n",
    " text = [lowercase(line) for line in text]\n",
    " text = [removeUmlauts(line) for line in text]\n",
    " text = [harmonizeSpelling(line) for line in text_preprocessing]\n",
    " save_as_line_sentence(text, f'{self.input[:-4]}_processed')\n",
    " logging.info('Processing finished')"
   ]
  },
  {
   "cell_type": "markdown",
   "metadata": {},
   "source": [
    "#### Find end patterns"
   ]
  },
  {
   "cell_type": "code",
   "execution_count": 13,
   "metadata": {},
   "outputs": [],
   "source": [
    "# Check if \"Meine Damen und Herren\" and \"Schluss der Sitzung\" are good markers for session ends and endings\n",
    "ends = 0\n",
    "i = 0\n",
    "for p in period_18.proceedings:\n",
    "    sitzung_end = False\n",
    "    for line in p:\n",
    "        m = re.search(end_patterns, line, re.IGNORECASE)\n",
    "        if m:\n",
    "            ends += 1\n",
    "#             print(m)\n",
    "            sitzung_end = True\n",
    "            break\n",
    "    if not sitzung_end:\n",
    "        print(i)\n",
    "    i += 1"
   ]
  },
  {
   "cell_type": "code",
   "execution_count": 14,
   "metadata": {},
   "outputs": [
    {
     "data": {
      "text/plain": [
       "245"
      ]
     },
     "execution_count": 14,
     "metadata": {},
     "output_type": "execute_result"
    }
   ],
   "source": [
    "ends"
   ]
  },
  {
   "cell_type": "markdown",
   "metadata": {},
   "source": [
    "#### Find start patterns"
   ]
  },
  {
   "cell_type": "code",
   "execution_count": 26,
   "metadata": {},
   "outputs": [
    {
     "name": "stdout",
     "output_type": "stream",
     "text": [
      "134\n",
      "212\n",
      "215\n",
      "222\n"
     ]
    }
   ],
   "source": [
    "# Check if \"Meine Damen und Herren\" and \"Schluss der Sitzung\" are good markers for session starts and endings\n",
    "starts = 0\n",
    "i = 0\n",
    "for p in period_18.proceedings:\n",
    "    sitzung_start = False\n",
    "    for line in p:\n",
    "        m = re.search(start_patterns, line, re.IGNORECASE)\n",
    "        if m:\n",
    "            starts += 1\n",
    "            sitzung_start = True\n",
    "            break\n",
    "    if not sitzung_start:\n",
    "        print(i)\n",
    "    i += 1"
   ]
  },
  {
   "cell_type": "code",
   "execution_count": 18,
   "metadata": {},
   "outputs": [
    {
     "data": {
      "text/plain": [
       "241"
      ]
     },
     "execution_count": 18,
     "metadata": {},
     "output_type": "execute_result"
    },
    {
     "data": {
      "text/plain": [
       "245"
      ]
     },
     "execution_count": 18,
     "metadata": {},
     "output_type": "execute_result"
    }
   ],
   "source": [
    "starts\n",
    "ends"
   ]
  },
  {
   "cell_type": "code",
   "execution_count": 22,
   "metadata": {},
   "outputs": [
    {
     "name": "stdout",
     "output_type": "stream",
     "text": [
      "134: no start\n",
      "212: no start\n",
      "215: no start\n",
      "222: no start\n"
     ]
    }
   ],
   "source": [
    "starts = 0\n",
    "ends = 0\n",
    "i = 0\n",
    "prots_von_anfang = [extract_protocol_new_new(doc) for doc in period_18\n",
    "                    .proceedings]"
   ]
  },
  {
   "cell_type": "markdown",
   "metadata": {},
   "source": [
    "##### Removing abbreviations "
   ]
  },
  {
   "cell_type": "markdown",
   "metadata": {},
   "source": [
    "Stand der Protokolle: German chainwords removed ja, abbreviations removed nein, spelling correction nein"
   ]
  },
  {
   "cell_type": "code",
   "execution_count": 317,
   "metadata": {},
   "outputs": [],
   "source": [
    "prots_new = [extract_protocol_new(doc) for doc in period_14.proceedings]"
   ]
  },
  {
   "cell_type": "markdown",
   "metadata": {},
   "source": [
    "### Reichstag Proceedings"
   ]
  },
  {
   "cell_type": "code",
   "execution_count": null,
   "metadata": {},
   "outputs": [],
   "source": [
    "def save_protocols(p,number):\n",
    "    with open('obj/protocols_{}.pkl'.format(number), 'wb') as f:\n",
    "            pickle.dump(p.text, f, pickle.HIGHEST_PROTOCOL)"
   ]
  },
  {
   "cell_type": "code",
   "execution_count": 44,
   "metadata": {},
   "outputs": [],
   "source": [
    "save_protocols(protocols_1,1)\n",
    "save_protocols(protocols_2,2)\n",
    "save_protocols(protocols_3,3)\n",
    "save_protocols(protocols_4,4)"
   ]
  },
  {
   "cell_type": "markdown",
   "metadata": {},
   "source": [
    "## Extract the minutes/protocols from the Reichstag sessions"
   ]
  },
  {
   "cell_type": "code",
   "execution_count": 3,
   "metadata": {},
   "outputs": [],
   "source": [
    "protocols_1 = load_corpus('protocols_1.pkl')\n",
    "protocols_2 = load_corpus('protocols_2.pkl')\n",
    "protocols_3 = load_corpus('protocols_3.pkl')\n",
    "protocols_4 = load_corpus('protocols_4.pkl')"
   ]
  },
  {
   "cell_type": "markdown",
   "metadata": {},
   "source": [
    "### Some experimentation on extraction methods"
   ]
  },
  {
   "cell_type": "code",
   "execution_count": 13,
   "metadata": {},
   "outputs": [],
   "source": [
    "# Chop whole corpus into documents by searching for keywords 'Die Sitzung ist eröffnet' and 'Schluss der Sitzung' ob\n",
    "# Save one document per meeting\n",
    "def extract_meeting_protocols_linebyline(docs):\n",
    "    \n",
    "    if not os.path.exists('protocols_1_test2'):\n",
    "        os.makedirs('./protocols_1_test2')\n",
    "    matches = list(re.finditer(r'\\d+ Sitzung (?:am )?(?:Montag |Dienstag |Mittwoch |Donnerstag |Freitag |Sonnabend |Sonntag )(?:den )(\\d+ (?:Januar|Februar|März|April|Mai|Juni|Juli|August|September|Oktober|November|Dezember) \\d{4})', \n",
    "          docs, flags=re.IGNORECASE))\n",
    "    \n",
    "#     start_index = matches[0].start()\n",
    "#     sitzung_end = re.search(r'(?:Schluß|Sckluß) der Sitzung (?:um\\s)?\\d+ Uhr', docs[start_index:],re.IGNORECASE)\n",
    "    \n",
    "    i=0\n",
    "    for j in range(0,len(matches)-1):                               \n",
    "        if (j>0 and matches[j][0] == matches[j-1][0]):\n",
    "            continue\n",
    "        else:\n",
    "            start_index = matches[j].start()\n",
    "            print(start_index)\n",
    "            sitzung_end = re.search(r'(?:Schluß|Sckluß) der Sitzung (?:um\\s)?\\d+ Uhr', docs[start_index:],re.IGNORECASE)\n",
    "            print(sitzung_end)\n",
    "            end_index = sitzung_end.end()\n",
    "            print(end_index)\n",
    "            temp_doc = open('./protocols_1_test2/doc_{}.txt'.format(i), 'w',  encoding='utf-8')\n",
    "            temp_doc.write(docs[start_index:end_index])\n",
    "#             start_index = matches[j+1].start()\n",
    "            i+=1\n",
    "        \n",
    "    temp_doc.close()\n",
    "    print('Screening done!')"
   ]
  },
  {
   "cell_type": "code",
   "execution_count": 106,
   "metadata": {},
   "outputs": [],
   "source": [
    "def extract_session_recursive(docs, number):\n",
    "    match = re.search(r'\\d+ Sitzung (am )?(?:Montag|Dienstag|Mittwoch|Donnerstag|Freitag|Sonnabend|Sonntag) den \\d+ (?:Januar|Februar|März|April|Mai|Juni|Juli|August|September|Oktober|November|Dezember) \\d{4}',\n",
    "                    docs,flags=re.IGNORECASE)\n",
    "    matches = re.findall(r'\\d+ Sitzung (am )?(?:Montag|Dienstag|Mittwoch|Donnerstag|Freitag|Sonnabend|Sonntag) den \\d+ (?:Januar|Februar|März|April|Mai|Juni|Juli|August|September|Oktober|November|Dezember) \\d{4}',\n",
    "                    docs,flags=re.IGNORECASE)\n",
    "    \n",
    "    for m in matches:\n",
    "    if match:\n",
    "        start_index = match.end()\n",
    "        sitzung_end = re.search(r'(?:Schluß|Sckluß) der Sitzung (?:um\\s)?\\d+ Uhr', docs[start_index:],re.IGNORECASE)\n",
    "        if sitzung_end:\n",
    "            end_index = sitzung_end.end()\n",
    "            temp_doc = open('./protocols_1_test_rec/doc_{}.txt'.format(number), 'w',  encoding='utf-8')\n",
    "            temp_doc.write(docs[start_index:end_index])\n",
    "            temp_doc.close()\n",
    "            extract_session_recursive(docs[end_index:], number+1)\n",
    "        else:\n",
    "            print('Not able to find the end of the session.')\n",
    "    else:    \n",
    "        print('No more sessions found!')"
   ]
  },
  {
   "cell_type": "code",
   "execution_count": 88,
   "metadata": {},
   "outputs": [],
   "source": [
    "with open('C:/Users/Tobias/Documents/Uni Mannheim/Master Thesis/notebooks/protocols_adapted_3_3/doc_22_2.txt') as f:\n",
    "    f.close()"
   ]
  },
  {
   "cell_type": "code",
   "execution_count": null,
   "metadata": {},
   "outputs": [],
   "source": [
    "lines = 'what up bitches do not even think you deserve of me'.split()"
   ]
  },
  {
   "cell_type": "code",
   "execution_count": 221,
   "metadata": {},
   "outputs": [],
   "source": [
    "# Chop whole corpus into documents by searching for keywords 'Die Sitzung ist eröffnet' and 'Schluss der Sitzung' ob\n",
    "# Save one document per meeting\n",
    "doc_num = 0\n",
    "def extract_meeting_protocols_recursive(lines,number):\n",
    "#     sitzung = False\n",
    "    global doc_num\n",
    "    if not os.path.exists('./protocols_recursive_{}'.format(number)):\n",
    "        os.makedirs('./protocols_recursive_{}'.format(number))\n",
    "    temp_doc = None\n",
    "    \n",
    "#     if number <= 3:                 \n",
    "\n",
    "#         start_pattern = re.compile(r'Die Sitzung ist eröffnet',re.IGNORECASE)\n",
    "#     else:\n",
    "#         start_pattern = re.compile(r'Die Sitzung wird um \\d+ Uhr(?:\\s\\d+ Minute)?n?(?:\\sabends)? durch den Präsidenten eröffnet',\n",
    "#                                   re.IGNORECASE)\n",
    "\n",
    "    for i in range(len(lines)):\n",
    "        sitzung_restart = restart_pattern.search(lines[i])\n",
    "        sitzung_start = start_pattern.search(lines[i])\n",
    "        \n",
    "        if sitzung_restart:\n",
    "#             sitzung = True\n",
    "            temp_doc = open('./protocols_recursive_{}/doc_{}.txt'.format(number,doc_num), 'a',  encoding='utf-8')\n",
    "            temp_doc.write(lines[i])\n",
    "            temp_doc.write('\\n')\n",
    "            for j in range(len(lines[i:])):\n",
    "                temp_doc.write(lines[i:][j])\n",
    "                temp_doc.write('\\n')\n",
    "                sitzung_end = end_pattern.search(lines[i:][j])\n",
    "                sitzung_abgebrochen = re.search(r'Die Sitzung wird um \\d+ Uhr (?:\\d+ Minute)?n? abgebrochen', lines[i:][j],\n",
    "                                   re.IGNORECASE) \n",
    "                if sitzung_end or sitzung_abgebrochen:\n",
    "    #             temp_doc.write(sitzung_start[0] + '\\n')\n",
    "#                 sitzung = False\n",
    "                    border = i + j +1\n",
    "                    extract_meeting_protocols_recursive(lines[border:],number)\n",
    "        \n",
    "        if sitzung_start:\n",
    "            doc_num += 1\n",
    "#             sitzung = True\n",
    "            print(doc_num)\n",
    "            temp_doc = open('./protocols_recursive_{}/doc_{}_2.txt'.format(number,doc_num), 'w',  encoding='utf-8')\n",
    "            for j in range(len(lines[i:])):\n",
    "                temp_doc.write(lines[i:][j])\n",
    "                temp_doc.write('\\n')\n",
    "                sitzung_end = end_pattern.search(lines[i:][j])\n",
    "                sitzung_abgebrochen = re.search(r'Die Sitzung wird um \\d+ Uhr (?:\\d+ Minute)?n? abgebrochen', lines[i:][j],\n",
    "                                   re.IGNORECASE) \n",
    "                if sitzung_end or sitzung_abgebrochen:\n",
    "    #             temp_doc.write(sitzung_start[0] + '\\n')\n",
    "#                 sitzung = False\n",
    "#                     temp_doc.close()\n",
    "                    border = i + j +1\n",
    "                    extract_meeting_protocols_recursive(lines[border:],number)\n",
    "    \n",
    "#     temp_doc.close()\n",
    "        "
   ]
  },
  {
   "cell_type": "code",
   "execution_count": 222,
   "metadata": {},
   "outputs": [
    {
     "ename": "KeyboardInterrupt",
     "evalue": "",
     "output_type": "error",
     "traceback": [
      "\u001b[1;31m---------------------------------------------------------------------------\u001b[0m",
      "\u001b[1;31mKeyboardInterrupt\u001b[0m                         Traceback (most recent call last)",
      "\u001b[1;32m<ipython-input-222-4bf71335d0a6>\u001b[0m in \u001b[0;36m<module>\u001b[1;34m\u001b[0m\n\u001b[1;32m----> 1\u001b[1;33m \u001b[0mextract_meeting_protocols_recursive\u001b[0m\u001b[1;33m(\u001b[0m\u001b[0mprotocols_4\u001b[0m\u001b[1;33m,\u001b[0m\u001b[1;36m4\u001b[0m\u001b[1;33m)\u001b[0m\u001b[1;33m\u001b[0m\u001b[1;33m\u001b[0m\u001b[0m\n\u001b[0m",
      "\u001b[1;32m<ipython-input-221-9328b5ca5075>\u001b[0m in \u001b[0;36mextract_meeting_protocols_recursive\u001b[1;34m(lines, number)\u001b[0m\n\u001b[0;32m     28\u001b[0m                 \u001b[0mtemp_doc\u001b[0m\u001b[1;33m.\u001b[0m\u001b[0mwrite\u001b[0m\u001b[1;33m(\u001b[0m\u001b[0mlines\u001b[0m\u001b[1;33m[\u001b[0m\u001b[0mi\u001b[0m\u001b[1;33m:\u001b[0m\u001b[1;33m]\u001b[0m\u001b[1;33m[\u001b[0m\u001b[0mj\u001b[0m\u001b[1;33m]\u001b[0m\u001b[1;33m)\u001b[0m\u001b[1;33m\u001b[0m\u001b[1;33m\u001b[0m\u001b[0m\n\u001b[0;32m     29\u001b[0m                 \u001b[0mtemp_doc\u001b[0m\u001b[1;33m.\u001b[0m\u001b[0mwrite\u001b[0m\u001b[1;33m(\u001b[0m\u001b[1;34m'\\n'\u001b[0m\u001b[1;33m)\u001b[0m\u001b[1;33m\u001b[0m\u001b[1;33m\u001b[0m\u001b[0m\n\u001b[1;32m---> 30\u001b[1;33m                 \u001b[0msitzung_end\u001b[0m \u001b[1;33m=\u001b[0m \u001b[0mend_pattern\u001b[0m\u001b[1;33m.\u001b[0m\u001b[0msearch\u001b[0m\u001b[1;33m(\u001b[0m\u001b[0mlines\u001b[0m\u001b[1;33m[\u001b[0m\u001b[0mi\u001b[0m\u001b[1;33m:\u001b[0m\u001b[1;33m]\u001b[0m\u001b[1;33m[\u001b[0m\u001b[0mj\u001b[0m\u001b[1;33m]\u001b[0m\u001b[1;33m)\u001b[0m\u001b[1;33m\u001b[0m\u001b[1;33m\u001b[0m\u001b[0m\n\u001b[0m\u001b[0;32m     31\u001b[0m                 sitzung_abgebrochen = re.search(r'Die Sitzung wird um \\d+ Uhr (?:\\d+ Minute)?n? abgebrochen', lines[i:][j],\n\u001b[0;32m     32\u001b[0m                                    re.IGNORECASE) \n",
      "\u001b[1;31mKeyboardInterrupt\u001b[0m: "
     ]
    }
   ],
   "source": [
    "extract_meeting_protocols_recursive(protocols_4,4)"
   ]
  },
  {
   "cell_type": "markdown",
   "metadata": {},
   "source": [
    "## The actual processing of the lines"
   ]
  },
  {
   "cell_type": "code",
   "execution_count": 4,
   "metadata": {},
   "outputs": [],
   "source": [
    "start_patterns_reichstag = '|'.join(\n",
    "                ['(Z|I)ch eröffne die (\\d+ |erste )?(\\n )?Sitzung',\n",
    "                 'Di(e|s) (\\d+ |erste )?(\\n )?Sitzung (\\n )?ist (\\n )?erö(f|s)(f|s)net',\n",
    "                 'Die Sitzung-ist eröffnet',\n",
    "                 'eröffne ich (hiermit )?die Sitzung',\n",
    "                 'Ich eröffne die \\d+$',\n",
    "                 '(Z|I)ch erkläre die (\\d+ |erste )?Sitzung für eröffnet']\n",
    "                        )\n",
    "\n",
    "restart_patterns_reichstag = '|'.join(\n",
    "                ['Die (\\n )?Sitzung (\\n )?ist wieder (\\n )?eröffnet',\n",
    "                 'Ich eröffne die Sitzung wieder',\n",
    "                 'Ich eröffne die Sitzung von neuem',\n",
    "                 'Ich eröffne die Sitzung noch einmal'\n",
    "                ])\n",
    "                        \n",
    "end_patterns_reichstag = '|'.join(\n",
    "                ['(Schluß|Schluss|Sckluß) der Sitzung (um )?\\d+ Uhr',\n",
    "                 'Die Sitzung ist geschlossen',\n",
    "                 'Die Sitzung ist geschloffen',\n",
    "                 'Ich schließe die (\\n )?Sitzung'\n",
    "                    ])"
   ]
  },
  {
   "cell_type": "code",
   "execution_count": 5,
   "metadata": {},
   "outputs": [],
   "source": [
    "# Use whatever comes first as start of the session protocol\n",
    "start_pattern_reichstag = re.compile(f\"({start_patterns_reichstag})\", re.IGNORECASE)\n",
    "restart_pattern_reichstag = re.compile(f\"({restart_patterns_reichstag})\", re.IGNORECASE)\n",
    "end_pattern_reichstag = re.compile(f\"({end_patterns_reichstag})\", re.IGNORECASE)"
   ]
  },
  {
   "cell_type": "code",
   "execution_count": 6,
   "metadata": {},
   "outputs": [],
   "source": [
    "# Chop whole corpus into documents by searching for keywords 'Die Sitzung ist eröffnet' and 'Schluss der Sitzung' ob\n",
    "# Save one document per meeting\n",
    "def extract_meeting_protocols_reichstag(lines,number):\n",
    "    i = 0\n",
    "    sitzung = False\n",
    "    \n",
    "    if not os.path.exists('./protocols_{}'.format(number)):\n",
    "        os.makedirs('./protocols_{}'.format(number))\n",
    "    temp_doc = None\n",
    "    \n",
    "    if number > 3:                 \n",
    "        start_pattern_reichstag = re.compile(r'Die Sitzung wird um \\d+ Uhr(?:\\s\\d+ Minute)?n?(?:\\sabends)? durch den Präsidenten eröffnet',\n",
    "                                  re.IGNORECASE)\n",
    "    else:\n",
    "        start_pattern_reichstag = re.compile(f\"({start_patterns_reichstag})\", re.IGNORECASE)\n",
    "        \n",
    "    restart_pattern_reichstag = re.compile(f\"({restart_patterns_reichstag})\", re.IGNORECASE)\n",
    "    end_pattern_reichstag = re.compile(f\"({end_patterns_reichstag})\", re.IGNORECASE)\n",
    "    for line in lines:\n",
    "        sitzung_restart = restart_pattern_reichstag.search(line)\n",
    "        sitzung_start = start_pattern_reichstag.search(line)\n",
    "        sitzung_end = end_pattern_reichstag.search(line)\n",
    "        sitzung_abgebrochen = re.search(r'Die Sitzung wird um \\d+ Uhr (?:\\d+ Minute)?n? abgebrochen', line,\n",
    "                               re.IGNORECASE)\n",
    "        \n",
    "        if sitzung_restart:\n",
    "            sitzung = True\n",
    "            temp_doc.write(line)\n",
    "            temp_doc.write('\\n')\n",
    "            continue\n",
    "        if sitzung_start:\n",
    "            i += 1\n",
    "            if i % 100 == 0:\n",
    "                logging.info(f'{i} documents extracted')\n",
    "            \n",
    "            sitzung = True\n",
    "            temp_doc = open('./protocols_{}/doc_{}.txt'.format(number,i), 'w',  encoding='utf-8')\n",
    "            temp_doc.write(line)\n",
    "            temp_doc.write('\\n')\n",
    "            continue\n",
    "        if sitzung_end or sitzung_abgebrochen:\n",
    "            if temp_doc is not None:\n",
    "                temp_doc.write(line)\n",
    "                temp_doc.write('\\n')\n",
    "                sitzung = False\n",
    "                continue\n",
    "\n",
    "        if sitzung:\n",
    "            if len(line) > 1:\n",
    "                temp_doc.write(line)   \n",
    "                temp_doc.write('\\n')\n",
    "    \n",
    "    logging.info('Screening done!')\n",
    "    logging.info(f'{i} documents extracted in total.')\n",
    "    temp_doc.close()"
   ]
  },
  {
   "cell_type": "markdown",
   "metadata": {},
   "source": [
    "Special regex for the protocols in 1942.corr.seg:\n",
    "\n",
    "- Die Sitzung wird um 0 Uhr(?:\\s0 Minuten){0,1}(?:\\sabends){0,1} durch den Präsidenten eröffnet'"
   ]
  },
  {
   "cell_type": "markdown",
   "metadata": {},
   "source": [
    "Weitere Alternativen, um noch mehr Protokolle zu finden:\n",
    "\n",
    "1895:\n",
    "\n",
    "- Ich erkläre die Sitzung für eröffnet\n",
    "- Der Alterspräsident XY eröffnet die Sitzung um X Uhr Y Minuten\n",
    "- Der Präsident XY eröffnet die Sitzung um X Uhr Y Minuten (Aktiv)\n",
    "- Die Sitzung wird um X Uhr Y Minuten durch den Präsidenten XY eröffnet.\n",
    "\n",
    "Der Aufwand ist extrem hoch für die größeren Corpora, deshalb erstmal hinten anstellen und bei alter Exraxction method für corpora 1-3 bleiben"
   ]
  },
  {
   "cell_type": "code",
   "execution_count": 55,
   "metadata": {},
   "outputs": [
    {
     "name": "stdout",
     "output_type": "stream",
     "text": [
      "Anzahl eröffnet: 77\n",
      "Anzahl geschlossen: 3269\n"
     ]
    }
   ],
   "source": [
    "print('Anzahl eröffnet: {}'.format(len(eröffnete_sitzungen_1)))\n",
    "print('Anzahl geschlossen: {}'.format(len(geschlossene_sitzungen_1)))"
   ]
  },
  {
   "cell_type": "code",
   "execution_count": 56,
   "metadata": {},
   "outputs": [
    {
     "name": "stdout",
     "output_type": "stream",
     "text": [
      "Anzahl eröffnet: 45\n",
      "Anzahl geschlossen: 4635\n"
     ]
    }
   ],
   "source": [
    "print('Anzahl eröffnet: {}'.format(len(eröffnete_sitzungen_2)))\n",
    "print('Anzahl geschlossen: {}'.format(len(geschlossene_sitzungen_2)))"
   ]
  },
  {
   "cell_type": "code",
   "execution_count": 57,
   "metadata": {},
   "outputs": [
    {
     "name": "stdout",
     "output_type": "stream",
     "text": [
      "Anzahl eröffnet: 93\n",
      "Anzahl geschlossen: 2794\n"
     ]
    }
   ],
   "source": [
    "print('Anzahl eröffnet: {}'.format(len(eröffnete_sitzungen_3)))\n",
    "print('Anzahl geschlossen: {}'.format(len(geschlossene_sitzungen_3)))"
   ]
  },
  {
   "cell_type": "code",
   "execution_count": 58,
   "metadata": {},
   "outputs": [
    {
     "name": "stdout",
     "output_type": "stream",
     "text": [
      "Anzahl eröffnet: 5\n",
      "Anzahl geschlossen: 32\n"
     ]
    }
   ],
   "source": [
    "print('Anzahl eröffnet: {}'.format(len(eröffnete_sitzungen_4)))\n",
    "print('Anzahl geschlossen: {}'.format(len(geschlossene_sitzungen_4)))"
   ]
  },
  {
   "cell_type": "code",
   "execution_count": 154,
   "metadata": {},
   "outputs": [
    {
     "data": {
      "text/plain": [
       "<_sre.SRE_Match object; span=(0, 52), match='Die Sitzung wird um 3 Uhr 17 Minuten durch den Pr>"
      ]
     },
     "execution_count": 154,
     "metadata": {},
     "output_type": "execute_result"
    }
   ],
   "source": [
    "re.search(r'Die Sitzung wird um \\d+ Uhr( \\d+ Minute)?n?( abends)? durch den Präsi',\n",
    "          'Die Sitzung wird um 3 Uhr 17 Minuten durch den Präsi')"
   ]
  },
  {
   "cell_type": "code",
   "execution_count": 143,
   "metadata": {},
   "outputs": [
    {
     "data": {
      "text/plain": [
       "85"
      ]
     },
     "execution_count": 143,
     "metadata": {},
     "output_type": "execute_result"
    }
   ],
   "source": [
    "len('Die Sitzung wird um \\d+ Uhr( \\d+ Minute)?n?( abends)? durch den Praesidenten eröffnet')"
   ]
  },
  {
   "cell_type": "code",
   "execution_count": 176,
   "metadata": {},
   "outputs": [
    {
     "name": "stdout",
     "output_type": "stream",
     "text": [
      "1\n"
     ]
    }
   ],
   "source": [
    "#abgebrochene Sitzungen\n",
    "abgebrochen = [r'i' for line in protocols_3 if re.findall(r'Die Sitzung wird um \\d+ Uhr \\d+ Minuten abgebrochen', line)]\n",
    "print(len(abgebrochen))"
   ]
  },
  {
   "cell_type": "code",
   "execution_count": null,
   "metadata": {},
   "outputs": [],
   "source": [
    "re.search('Die Sitzung wird um \\d+ Uhr( d+ Minute)?n?( abends)? durch den Präsidenten ([\\wäöü\\WÄÖÜ\\s]*)eröffnet',\n",
    "          'Die Sitzung wird um 3 Uhr 17 Minuten durch den Präsidenten Löbe eröffnet Präsident')"
   ]
  },
  {
   "cell_type": "code",
   "execution_count": 156,
   "metadata": {},
   "outputs": [],
   "source": [
    "anzahl_sitzungen = {}\n",
    "start_patterns = ['(Z|I)ch eröffne die (\\d+ |erste )?(\\n )?Sitzung',\n",
    "#                     'Di(e|s) (\\d+ |erste )?(\\n )?Sitzung (\\n )?ist (\\n )?erö(f|s)(f|s)net',\n",
    "#                     'Die Sitzung-ist eröffnet',\n",
    "#                     'eröffne ich die (erste )?Sitzung',\n",
    "#                     'Ich erkläre die (\\d+ |erste )?Sitzung für eröffnet',\n",
    "                    'Ich eröffne die \\d+$',\n",
    "                    'Die Sitzung wird um \\d+ Uhr( \\d+ Minute)?n?( abends)? durch den Präsidenten eröffnet'\n",
    "                    ]\n",
    "# end_patterns = ['(Schluß|Schluss|Sckluß)( der Sitzung)? (um )?\\d+ Uhr',\n",
    "#                 '(Schluß|Schluss|Sckluß) der Sitzung (um )?\\d+ Uhr',\n",
    "#                 '(Schluß|Schluss|Sckluß)( der Sitzung)? \\d+ Uhr'\n",
    "#                ]\n",
    "                            \n",
    "for pattern in start_patterns:\n",
    "    anzahl_sitzungen[pattern] = {}\n",
    "    # Use whatever comes first as start of the session protocol\n",
    "    start_pattern = re.compile(f\"({pattern})\", re.IGNORECASE)\n",
    "\n",
    "    # How many times were both expressions found?\n",
    "    eröffnete_sitzungen_1 = ['i' for line in protocols_1 if re.findall(start_pattern, line)]\n",
    "    anzahl_sitzungen[pattern][1] = len(eröffnete_sitzungen_1)\n",
    "    # geschlossene_sitzungen_1 = [r'i' for line in protocols_1 if re.findall(end_patterns, line)]\n",
    "\n",
    "    # How many times were both expressions found?\n",
    "    eröffnete_sitzungen_2 = ['i' for line in protocols_2 if re.findall(start_pattern, line)]\n",
    "    anzahl_sitzungen[pattern][2] = len(eröffnete_sitzungen_2)\n",
    "    # geschlossene_sitzungen_2 = [r'i' for line in protocols_2 if re.findall(end_pattern, line)]\n",
    "\n",
    "    eröffnete_sitzungen_3 = ['i' for line in protocols_3 if re.findall(start_pattern, line)]\n",
    "    # geschlossene_sitzungen_3 = [r'i' for line in protocols_3 if re.findall(end_pattern, line)]\n",
    "    anzahl_sitzungen[pattern][3] = len(eröffnete_sitzungen_3)\n",
    "\n",
    "    eröffnete_sitzungen_4 = ['i' for line in protocols_4 if re.findall(start_pattern, line)]\n",
    "    # geschlossene_sitzungen_4 = [r'i' for line in protocols_4 if re.findall(end_pattern, line)]\n",
    "    anzahl_sitzungen[pattern][4] = len(eröffnete_sitzungen_4)\n",
    "\n",
    "# for pattern in end_patterns:\n",
    "#     anzahl_sitzungen[pattern] = {}\n",
    "#     # Use whatever comes first as start of the session protocol\n",
    "#     end_pattern = re.compile(f\"({pattern})\", re.IGNORECASE)\n",
    "\n",
    "#     # How many times were both expressions found?\n",
    "#     eröffnete_sitzungen_1 = ['i' for line in protocols_1 if re.findall(end_pattern, line)]\n",
    "#     anzahl_sitzungen[pattern][1] = len(eröffnete_sitzungen_1)\n",
    "#     # geschlossene_sitzungen_1 = [r'i' for line in protocols_1 if re.findall(end_patterns, line)]\n",
    "\n",
    "#     # How many times were both expressions found?\n",
    "#     eröffnete_sitzungen_2 = ['i' for line in protocols_2 if re.findall(end_pattern, line)]\n",
    "#     anzahl_sitzungen[pattern][2] = len(eröffnete_sitzungen_2)\n",
    "#     # geschlossene_sitzungen_2 = [r'i' for line in protocols_2 if re.findall(end_pattern, line)]\n",
    "\n",
    "#     eröffnete_sitzungen_3 = ['i' for line in protocols_3 if re.findall(end_pattern, line)]\n",
    "#     # geschlossene_sitzungen_3 = [r'i' for line in protocols_3 if re.findall(end_pattern, line)]\n",
    "#     anzahl_sitzungen[pattern][3] = len(eröffnete_sitzungen_3)\n",
    "\n",
    "#     eröffnete_sitzungen_4 = ['i' for line in protocols_4 if re.findall(end_pattern, line)]\n",
    "#     # geschlossene_sitzungen_4 = [r'i' for line in protocols_4 if re.findall(end_pattern, line)]\n",
    "#     anzahl_sitzungen[pattern][4] = len(eröffnete_sitzungen_4)"
   ]
  },
  {
   "cell_type": "code",
   "execution_count": 175,
   "metadata": {},
   "outputs": [
    {
     "data": {
      "text/plain": [
       "{'(Z|I)ch eröffne die (\\\\d+ |erste )?(\\n )?Sitzung': {1: 103,\n",
       "  2: 46,\n",
       "  3: 43,\n",
       "  4: 1},\n",
       " 'Ich eröffne die \\\\d+$': {1: 1, 2: 12, 3: 1, 4: 0}}"
      ]
     },
     "execution_count": 175,
     "metadata": {},
     "output_type": "execute_result"
    }
   ],
   "source": [
    "anzahl_sitzungen"
   ]
  },
  {
   "cell_type": "code",
   "execution_count": null,
   "metadata": {},
   "outputs": [],
   "source": [
    "for i in range(len(all_protocols)):\n",
    "    extract_meeting_protocols_reichstag(all_protocols[i],i+1)"
   ]
  },
  {
   "cell_type": "code",
   "execution_count": 7,
   "metadata": {},
   "outputs": [
    {
     "name": "stderr",
     "output_type": "stream",
     "text": [
      "2020-05-29 15:16:16,346 :: INFO :: 100 documents extracted\n",
      "2020-05-29 15:16:33,169 :: INFO :: 200 documents extracted\n",
      "2020-05-29 15:16:55,460 :: INFO :: 300 documents extracted\n",
      "2020-05-29 15:17:14,418 :: INFO :: 400 documents extracted\n",
      "2020-05-29 15:17:30,311 :: INFO :: 500 documents extracted\n",
      "2020-05-29 15:17:42,834 :: INFO :: 600 documents extracted\n",
      "2020-05-29 15:18:04,972 :: INFO :: 700 documents extracted\n",
      "2020-05-29 15:18:19,066 :: INFO :: 800 documents extracted\n",
      "2020-05-29 15:18:37,799 :: INFO :: 900 documents extracted\n",
      "2020-05-29 15:18:53,810 :: INFO :: 1000 documents extracted\n",
      "2020-05-29 15:19:10,377 :: INFO :: 1100 documents extracted\n",
      "2020-05-29 15:19:31,165 :: INFO :: 1200 documents extracted\n",
      "2020-05-29 15:19:51,058 :: INFO :: 1300 documents extracted\n",
      "2020-05-29 15:20:18,389 :: INFO :: 1400 documents extracted\n",
      "2020-05-29 15:20:34,301 :: INFO :: 1500 documents extracted\n",
      "2020-05-29 15:20:50,863 :: INFO :: 1600 documents extracted\n",
      "2020-05-29 15:21:07,977 :: INFO :: 1700 documents extracted\n",
      "2020-05-29 15:21:32,192 :: INFO :: 1800 documents extracted\n",
      "2020-05-29 15:21:52,118 :: INFO :: 1900 documents extracted\n",
      "2020-05-29 15:22:11,984 :: INFO :: 2000 documents extracted\n",
      "2020-05-29 15:22:31,654 :: INFO :: Screening done!\n",
      "2020-05-29 15:22:31,656 :: INFO :: 2045 documents extracted in total.\n",
      "2020-05-29 15:22:49,229 :: INFO :: 100 documents extracted\n",
      "2020-05-29 15:23:05,730 :: INFO :: 200 documents extracted\n",
      "2020-05-29 15:23:32,484 :: INFO :: 300 documents extracted\n",
      "2020-05-29 15:23:56,563 :: INFO :: 400 documents extracted\n",
      "2020-05-29 15:24:29,311 :: INFO :: 500 documents extracted\n",
      "2020-05-29 15:24:44,822 :: INFO :: 600 documents extracted\n",
      "2020-05-29 15:25:09,058 :: INFO :: 700 documents extracted\n",
      "2020-05-29 15:25:46,388 :: INFO :: 800 documents extracted\n",
      "2020-05-29 15:26:00,156 :: INFO :: 900 documents extracted\n",
      "2020-05-29 15:26:24,758 :: INFO :: 1000 documents extracted\n",
      "2020-05-29 15:26:52,139 :: INFO :: 1100 documents extracted\n",
      "2020-05-29 15:27:07,275 :: INFO :: 1200 documents extracted\n",
      "2020-05-29 15:27:23,544 :: INFO :: 1300 documents extracted\n",
      "2020-05-29 15:28:06,007 :: INFO :: 1400 documents extracted\n",
      "2020-05-29 15:28:20,033 :: INFO :: 1500 documents extracted\n",
      "2020-05-29 15:28:54,609 :: INFO :: 1600 documents extracted\n",
      "2020-05-29 15:29:08,352 :: INFO :: 1700 documents extracted\n",
      "2020-05-29 15:29:22,234 :: INFO :: 1800 documents extracted\n",
      "2020-05-29 15:29:45,787 :: INFO :: 1900 documents extracted\n",
      "2020-05-29 15:30:19,939 :: INFO :: 2000 documents extracted\n",
      "2020-05-29 15:30:46,715 :: INFO :: Screening done!\n",
      "2020-05-29 15:30:46,717 :: INFO :: 2097 documents extracted in total.\n",
      "2020-05-29 15:31:04,853 :: INFO :: 100 documents extracted\n",
      "2020-05-29 15:31:33,197 :: INFO :: 200 documents extracted\n",
      "2020-05-29 15:31:49,172 :: INFO :: 300 documents extracted\n",
      "2020-05-29 15:32:03,718 :: INFO :: 400 documents extracted\n",
      "2020-05-29 15:32:14,738 :: INFO :: 500 documents extracted\n",
      "2020-05-29 15:32:59,392 :: INFO :: 600 documents extracted\n",
      "2020-05-29 15:33:12,820 :: INFO :: 700 documents extracted\n",
      "2020-05-29 15:33:26,634 :: INFO :: 800 documents extracted\n",
      "2020-05-29 15:33:36,416 :: INFO :: 900 documents extracted\n",
      "2020-05-29 15:33:47,775 :: INFO :: 1000 documents extracted\n",
      "2020-05-29 15:34:30,390 :: INFO :: 1100 documents extracted\n",
      "2020-05-29 15:34:42,605 :: INFO :: 1200 documents extracted\n",
      "2020-05-29 15:35:24,866 :: INFO :: Screening done!\n",
      "2020-05-29 15:35:24,867 :: INFO :: 1281 documents extracted in total.\n",
      "2020-05-29 15:35:27,077 :: INFO :: Screening done!\n",
      "2020-05-29 15:35:27,082 :: INFO :: 17 documents extracted in total.\n"
     ]
    }
   ],
   "source": [
    "extract_meeting_protocols_reichstag(protocols_1,1)\n",
    "extract_meeting_protocols_reichstag(protocols_2,2)\n",
    "extract_meeting_protocols_reichstag(protocols_3,3)\n",
    "extract_meeting_protocols_reichstag(protocols_4,4)"
   ]
  }
 ],
 "metadata": {
  "kernelspec": {
   "display_name": "Python (master)",
   "language": "python",
   "name": "master"
  },
  "language_info": {
   "codemirror_mode": {
    "name": "ipython",
    "version": 3
   },
   "file_extension": ".py",
   "mimetype": "text/x-python",
   "name": "python",
   "nbconvert_exporter": "python",
   "pygments_lexer": "ipython3",
   "version": "3.6.7"
  }
 },
 "nbformat": 4,
 "nbformat_minor": 2
}
